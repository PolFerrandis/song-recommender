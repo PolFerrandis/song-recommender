{
 "cells": [
  {
   "cell_type": "markdown",
   "id": "fefb8d88",
   "metadata": {},
   "source": [
    "# Lab | Web Scraping Single Page"
   ]
  },
  {
   "cell_type": "markdown",
   "id": "40c6811d",
   "metadata": {},
   "source": [
    "## Scraping the top 100 songs\n",
    "\n",
    "We´ll start by going to https://www.billboard.com/charts/hot-100/ and Scraping the current top 100 songs and their respective artist."
   ]
  },
  {
   "cell_type": "code",
   "execution_count": 1,
   "id": "9c8b16ad",
   "metadata": {},
   "outputs": [],
   "source": [
    "# Importing libraries- BeautifulSoup, requests, pandas\n",
    "import pandas as pd\n",
    "from bs4 import BeautifulSoup\n",
    "import re\n",
    "import requests\n",
    "import random"
   ]
  },
  {
   "cell_type": "code",
   "execution_count": 2,
   "id": "e13fcd12",
   "metadata": {},
   "outputs": [],
   "source": [
    "# Find url and store it in a variable\n",
    "url=\"https://www.billboard.com/charts/hot-100/\""
   ]
  },
  {
   "cell_type": "code",
   "execution_count": 3,
   "id": "766327fd",
   "metadata": {},
   "outputs": [],
   "source": [
    "# download html with a get request\n",
    "response = requests.get(url)"
   ]
  },
  {
   "cell_type": "code",
   "execution_count": 4,
   "id": "a979a796",
   "metadata": {},
   "outputs": [
    {
     "data": {
      "text/plain": [
       "200"
      ]
     },
     "execution_count": 4,
     "metadata": {},
     "output_type": "execute_result"
    }
   ],
   "source": [
    "#check response status code \n",
    "response.status_code"
   ]
  },
  {
   "cell_type": "code",
   "execution_count": 5,
   "id": "8b5f331a",
   "metadata": {},
   "outputs": [],
   "source": [
    "#parse and store the contents of the url call\n",
    "soup=BeautifulSoup(response.content,'html.parser')"
   ]
  },
  {
   "cell_type": "markdown",
   "id": "92ef395d",
   "metadata": {},
   "source": [
    "### Query the soup to get song title and artist"
   ]
  },
  {
   "cell_type": "code",
   "execution_count": 6,
   "id": "eac17084",
   "metadata": {},
   "outputs": [
    {
     "data": {
      "text/plain": [
       "'Easy On Me'"
      ]
     },
     "execution_count": 6,
     "metadata": {},
     "output_type": "execute_result"
    }
   ],
   "source": [
    "# getting song title\n",
    "\n",
    "soup.select('h3.c-title.a-no-trucate')[0].get_text(strip=True)"
   ]
  },
  {
   "cell_type": "code",
   "execution_count": 7,
   "id": "4afa6241",
   "metadata": {},
   "outputs": [
    {
     "data": {
      "text/plain": [
       "'Adele'"
      ]
     },
     "execution_count": 7,
     "metadata": {},
     "output_type": "execute_result"
    }
   ],
   "source": [
    "# getting artist\n",
    "\n",
    "soup.select('span.c-label.a-font-primary-s')[0].get_text(strip=True)"
   ]
  },
  {
   "cell_type": "code",
   "execution_count": 8,
   "id": "9f237e5a",
   "metadata": {},
   "outputs": [
    {
     "data": {
      "text/plain": [
       "100"
      ]
     },
     "execution_count": 8,
     "metadata": {},
     "output_type": "execute_result"
    }
   ],
   "source": [
    "songs = len(soup.select('h3.c-title.a-no-trucate'))\n",
    "songs"
   ]
  },
  {
   "cell_type": "code",
   "execution_count": 9,
   "id": "11a64341",
   "metadata": {},
   "outputs": [],
   "source": [
    "from tqdm.notebook import tqdm"
   ]
  },
  {
   "cell_type": "code",
   "execution_count": 10,
   "id": "403e614f",
   "metadata": {},
   "outputs": [
    {
     "data": {
      "application/vnd.jupyter.widget-view+json": {
       "model_id": "2691d6f3bf0b4eefb8ed43d62190eaef",
       "version_major": 2,
       "version_minor": 0
      },
      "text/plain": [
       "  0%|          | 0/100 [00:00<?, ?it/s]"
      ]
     },
     "metadata": {},
     "output_type": "display_data"
    }
   ],
   "source": [
    "song=[]\n",
    "artist=[]\n",
    "last_week=[]\n",
    "peak_list=[]\n",
    "weeks_on_chart=[]\n",
    "\n",
    "for i in tqdm (range(songs)):\n",
    "    song.append(soup.select('h3.c-title.a-no-trucate')[i].get_text(strip=True))\n",
    "    artist.append(soup.select('span.c-label.a-font-primary-s')[i].get_text(strip=True))"
   ]
  },
  {
   "cell_type": "code",
   "execution_count": 11,
   "id": "b6ec93de",
   "metadata": {},
   "outputs": [],
   "source": [
    "songsdf = pd.DataFrame({'song':song,'artist':artist})"
   ]
  },
  {
   "cell_type": "code",
   "execution_count": 12,
   "id": "bd1fe7a0",
   "metadata": {},
   "outputs": [
    {
     "data": {
      "text/html": [
       "<div>\n",
       "<style scoped>\n",
       "    .dataframe tbody tr th:only-of-type {\n",
       "        vertical-align: middle;\n",
       "    }\n",
       "\n",
       "    .dataframe tbody tr th {\n",
       "        vertical-align: top;\n",
       "    }\n",
       "\n",
       "    .dataframe thead th {\n",
       "        text-align: right;\n",
       "    }\n",
       "</style>\n",
       "<table border=\"1\" class=\"dataframe\">\n",
       "  <thead>\n",
       "    <tr style=\"text-align: right;\">\n",
       "      <th></th>\n",
       "      <th>song</th>\n",
       "      <th>artist</th>\n",
       "    </tr>\n",
       "  </thead>\n",
       "  <tbody>\n",
       "    <tr>\n",
       "      <th>0</th>\n",
       "      <td>Easy On Me</td>\n",
       "      <td>Adele</td>\n",
       "    </tr>\n",
       "    <tr>\n",
       "      <th>1</th>\n",
       "      <td>Stay</td>\n",
       "      <td>The Kid LAROI &amp; Justin Bieber</td>\n",
       "    </tr>\n",
       "    <tr>\n",
       "      <th>2</th>\n",
       "      <td>Industry Baby</td>\n",
       "      <td>Lil Nas X &amp; Jack Harlow</td>\n",
       "    </tr>\n",
       "    <tr>\n",
       "      <th>3</th>\n",
       "      <td>All Too Well (Taylor's Version)</td>\n",
       "      <td>Taylor Swift</td>\n",
       "    </tr>\n",
       "    <tr>\n",
       "      <th>4</th>\n",
       "      <td>Oh My God</td>\n",
       "      <td>Adele</td>\n",
       "    </tr>\n",
       "  </tbody>\n",
       "</table>\n",
       "</div>"
      ],
      "text/plain": [
       "                              song                         artist\n",
       "0                       Easy On Me                          Adele\n",
       "1                             Stay  The Kid LAROI & Justin Bieber\n",
       "2                    Industry Baby        Lil Nas X & Jack Harlow\n",
       "3  All Too Well (Taylor's Version)                   Taylor Swift\n",
       "4                        Oh My God                          Adele"
      ]
     },
     "execution_count": 12,
     "metadata": {},
     "output_type": "execute_result"
    }
   ],
   "source": [
    "songsdf.head()"
   ]
  },
  {
   "cell_type": "code",
   "execution_count": 13,
   "id": "d2639dad",
   "metadata": {
    "scrolled": true
   },
   "outputs": [
    {
     "name": "stdout",
     "output_type": "stream",
     "text": [
      "<class 'pandas.core.frame.DataFrame'>\n",
      "RangeIndex: 100 entries, 0 to 99\n",
      "Data columns (total 2 columns):\n",
      " #   Column  Non-Null Count  Dtype \n",
      "---  ------  --------------  ----- \n",
      " 0   song    100 non-null    object\n",
      " 1   artist  100 non-null    object\n",
      "dtypes: object(2)\n",
      "memory usage: 1.7+ KB\n"
     ]
    }
   ],
   "source": [
    "songsdf.info()"
   ]
  },
  {
   "cell_type": "code",
   "execution_count": 14,
   "id": "57781c29",
   "metadata": {},
   "outputs": [
    {
     "data": {
      "text/html": [
       "<div>\n",
       "<style scoped>\n",
       "    .dataframe tbody tr th:only-of-type {\n",
       "        vertical-align: middle;\n",
       "    }\n",
       "\n",
       "    .dataframe tbody tr th {\n",
       "        vertical-align: top;\n",
       "    }\n",
       "\n",
       "    .dataframe thead th {\n",
       "        text-align: right;\n",
       "    }\n",
       "</style>\n",
       "<table border=\"1\" class=\"dataframe\">\n",
       "  <thead>\n",
       "    <tr style=\"text-align: right;\">\n",
       "      <th></th>\n",
       "      <th>song</th>\n",
       "      <th>artist</th>\n",
       "    </tr>\n",
       "  </thead>\n",
       "  <tbody>\n",
       "    <tr>\n",
       "      <th>0</th>\n",
       "      <td>Easy On Me</td>\n",
       "      <td>Adele</td>\n",
       "    </tr>\n",
       "    <tr>\n",
       "      <th>1</th>\n",
       "      <td>Stay</td>\n",
       "      <td>The Kid LAROI &amp; Justin Bieber</td>\n",
       "    </tr>\n",
       "    <tr>\n",
       "      <th>2</th>\n",
       "      <td>Industry Baby</td>\n",
       "      <td>Lil Nas X &amp; Jack Harlow</td>\n",
       "    </tr>\n",
       "    <tr>\n",
       "      <th>3</th>\n",
       "      <td>All Too Well (Taylor's Version)</td>\n",
       "      <td>Taylor Swift</td>\n",
       "    </tr>\n",
       "    <tr>\n",
       "      <th>4</th>\n",
       "      <td>Oh My God</td>\n",
       "      <td>Adele</td>\n",
       "    </tr>\n",
       "  </tbody>\n",
       "</table>\n",
       "</div>"
      ],
      "text/plain": [
       "                              song                         artist\n",
       "0                       Easy On Me                          Adele\n",
       "1                             Stay  The Kid LAROI & Justin Bieber\n",
       "2                    Industry Baby        Lil Nas X & Jack Harlow\n",
       "3  All Too Well (Taylor's Version)                   Taylor Swift\n",
       "4                        Oh My God                          Adele"
      ]
     },
     "execution_count": 14,
     "metadata": {},
     "output_type": "execute_result"
    }
   ],
   "source": [
    "songsdf.head()"
   ]
  },
  {
   "cell_type": "markdown",
   "id": "12de88e8",
   "metadata": {},
   "source": [
    "## Formatting the dataframe and lowercasing"
   ]
  },
  {
   "cell_type": "code",
   "execution_count": 15,
   "id": "cd802d0c",
   "metadata": {},
   "outputs": [],
   "source": [
    "songsdf[\"song\"] = songsdf[\"song\"].apply(lambda x: x.lower())\n",
    "\n",
    "songsdf[\"artist\"] = songsdf[\"artist\"].apply(lambda x: x.lower())"
   ]
  },
  {
   "cell_type": "code",
   "execution_count": 16,
   "id": "d9f0465d",
   "metadata": {},
   "outputs": [
    {
     "data": {
      "text/html": [
       "<div>\n",
       "<style scoped>\n",
       "    .dataframe tbody tr th:only-of-type {\n",
       "        vertical-align: middle;\n",
       "    }\n",
       "\n",
       "    .dataframe tbody tr th {\n",
       "        vertical-align: top;\n",
       "    }\n",
       "\n",
       "    .dataframe thead th {\n",
       "        text-align: right;\n",
       "    }\n",
       "</style>\n",
       "<table border=\"1\" class=\"dataframe\">\n",
       "  <thead>\n",
       "    <tr style=\"text-align: right;\">\n",
       "      <th></th>\n",
       "      <th>song</th>\n",
       "      <th>artist</th>\n",
       "    </tr>\n",
       "  </thead>\n",
       "  <tbody>\n",
       "    <tr>\n",
       "      <th>0</th>\n",
       "      <td>easy on me</td>\n",
       "      <td>adele</td>\n",
       "    </tr>\n",
       "    <tr>\n",
       "      <th>1</th>\n",
       "      <td>stay</td>\n",
       "      <td>the kid laroi &amp; justin bieber</td>\n",
       "    </tr>\n",
       "    <tr>\n",
       "      <th>2</th>\n",
       "      <td>industry baby</td>\n",
       "      <td>lil nas x &amp; jack harlow</td>\n",
       "    </tr>\n",
       "    <tr>\n",
       "      <th>3</th>\n",
       "      <td>all too well (taylor's version)</td>\n",
       "      <td>taylor swift</td>\n",
       "    </tr>\n",
       "    <tr>\n",
       "      <th>4</th>\n",
       "      <td>oh my god</td>\n",
       "      <td>adele</td>\n",
       "    </tr>\n",
       "  </tbody>\n",
       "</table>\n",
       "</div>"
      ],
      "text/plain": [
       "                              song                         artist\n",
       "0                       easy on me                          adele\n",
       "1                             stay  the kid laroi & justin bieber\n",
       "2                    industry baby        lil nas x & jack harlow\n",
       "3  all too well (taylor's version)                   taylor swift\n",
       "4                        oh my god                          adele"
      ]
     },
     "execution_count": 16,
     "metadata": {},
     "output_type": "execute_result"
    }
   ],
   "source": [
    "songsdf.head()"
   ]
  },
  {
   "cell_type": "markdown",
   "id": "7805ab0e",
   "metadata": {},
   "source": [
    "## Creating a loop to check if song is hot or not"
   ]
  },
  {
   "cell_type": "code",
   "execution_count": 17,
   "id": "da63afd1",
   "metadata": {},
   "outputs": [
    {
     "name": "stdout",
     "output_type": "stream",
     "text": [
      "Enter a song or artist: coldplay\n",
      "You may also like this artist:  Adele\n",
      "Thanks for using the music recommender.\n"
     ]
    }
   ],
   "source": [
    "for i in songsdf[[\"song\",\"artist\"]].iterrows():\n",
    "    user_input = input(\"Enter a song or artist: \")\n",
    "    if user_input.lower() in list(songsdf[\"song\"]):\n",
    "        random_song = random.choice(songsdf[\"song\"]).title()\n",
    "        song_artist = songsdf.loc[songsdf[\"song\"] == random.choice(songsdf[\"song\"]), \"artist\"].values[0]\n",
    "        \n",
    "        print(\"You may also like this song: \", random_song, \"from\", song_artist.title())\n",
    "        print(\"Thanks for using the music recommender.\")\n",
    "        break\n",
    "    elif user_input.lower() in list(songsdf[\"artist\"]) or songsdf[\"artist\"].str.contains(user_input).any():\n",
    "        print(\"You may also like this artist: \", random.choice(songsdf[\"artist\"]).title())\n",
    "        print(\"Thanks for using the music recommender.\")\n",
    "        break\n",
    "    elif user_input not in songsdf.iterrows():\n",
    "        print(\"Sorry, we can't recommend you any song. Please try with another hot song or artist:\")\n",
    "        continue"
   ]
  }
 ],
 "metadata": {
  "kernelspec": {
   "display_name": "Python 3 (ipykernel)",
   "language": "python",
   "name": "python3"
  },
  "language_info": {
   "codemirror_mode": {
    "name": "ipython",
    "version": 3
   },
   "file_extension": ".py",
   "mimetype": "text/x-python",
   "name": "python",
   "nbconvert_exporter": "python",
   "pygments_lexer": "ipython3",
   "version": "3.8.12"
  },
  "toc": {
   "base_numbering": 1,
   "nav_menu": {},
   "number_sections": true,
   "sideBar": true,
   "skip_h1_title": false,
   "title_cell": "Table of Contents",
   "title_sidebar": "Contents",
   "toc_cell": false,
   "toc_position": {},
   "toc_section_display": true,
   "toc_window_display": false
  }
 },
 "nbformat": 4,
 "nbformat_minor": 5
}
