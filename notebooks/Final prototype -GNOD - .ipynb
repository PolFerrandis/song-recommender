{
 "cells": [
  {
   "cell_type": "markdown",
   "id": "770c3762",
   "metadata": {},
   "source": [
    "## Import Libraries"
   ]
  },
  {
   "cell_type": "code",
   "execution_count": 1,
   "id": "3406dbbb",
   "metadata": {},
   "outputs": [],
   "source": [
    "import spotipy \n",
    "from spotipy.oauth2 import SpotifyClientCredentials\n",
    "import pandas as pd\n",
    "import getpass"
   ]
  },
  {
   "cell_type": "markdown",
   "id": "eda4c447",
   "metadata": {},
   "source": [
    "##  Credentials"
   ]
  },
  {
   "cell_type": "code",
   "execution_count": 2,
   "id": "0102deee",
   "metadata": {},
   "outputs": [
    {
     "name": "stdout",
     "output_type": "stream",
     "text": [
      "client_id?········\n",
      "client_secret?········\n"
     ]
    }
   ],
   "source": [
    "client_id = str(getpass.getpass('client_id?'))\n",
    "client_secret = str(getpass.getpass('client_secret?'))"
   ]
  },
  {
   "cell_type": "code",
   "execution_count": 3,
   "id": "bf855165",
   "metadata": {},
   "outputs": [],
   "source": [
    "client_credentials_manager = SpotifyClientCredentials(client_id, client_secret)\n",
    "sp = spotipy.Spotify(client_credentials_manager = client_credentials_manager)"
   ]
  },
  {
   "cell_type": "markdown",
   "id": "ba22a20c",
   "metadata": {},
   "source": [
    "## Getting data from different playlists"
   ]
  },
  {
   "cell_type": "markdown",
   "id": "99018802",
   "metadata": {},
   "source": [
    "### Getting data from jazz playlist"
   ]
  },
  {
   "cell_type": "markdown",
   "id": "f8504150",
   "metadata": {},
   "source": [
    "https://open.spotify.com/playlist/37i9dQZF1EQqA6klNdJvwx\n",
    "\n",
    "username = Spotify\n",
    "\n",
    "playlist id = 37i9dQZF1EQqA6klNdJvwx"
   ]
  },
  {
   "cell_type": "code",
   "execution_count": 4,
   "id": "47adac14",
   "metadata": {},
   "outputs": [],
   "source": [
    "playlist1=sp.user_playlist_tracks(\"Spotify\",\"37i9dQZF1EQqA6klNdJvwx\")"
   ]
  },
  {
   "cell_type": "markdown",
   "id": "1e5012b8",
   "metadata": {},
   "source": [
    "#### Exploring data"
   ]
  },
  {
   "cell_type": "code",
   "execution_count": 5,
   "id": "17a60959",
   "metadata": {},
   "outputs": [
    {
     "data": {
      "text/plain": [
       "50"
      ]
     },
     "execution_count": 5,
     "metadata": {},
     "output_type": "execute_result"
    }
   ],
   "source": [
    "len(playlist1[\"items\"])"
   ]
  },
  {
   "cell_type": "code",
   "execution_count": 6,
   "id": "bb1cdb93",
   "metadata": {},
   "outputs": [
    {
     "data": {
      "text/plain": [
       "dict_keys(['href', 'items', 'limit', 'next', 'offset', 'previous', 'total'])"
      ]
     },
     "execution_count": 6,
     "metadata": {},
     "output_type": "execute_result"
    }
   ],
   "source": [
    "playlist1.keys()"
   ]
  },
  {
   "cell_type": "code",
   "execution_count": 7,
   "id": "01d12cd5",
   "metadata": {},
   "outputs": [
    {
     "data": {
      "text/plain": [
       "'Som vanligt'"
      ]
     },
     "execution_count": 7,
     "metadata": {},
     "output_type": "execute_result"
    }
   ],
   "source": [
    "playlist1[\"items\"][0][\"track\"][\"name\"]"
   ]
  },
  {
   "cell_type": "code",
   "execution_count": 8,
   "id": "64bc3855",
   "metadata": {},
   "outputs": [
    {
     "data": {
      "text/plain": [
       "'spotify:track:2x8BetKgW0IRTnlbKxwTiZ'"
      ]
     },
     "execution_count": 8,
     "metadata": {},
     "output_type": "execute_result"
    }
   ],
   "source": [
    "playlist1[\"items\"][0][\"track\"][\"uri\"]"
   ]
  },
  {
   "cell_type": "code",
   "execution_count": 9,
   "id": "ab6c548a",
   "metadata": {},
   "outputs": [
    {
     "data": {
      "text/plain": [
       "'2x8BetKgW0IRTnlbKxwTiZ'"
      ]
     },
     "execution_count": 9,
     "metadata": {},
     "output_type": "execute_result"
    }
   ],
   "source": [
    "playlist1[\"items\"][0][\"track\"][\"id\"]"
   ]
  },
  {
   "cell_type": "code",
   "execution_count": 10,
   "id": "5e36fad0",
   "metadata": {},
   "outputs": [
    {
     "data": {
      "text/plain": [
       "'Bo Sundström'"
      ]
     },
     "execution_count": 10,
     "metadata": {},
     "output_type": "execute_result"
    }
   ],
   "source": [
    "playlist1[\"items\"][0][\"track\"][\"artists\"][0][\"name\"]"
   ]
  },
  {
   "cell_type": "code",
   "execution_count": 11,
   "id": "cea764ba",
   "metadata": {},
   "outputs": [],
   "source": [
    "song_name=[]\n",
    "song_URI=[]\n",
    "song_ID=[]\n",
    "song_artist=[]"
   ]
  },
  {
   "cell_type": "code",
   "execution_count": 12,
   "id": "9f38b17b",
   "metadata": {},
   "outputs": [],
   "source": [
    "playlist1=playlist1[\"items\"]"
   ]
  },
  {
   "cell_type": "code",
   "execution_count": 13,
   "id": "f741d62e",
   "metadata": {},
   "outputs": [],
   "source": [
    "\n",
    "for r in playlist1:\n",
    "    song_name.append(r[\"track\"][\"name\"])\n",
    "    song_URI.append(r[\"track\"][\"uri\"])\n",
    "    song_ID.append(r[\"track\"][\"id\"])\n",
    "    song_artist.append(r[\"track\"][\"artists\"][0][\"name\"])\n",
    "    "
   ]
  },
  {
   "cell_type": "code",
   "execution_count": 14,
   "id": "d66976e0",
   "metadata": {},
   "outputs": [],
   "source": [
    "playlist1_song_info=pd.DataFrame({\"song_name\":song_name,\"song_URI\":song_URI,\"song_ID\":song_ID,\"song_artist\":song_artist})"
   ]
  },
  {
   "cell_type": "code",
   "execution_count": 15,
   "id": "df7eb3b5",
   "metadata": {},
   "outputs": [
    {
     "data": {
      "text/html": [
       "<div>\n",
       "<style scoped>\n",
       "    .dataframe tbody tr th:only-of-type {\n",
       "        vertical-align: middle;\n",
       "    }\n",
       "\n",
       "    .dataframe tbody tr th {\n",
       "        vertical-align: top;\n",
       "    }\n",
       "\n",
       "    .dataframe thead th {\n",
       "        text-align: right;\n",
       "    }\n",
       "</style>\n",
       "<table border=\"1\" class=\"dataframe\">\n",
       "  <thead>\n",
       "    <tr style=\"text-align: right;\">\n",
       "      <th></th>\n",
       "      <th>song_name</th>\n",
       "      <th>song_URI</th>\n",
       "      <th>song_ID</th>\n",
       "      <th>song_artist</th>\n",
       "    </tr>\n",
       "  </thead>\n",
       "  <tbody>\n",
       "    <tr>\n",
       "      <th>0</th>\n",
       "      <td>Som vanligt</td>\n",
       "      <td>spotify:track:2x8BetKgW0IRTnlbKxwTiZ</td>\n",
       "      <td>2x8BetKgW0IRTnlbKxwTiZ</td>\n",
       "      <td>Bo Sundström</td>\n",
       "    </tr>\n",
       "    <tr>\n",
       "      <th>1</th>\n",
       "      <td>Feeling Good</td>\n",
       "      <td>spotify:track:6Rqn2GFlmvmV4w9Ala0I1e</td>\n",
       "      <td>6Rqn2GFlmvmV4w9Ala0I1e</td>\n",
       "      <td>Nina Simone</td>\n",
       "    </tr>\n",
       "    <tr>\n",
       "      <th>2</th>\n",
       "      <td>What A Wonderful World</td>\n",
       "      <td>spotify:track:1qCQTy0fTXerET4x8VHyr9</td>\n",
       "      <td>1qCQTy0fTXerET4x8VHyr9</td>\n",
       "      <td>Louis Armstrong</td>\n",
       "    </tr>\n",
       "    <tr>\n",
       "      <th>3</th>\n",
       "      <td>Koop Island Blues</td>\n",
       "      <td>spotify:track:75sAWnVBYaaYs1mWbB05Qg</td>\n",
       "      <td>75sAWnVBYaaYs1mWbB05Qg</td>\n",
       "      <td>Koop</td>\n",
       "    </tr>\n",
       "    <tr>\n",
       "      <th>4</th>\n",
       "      <td>Skating In Central Park</td>\n",
       "      <td>spotify:track:1cpANF6zMBoFoxkoIjZHjv</td>\n",
       "      <td>1cpANF6zMBoFoxkoIjZHjv</td>\n",
       "      <td>Bill Evans</td>\n",
       "    </tr>\n",
       "  </tbody>\n",
       "</table>\n",
       "</div>"
      ],
      "text/plain": [
       "                 song_name                              song_URI  \\\n",
       "0              Som vanligt  spotify:track:2x8BetKgW0IRTnlbKxwTiZ   \n",
       "1             Feeling Good  spotify:track:6Rqn2GFlmvmV4w9Ala0I1e   \n",
       "2   What A Wonderful World  spotify:track:1qCQTy0fTXerET4x8VHyr9   \n",
       "3        Koop Island Blues  spotify:track:75sAWnVBYaaYs1mWbB05Qg   \n",
       "4  Skating In Central Park  spotify:track:1cpANF6zMBoFoxkoIjZHjv   \n",
       "\n",
       "                  song_ID      song_artist  \n",
       "0  2x8BetKgW0IRTnlbKxwTiZ     Bo Sundström  \n",
       "1  6Rqn2GFlmvmV4w9Ala0I1e      Nina Simone  \n",
       "2  1qCQTy0fTXerET4x8VHyr9  Louis Armstrong  \n",
       "3  75sAWnVBYaaYs1mWbB05Qg             Koop  \n",
       "4  1cpANF6zMBoFoxkoIjZHjv       Bill Evans  "
      ]
     },
     "execution_count": 15,
     "metadata": {},
     "output_type": "execute_result"
    }
   ],
   "source": [
    "playlist1_song_info.head()"
   ]
  },
  {
   "cell_type": "markdown",
   "id": "5c623f4e",
   "metadata": {},
   "source": [
    "### Getting data from pop playlist"
   ]
  },
  {
   "cell_type": "markdown",
   "id": "4397cce4",
   "metadata": {},
   "source": [
    "https://open.spotify.com/playlist/37i9dQZF1EQncLwOalG3K7\n",
    "\n",
    "username = Spotify\n",
    "\n",
    "playlist id = 37i9dQZF1EQncLwOalG3K7"
   ]
  },
  {
   "cell_type": "code",
   "execution_count": 16,
   "id": "4e3c8e17",
   "metadata": {},
   "outputs": [],
   "source": [
    "playlist2=sp.user_playlist_tracks(\"Spotify\",\"37i9dQZF1EQncLwOalG3K7\")"
   ]
  },
  {
   "cell_type": "code",
   "execution_count": 17,
   "id": "9cfe7beb",
   "metadata": {},
   "outputs": [
    {
     "data": {
      "text/plain": [
       "50"
      ]
     },
     "execution_count": 17,
     "metadata": {},
     "output_type": "execute_result"
    }
   ],
   "source": [
    "len(playlist2[\"items\"])"
   ]
  },
  {
   "cell_type": "code",
   "execution_count": 18,
   "id": "fdcd81a3",
   "metadata": {},
   "outputs": [],
   "source": [
    "song_name=[]\n",
    "song_URI=[]\n",
    "song_ID=[]\n",
    "song_artist=[]\n",
    "playlist2=playlist2[\"items\"]"
   ]
  },
  {
   "cell_type": "code",
   "execution_count": 19,
   "id": "1d54c904",
   "metadata": {},
   "outputs": [],
   "source": [
    "for r in playlist2:\n",
    "    song_name.append(r[\"track\"][\"name\"])\n",
    "    song_URI.append(r[\"track\"][\"uri\"])\n",
    "    song_ID.append(r[\"track\"][\"id\"])\n",
    "    song_artist.append(r[\"track\"][\"artists\"][0][\"name\"])"
   ]
  },
  {
   "cell_type": "code",
   "execution_count": 20,
   "id": "d70aabe9",
   "metadata": {},
   "outputs": [],
   "source": [
    "playlist2_song_info=pd.DataFrame({\"song_name\":song_name,\"song_URI\":song_URI,\"song_ID\":song_ID,\"song_artist\":song_artist})"
   ]
  },
  {
   "cell_type": "code",
   "execution_count": 21,
   "id": "4c502d7b",
   "metadata": {},
   "outputs": [
    {
     "data": {
      "text/html": [
       "<div>\n",
       "<style scoped>\n",
       "    .dataframe tbody tr th:only-of-type {\n",
       "        vertical-align: middle;\n",
       "    }\n",
       "\n",
       "    .dataframe tbody tr th {\n",
       "        vertical-align: top;\n",
       "    }\n",
       "\n",
       "    .dataframe thead th {\n",
       "        text-align: right;\n",
       "    }\n",
       "</style>\n",
       "<table border=\"1\" class=\"dataframe\">\n",
       "  <thead>\n",
       "    <tr style=\"text-align: right;\">\n",
       "      <th></th>\n",
       "      <th>song_name</th>\n",
       "      <th>song_URI</th>\n",
       "      <th>song_ID</th>\n",
       "      <th>song_artist</th>\n",
       "    </tr>\n",
       "  </thead>\n",
       "  <tbody>\n",
       "    <tr>\n",
       "      <th>0</th>\n",
       "      <td>Shivers</td>\n",
       "      <td>spotify:track:50nfwKoDiSYg8zOCREWAm5</td>\n",
       "      <td>50nfwKoDiSYg8zOCREWAm5</td>\n",
       "      <td>Ed Sheeran</td>\n",
       "    </tr>\n",
       "    <tr>\n",
       "      <th>1</th>\n",
       "      <td>abcdefu</td>\n",
       "      <td>spotify:track:4fouWK6XVHhzl78KzQ1UjL</td>\n",
       "      <td>4fouWK6XVHhzl78KzQ1UjL</td>\n",
       "      <td>GAYLE</td>\n",
       "    </tr>\n",
       "    <tr>\n",
       "      <th>2</th>\n",
       "      <td>traitor</td>\n",
       "      <td>spotify:track:5CZ40GBx1sQ9agT82CLQCT</td>\n",
       "      <td>5CZ40GBx1sQ9agT82CLQCT</td>\n",
       "      <td>Olivia Rodrigo</td>\n",
       "    </tr>\n",
       "    <tr>\n",
       "      <th>3</th>\n",
       "      <td>My Little Love</td>\n",
       "      <td>spotify:track:2DuPBbS5mIldXnh7Wum8Cy</td>\n",
       "      <td>2DuPBbS5mIldXnh7Wum8Cy</td>\n",
       "      <td>Adele</td>\n",
       "    </tr>\n",
       "    <tr>\n",
       "      <th>4</th>\n",
       "      <td>Bubblegum Bitch</td>\n",
       "      <td>spotify:track:1yOL7ZiXGx5ULeLoktAUAg</td>\n",
       "      <td>1yOL7ZiXGx5ULeLoktAUAg</td>\n",
       "      <td>MARINA</td>\n",
       "    </tr>\n",
       "  </tbody>\n",
       "</table>\n",
       "</div>"
      ],
      "text/plain": [
       "         song_name                              song_URI  \\\n",
       "0          Shivers  spotify:track:50nfwKoDiSYg8zOCREWAm5   \n",
       "1          abcdefu  spotify:track:4fouWK6XVHhzl78KzQ1UjL   \n",
       "2          traitor  spotify:track:5CZ40GBx1sQ9agT82CLQCT   \n",
       "3   My Little Love  spotify:track:2DuPBbS5mIldXnh7Wum8Cy   \n",
       "4  Bubblegum Bitch  spotify:track:1yOL7ZiXGx5ULeLoktAUAg   \n",
       "\n",
       "                  song_ID     song_artist  \n",
       "0  50nfwKoDiSYg8zOCREWAm5      Ed Sheeran  \n",
       "1  4fouWK6XVHhzl78KzQ1UjL           GAYLE  \n",
       "2  5CZ40GBx1sQ9agT82CLQCT  Olivia Rodrigo  \n",
       "3  2DuPBbS5mIldXnh7Wum8Cy           Adele  \n",
       "4  1yOL7ZiXGx5ULeLoktAUAg          MARINA  "
      ]
     },
     "execution_count": 21,
     "metadata": {},
     "output_type": "execute_result"
    }
   ],
   "source": [
    "playlist2_song_info.head()"
   ]
  },
  {
   "cell_type": "markdown",
   "id": "e9d69914",
   "metadata": {},
   "source": [
    "### Getting data from rock playlist"
   ]
  },
  {
   "cell_type": "markdown",
   "id": "a8b15f5c",
   "metadata": {},
   "source": [
    "https://open.spotify.com/playlist/37i9dQZF1EQpj7X7UK8OOF\n",
    "\n",
    "username = Spotify\n",
    "\n",
    "playlist id = 37i9dQZF1EQpj7X7UK8OOF"
   ]
  },
  {
   "cell_type": "code",
   "execution_count": 22,
   "id": "0bd2bab3",
   "metadata": {},
   "outputs": [],
   "source": [
    "playlist3=sp.user_playlist_tracks(\"Spotify\",\"37i9dQZF1EQpj7X7UK8OOF\")"
   ]
  },
  {
   "cell_type": "code",
   "execution_count": 23,
   "id": "8bfca321",
   "metadata": {},
   "outputs": [
    {
     "data": {
      "text/plain": [
       "50"
      ]
     },
     "execution_count": 23,
     "metadata": {},
     "output_type": "execute_result"
    }
   ],
   "source": [
    "len(playlist3[\"items\"])"
   ]
  },
  {
   "cell_type": "code",
   "execution_count": 24,
   "id": "0e14d271",
   "metadata": {},
   "outputs": [],
   "source": [
    "song_name=[]\n",
    "song_URI=[]\n",
    "song_ID=[]\n",
    "song_artist=[]\n",
    "playlist3=playlist3[\"items\"]"
   ]
  },
  {
   "cell_type": "code",
   "execution_count": 25,
   "id": "dc3e0e2c",
   "metadata": {},
   "outputs": [],
   "source": [
    "for r in playlist3:\n",
    "    song_name.append(r[\"track\"][\"name\"])\n",
    "    song_URI.append(r[\"track\"][\"uri\"])\n",
    "    song_ID.append(r[\"track\"][\"id\"])\n",
    "    song_artist.append(r[\"track\"][\"artists\"][0][\"name\"])"
   ]
  },
  {
   "cell_type": "code",
   "execution_count": 26,
   "id": "07c98807",
   "metadata": {},
   "outputs": [],
   "source": [
    "playlist3_song_info=pd.DataFrame({\"song_name\":song_name,\"song_URI\":song_URI,\"song_ID\":song_ID,\"song_artist\":song_artist})"
   ]
  },
  {
   "cell_type": "code",
   "execution_count": 27,
   "id": "b47c2ac5",
   "metadata": {},
   "outputs": [
    {
     "data": {
      "text/html": [
       "<div>\n",
       "<style scoped>\n",
       "    .dataframe tbody tr th:only-of-type {\n",
       "        vertical-align: middle;\n",
       "    }\n",
       "\n",
       "    .dataframe tbody tr th {\n",
       "        vertical-align: top;\n",
       "    }\n",
       "\n",
       "    .dataframe thead th {\n",
       "        text-align: right;\n",
       "    }\n",
       "</style>\n",
       "<table border=\"1\" class=\"dataframe\">\n",
       "  <thead>\n",
       "    <tr style=\"text-align: right;\">\n",
       "      <th></th>\n",
       "      <th>song_name</th>\n",
       "      <th>song_URI</th>\n",
       "      <th>song_ID</th>\n",
       "      <th>song_artist</th>\n",
       "    </tr>\n",
       "  </thead>\n",
       "  <tbody>\n",
       "    <tr>\n",
       "      <th>0</th>\n",
       "      <td>Lounge Act - Remastered</td>\n",
       "      <td>spotify:track:6D329ZsOipmbsGEO3sr2wE</td>\n",
       "      <td>6D329ZsOipmbsGEO3sr2wE</td>\n",
       "      <td>Nirvana</td>\n",
       "    </tr>\n",
       "    <tr>\n",
       "      <th>1</th>\n",
       "      <td>Don't Stop Believin'</td>\n",
       "      <td>spotify:track:4bHsxqR3GMrXTxEPLuK5ue</td>\n",
       "      <td>4bHsxqR3GMrXTxEPLuK5ue</td>\n",
       "      <td>Journey</td>\n",
       "    </tr>\n",
       "    <tr>\n",
       "      <th>2</th>\n",
       "      <td>Dreams - 2004 Remaster</td>\n",
       "      <td>spotify:track:0ofHAoxe9vBkTCp2UQIavz</td>\n",
       "      <td>0ofHAoxe9vBkTCp2UQIavz</td>\n",
       "      <td>Fleetwood Mac</td>\n",
       "    </tr>\n",
       "    <tr>\n",
       "      <th>3</th>\n",
       "      <td>Killer Queen - Remastered 2011</td>\n",
       "      <td>spotify:track:4cIPLtg1avt2Jm3ne9S1zy</td>\n",
       "      <td>4cIPLtg1avt2Jm3ne9S1zy</td>\n",
       "      <td>Queen</td>\n",
       "    </tr>\n",
       "    <tr>\n",
       "      <th>4</th>\n",
       "      <td>You Give Love A Bad Name</td>\n",
       "      <td>spotify:track:0rmGAIH9LNJewFw7nKzZnc</td>\n",
       "      <td>0rmGAIH9LNJewFw7nKzZnc</td>\n",
       "      <td>Bon Jovi</td>\n",
       "    </tr>\n",
       "  </tbody>\n",
       "</table>\n",
       "</div>"
      ],
      "text/plain": [
       "                        song_name                              song_URI  \\\n",
       "0         Lounge Act - Remastered  spotify:track:6D329ZsOipmbsGEO3sr2wE   \n",
       "1            Don't Stop Believin'  spotify:track:4bHsxqR3GMrXTxEPLuK5ue   \n",
       "2          Dreams - 2004 Remaster  spotify:track:0ofHAoxe9vBkTCp2UQIavz   \n",
       "3  Killer Queen - Remastered 2011  spotify:track:4cIPLtg1avt2Jm3ne9S1zy   \n",
       "4        You Give Love A Bad Name  spotify:track:0rmGAIH9LNJewFw7nKzZnc   \n",
       "\n",
       "                  song_ID    song_artist  \n",
       "0  6D329ZsOipmbsGEO3sr2wE        Nirvana  \n",
       "1  4bHsxqR3GMrXTxEPLuK5ue        Journey  \n",
       "2  0ofHAoxe9vBkTCp2UQIavz  Fleetwood Mac  \n",
       "3  4cIPLtg1avt2Jm3ne9S1zy          Queen  \n",
       "4  0rmGAIH9LNJewFw7nKzZnc       Bon Jovi  "
      ]
     },
     "execution_count": 27,
     "metadata": {},
     "output_type": "execute_result"
    }
   ],
   "source": [
    "playlist3_song_info.head()"
   ]
  },
  {
   "cell_type": "code",
   "execution_count": null,
   "id": "1cb1d4e3",
   "metadata": {},
   "outputs": [],
   "source": []
  },
  {
   "cell_type": "markdown",
   "id": "916c4fec",
   "metadata": {},
   "source": [
    "### Getting data from country playlist"
   ]
  },
  {
   "cell_type": "markdown",
   "id": "69f259d3",
   "metadata": {},
   "source": [
    "https:https://open.spotify.com/playlist/5HspwceR7ZOqnC5bczZkwv\n",
    "\n",
    "username = Spotify\n",
    "\n",
    "playlist id = 5HspwceR7ZOqnC5bczZkwv"
   ]
  },
  {
   "cell_type": "code",
   "execution_count": 28,
   "id": "a9f4460d",
   "metadata": {},
   "outputs": [],
   "source": [
    "playlist4=sp.user_playlist_tracks(\"Spotify\",\"5HspwceR7ZOqnC5bczZkwv\")"
   ]
  },
  {
   "cell_type": "code",
   "execution_count": 29,
   "id": "c5cc0bad",
   "metadata": {},
   "outputs": [
    {
     "data": {
      "text/plain": [
       "10"
      ]
     },
     "execution_count": 29,
     "metadata": {},
     "output_type": "execute_result"
    }
   ],
   "source": [
    "len(playlist4[\"items\"])"
   ]
  },
  {
   "cell_type": "code",
   "execution_count": 30,
   "id": "48226309",
   "metadata": {},
   "outputs": [],
   "source": [
    "song_name=[]\n",
    "song_URI=[]\n",
    "song_ID=[]\n",
    "song_artist=[]\n",
    "playlist4=playlist4[\"items\"]"
   ]
  },
  {
   "cell_type": "code",
   "execution_count": 31,
   "id": "612e8fc4",
   "metadata": {},
   "outputs": [],
   "source": [
    "for r in playlist4:\n",
    "    song_name.append(r[\"track\"][\"name\"])\n",
    "    song_URI.append(r[\"track\"][\"uri\"])\n",
    "    song_ID.append(r[\"track\"][\"id\"])\n",
    "    song_artist.append(r[\"track\"][\"artists\"][0][\"name\"])"
   ]
  },
  {
   "cell_type": "code",
   "execution_count": 32,
   "id": "a6ab7f28",
   "metadata": {},
   "outputs": [],
   "source": [
    "playlist4_song_info=pd.DataFrame({\"song_name\":song_name,\"song_URI\":song_URI,\"song_ID\":song_ID,\"song_artist\":song_artist})"
   ]
  },
  {
   "cell_type": "code",
   "execution_count": 33,
   "id": "ca548039",
   "metadata": {
    "scrolled": true
   },
   "outputs": [
    {
     "data": {
      "text/html": [
       "<div>\n",
       "<style scoped>\n",
       "    .dataframe tbody tr th:only-of-type {\n",
       "        vertical-align: middle;\n",
       "    }\n",
       "\n",
       "    .dataframe tbody tr th {\n",
       "        vertical-align: top;\n",
       "    }\n",
       "\n",
       "    .dataframe thead th {\n",
       "        text-align: right;\n",
       "    }\n",
       "</style>\n",
       "<table border=\"1\" class=\"dataframe\">\n",
       "  <thead>\n",
       "    <tr style=\"text-align: right;\">\n",
       "      <th></th>\n",
       "      <th>song_name</th>\n",
       "      <th>song_URI</th>\n",
       "      <th>song_ID</th>\n",
       "      <th>song_artist</th>\n",
       "    </tr>\n",
       "  </thead>\n",
       "  <tbody>\n",
       "    <tr>\n",
       "      <th>0</th>\n",
       "      <td>Rock Bottom</td>\n",
       "      <td>spotify:track:7IKhMrLuFiTfnKwp43YVGN</td>\n",
       "      <td>7IKhMrLuFiTfnKwp43YVGN</td>\n",
       "      <td>Jack and the Weatherman</td>\n",
       "    </tr>\n",
       "    <tr>\n",
       "      <th>1</th>\n",
       "      <td>Sleep On The Floor</td>\n",
       "      <td>spotify:track:44uOreAESeRIBaxkuCW4wN</td>\n",
       "      <td>44uOreAESeRIBaxkuCW4wN</td>\n",
       "      <td>The Lumineers</td>\n",
       "    </tr>\n",
       "    <tr>\n",
       "      <th>2</th>\n",
       "      <td>Hold on Tight</td>\n",
       "      <td>spotify:track:14RDwuW2LrbcwUjjP4TOBh</td>\n",
       "      <td>14RDwuW2LrbcwUjjP4TOBh</td>\n",
       "      <td>Greg Holden</td>\n",
       "    </tr>\n",
       "    <tr>\n",
       "      <th>3</th>\n",
       "      <td>Just One Day</td>\n",
       "      <td>spotify:track:6LrmBaj2iSeGVm1gRK7IDg</td>\n",
       "      <td>6LrmBaj2iSeGVm1gRK7IDg</td>\n",
       "      <td>Mighty Oaks</td>\n",
       "    </tr>\n",
       "    <tr>\n",
       "      <th>4</th>\n",
       "      <td>California (Cast Iron Soul)</td>\n",
       "      <td>spotify:track:14A2dKF4O0kQD0E5CCX3Jc</td>\n",
       "      <td>14A2dKF4O0kQD0E5CCX3Jc</td>\n",
       "      <td>Jamestown Revival</td>\n",
       "    </tr>\n",
       "  </tbody>\n",
       "</table>\n",
       "</div>"
      ],
      "text/plain": [
       "                     song_name                              song_URI  \\\n",
       "0                  Rock Bottom  spotify:track:7IKhMrLuFiTfnKwp43YVGN   \n",
       "1           Sleep On The Floor  spotify:track:44uOreAESeRIBaxkuCW4wN   \n",
       "2                Hold on Tight  spotify:track:14RDwuW2LrbcwUjjP4TOBh   \n",
       "3                 Just One Day  spotify:track:6LrmBaj2iSeGVm1gRK7IDg   \n",
       "4  California (Cast Iron Soul)  spotify:track:14A2dKF4O0kQD0E5CCX3Jc   \n",
       "\n",
       "                  song_ID              song_artist  \n",
       "0  7IKhMrLuFiTfnKwp43YVGN  Jack and the Weatherman  \n",
       "1  44uOreAESeRIBaxkuCW4wN            The Lumineers  \n",
       "2  14RDwuW2LrbcwUjjP4TOBh              Greg Holden  \n",
       "3  6LrmBaj2iSeGVm1gRK7IDg              Mighty Oaks  \n",
       "4  14A2dKF4O0kQD0E5CCX3Jc        Jamestown Revival  "
      ]
     },
     "execution_count": 33,
     "metadata": {},
     "output_type": "execute_result"
    }
   ],
   "source": [
    "playlist4_song_info.head()"
   ]
  },
  {
   "cell_type": "markdown",
   "id": "22233479",
   "metadata": {},
   "source": [
    "### Getting data from hip-hop playlist"
   ]
  },
  {
   "cell_type": "markdown",
   "id": "cfc7b808",
   "metadata": {},
   "source": [
    "https://open.spotify.com/playlist/37i9dQZF1EQnqst5TRi17F\n",
    "\n",
    "username = Spotify\n",
    "\n",
    "playlist id = 37i9dQZF1EQnqst5TRi17F"
   ]
  },
  {
   "cell_type": "code",
   "execution_count": 34,
   "id": "238c8bd8",
   "metadata": {},
   "outputs": [],
   "source": [
    "playlist5=sp.user_playlist_tracks(\"Spotify\",\"37i9dQZF1EQnqst5TRi17F\")"
   ]
  },
  {
   "cell_type": "code",
   "execution_count": 35,
   "id": "71d2b5e4",
   "metadata": {},
   "outputs": [
    {
     "data": {
      "text/plain": [
       "50"
      ]
     },
     "execution_count": 35,
     "metadata": {},
     "output_type": "execute_result"
    }
   ],
   "source": [
    "len(playlist5[\"items\"])"
   ]
  },
  {
   "cell_type": "code",
   "execution_count": 36,
   "id": "2072dc48",
   "metadata": {},
   "outputs": [],
   "source": [
    "song_name=[]\n",
    "song_URI=[]\n",
    "song_ID=[]\n",
    "song_artist=[]\n",
    "playlist5=playlist5[\"items\"]"
   ]
  },
  {
   "cell_type": "code",
   "execution_count": 37,
   "id": "ce00b5fe",
   "metadata": {},
   "outputs": [],
   "source": [
    "for r in playlist5:\n",
    "    song_name.append(r[\"track\"][\"name\"])\n",
    "    song_URI.append(r[\"track\"][\"uri\"])\n",
    "    song_ID.append(r[\"track\"][\"id\"])\n",
    "    song_artist.append(r[\"track\"][\"artists\"][0][\"name\"])"
   ]
  },
  {
   "cell_type": "code",
   "execution_count": 38,
   "id": "5f0968f9",
   "metadata": {},
   "outputs": [],
   "source": [
    "playlist5_song_info=pd.DataFrame({\"song_name\":song_name,\"song_URI\":song_URI,\"song_ID\":song_ID,\"song_artist\":song_artist})"
   ]
  },
  {
   "cell_type": "code",
   "execution_count": 39,
   "id": "66f65336",
   "metadata": {
    "scrolled": true
   },
   "outputs": [
    {
     "data": {
      "text/html": [
       "<div>\n",
       "<style scoped>\n",
       "    .dataframe tbody tr th:only-of-type {\n",
       "        vertical-align: middle;\n",
       "    }\n",
       "\n",
       "    .dataframe tbody tr th {\n",
       "        vertical-align: top;\n",
       "    }\n",
       "\n",
       "    .dataframe thead th {\n",
       "        text-align: right;\n",
       "    }\n",
       "</style>\n",
       "<table border=\"1\" class=\"dataframe\">\n",
       "  <thead>\n",
       "    <tr style=\"text-align: right;\">\n",
       "      <th></th>\n",
       "      <th>song_name</th>\n",
       "      <th>song_URI</th>\n",
       "      <th>song_ID</th>\n",
       "      <th>song_artist</th>\n",
       "    </tr>\n",
       "  </thead>\n",
       "  <tbody>\n",
       "    <tr>\n",
       "      <th>0</th>\n",
       "      <td>Trapper Of The Year (Intro) - Bonus Track</td>\n",
       "      <td>spotify:track:5cKilVQ9iZamOzodVcYQZ2</td>\n",
       "      <td>5cKilVQ9iZamOzodVcYQZ2</td>\n",
       "      <td>23</td>\n",
       "    </tr>\n",
       "    <tr>\n",
       "      <th>1</th>\n",
       "      <td>TRIANGELDRAMA</td>\n",
       "      <td>spotify:track:0ntVXbLbKbgCesFWS6qRet</td>\n",
       "      <td>0ntVXbLbKbgCesFWS6qRet</td>\n",
       "      <td>Robbz x Brookz</td>\n",
       "    </tr>\n",
       "    <tr>\n",
       "      <th>2</th>\n",
       "      <td>Spiderman ( Intro )</td>\n",
       "      <td>spotify:track:6f1zuPgMf9KtmZYnqEqski</td>\n",
       "      <td>6f1zuPgMf9KtmZYnqEqski</td>\n",
       "      <td>Yasin</td>\n",
       "    </tr>\n",
       "    <tr>\n",
       "      <th>3</th>\n",
       "      <td>FAST HÄR I TRAKTEN</td>\n",
       "      <td>spotify:track:3ex4xZq0oxBYBptnPLV9cy</td>\n",
       "      <td>3ex4xZq0oxBYBptnPLV9cy</td>\n",
       "      <td>Einár</td>\n",
       "    </tr>\n",
       "    <tr>\n",
       "      <th>4</th>\n",
       "      <td>Already Dead</td>\n",
       "      <td>spotify:track:7qM1BWAsZMTYh4BcYLb0uQ</td>\n",
       "      <td>7qM1BWAsZMTYh4BcYLb0uQ</td>\n",
       "      <td>Juice WRLD</td>\n",
       "    </tr>\n",
       "  </tbody>\n",
       "</table>\n",
       "</div>"
      ],
      "text/plain": [
       "                                   song_name  \\\n",
       "0  Trapper Of The Year (Intro) - Bonus Track   \n",
       "1                              TRIANGELDRAMA   \n",
       "2                        Spiderman ( Intro )   \n",
       "3                         FAST HÄR I TRAKTEN   \n",
       "4                               Already Dead   \n",
       "\n",
       "                               song_URI                 song_ID  \\\n",
       "0  spotify:track:5cKilVQ9iZamOzodVcYQZ2  5cKilVQ9iZamOzodVcYQZ2   \n",
       "1  spotify:track:0ntVXbLbKbgCesFWS6qRet  0ntVXbLbKbgCesFWS6qRet   \n",
       "2  spotify:track:6f1zuPgMf9KtmZYnqEqski  6f1zuPgMf9KtmZYnqEqski   \n",
       "3  spotify:track:3ex4xZq0oxBYBptnPLV9cy  3ex4xZq0oxBYBptnPLV9cy   \n",
       "4  spotify:track:7qM1BWAsZMTYh4BcYLb0uQ  7qM1BWAsZMTYh4BcYLb0uQ   \n",
       "\n",
       "      song_artist  \n",
       "0              23  \n",
       "1  Robbz x Brookz  \n",
       "2           Yasin  \n",
       "3           Einár  \n",
       "4      Juice WRLD  "
      ]
     },
     "execution_count": 39,
     "metadata": {},
     "output_type": "execute_result"
    }
   ],
   "source": [
    "playlist5_song_info.head()"
   ]
  },
  {
   "cell_type": "markdown",
   "id": "30170191",
   "metadata": {},
   "source": [
    "### Getting data from Folk&Acoustic playlist"
   ]
  },
  {
   "cell_type": "markdown",
   "id": "d5eb39b1",
   "metadata": {},
   "source": [
    "https://open.spotify.com/playlist/37i9dQZF1EQp62d3Dl7ECY\n",
    "    \n",
    "username = Spotify\n",
    "\n",
    "playlist id = 37i9dQZF1EQp62d3Dl7ECY"
   ]
  },
  {
   "cell_type": "code",
   "execution_count": 40,
   "id": "0591bdf3",
   "metadata": {},
   "outputs": [],
   "source": [
    "playlist6=sp.user_playlist_tracks(\"Spotify\",\"37i9dQZF1EQp62d3Dl7ECY\")"
   ]
  },
  {
   "cell_type": "code",
   "execution_count": 41,
   "id": "5abcca26",
   "metadata": {},
   "outputs": [
    {
     "data": {
      "text/plain": [
       "50"
      ]
     },
     "execution_count": 41,
     "metadata": {},
     "output_type": "execute_result"
    }
   ],
   "source": [
    "len(playlist6[\"items\"])"
   ]
  },
  {
   "cell_type": "code",
   "execution_count": 42,
   "id": "477ea82b",
   "metadata": {},
   "outputs": [],
   "source": [
    "song_name=[]\n",
    "song_URI=[]\n",
    "song_ID=[]\n",
    "song_artist=[]\n",
    "playlist6=playlist6[\"items\"]"
   ]
  },
  {
   "cell_type": "code",
   "execution_count": 43,
   "id": "2ee87a99",
   "metadata": {},
   "outputs": [],
   "source": [
    "for r in playlist6:\n",
    "    song_name.append(r[\"track\"][\"name\"])\n",
    "    song_URI.append(r[\"track\"][\"uri\"])\n",
    "    song_ID.append(r[\"track\"][\"id\"])\n",
    "    song_artist.append(r[\"track\"][\"artists\"][0][\"name\"])"
   ]
  },
  {
   "cell_type": "code",
   "execution_count": 44,
   "id": "471e1b02",
   "metadata": {},
   "outputs": [],
   "source": [
    "playlist6_song_info=pd.DataFrame({\"song_name\":song_name,\"song_URI\":song_URI,\"song_ID\":song_ID,\"song_artist\":song_artist})"
   ]
  },
  {
   "cell_type": "code",
   "execution_count": 45,
   "id": "18f2b5e7",
   "metadata": {},
   "outputs": [
    {
     "data": {
      "text/html": [
       "<div>\n",
       "<style scoped>\n",
       "    .dataframe tbody tr th:only-of-type {\n",
       "        vertical-align: middle;\n",
       "    }\n",
       "\n",
       "    .dataframe tbody tr th {\n",
       "        vertical-align: top;\n",
       "    }\n",
       "\n",
       "    .dataframe thead th {\n",
       "        text-align: right;\n",
       "    }\n",
       "</style>\n",
       "<table border=\"1\" class=\"dataframe\">\n",
       "  <thead>\n",
       "    <tr style=\"text-align: right;\">\n",
       "      <th></th>\n",
       "      <th>song_name</th>\n",
       "      <th>song_URI</th>\n",
       "      <th>song_ID</th>\n",
       "      <th>song_artist</th>\n",
       "    </tr>\n",
       "  </thead>\n",
       "  <tbody>\n",
       "    <tr>\n",
       "      <th>0</th>\n",
       "      <td>Hey, Ma</td>\n",
       "      <td>spotify:track:0RstfX9nRY1Lfuy1808MoT</td>\n",
       "      <td>0RstfX9nRY1Lfuy1808MoT</td>\n",
       "      <td>Bon Iver</td>\n",
       "    </tr>\n",
       "    <tr>\n",
       "      <th>1</th>\n",
       "      <td>Jag saknar dig mindre och mindre</td>\n",
       "      <td>spotify:track:0atRkLynwT9JbhSQkoPdLY</td>\n",
       "      <td>0atRkLynwT9JbhSQkoPdLY</td>\n",
       "      <td>Melissa Horn</td>\n",
       "    </tr>\n",
       "    <tr>\n",
       "      <th>2</th>\n",
       "      <td>No Children</td>\n",
       "      <td>spotify:track:5cxnSTLzGD1t9xcdmJYFVB</td>\n",
       "      <td>5cxnSTLzGD1t9xcdmJYFVB</td>\n",
       "      <td>The Mountain Goats</td>\n",
       "    </tr>\n",
       "    <tr>\n",
       "      <th>3</th>\n",
       "      <td>Ta mig tillbaka - Akustisk</td>\n",
       "      <td>spotify:track:09hXwijwihPeruErHm9Gdm</td>\n",
       "      <td>09hXwijwihPeruErHm9Gdm</td>\n",
       "      <td>Darin</td>\n",
       "    </tr>\n",
       "    <tr>\n",
       "      <th>4</th>\n",
       "      <td>Little Bit of Love - Acoustic</td>\n",
       "      <td>spotify:track:302QKAtnoYMIjimp8JyDuD</td>\n",
       "      <td>302QKAtnoYMIjimp8JyDuD</td>\n",
       "      <td>Tom Grennan</td>\n",
       "    </tr>\n",
       "  </tbody>\n",
       "</table>\n",
       "</div>"
      ],
      "text/plain": [
       "                          song_name                              song_URI  \\\n",
       "0                           Hey, Ma  spotify:track:0RstfX9nRY1Lfuy1808MoT   \n",
       "1  Jag saknar dig mindre och mindre  spotify:track:0atRkLynwT9JbhSQkoPdLY   \n",
       "2                       No Children  spotify:track:5cxnSTLzGD1t9xcdmJYFVB   \n",
       "3        Ta mig tillbaka - Akustisk  spotify:track:09hXwijwihPeruErHm9Gdm   \n",
       "4     Little Bit of Love - Acoustic  spotify:track:302QKAtnoYMIjimp8JyDuD   \n",
       "\n",
       "                  song_ID         song_artist  \n",
       "0  0RstfX9nRY1Lfuy1808MoT            Bon Iver  \n",
       "1  0atRkLynwT9JbhSQkoPdLY        Melissa Horn  \n",
       "2  5cxnSTLzGD1t9xcdmJYFVB  The Mountain Goats  \n",
       "3  09hXwijwihPeruErHm9Gdm               Darin  \n",
       "4  302QKAtnoYMIjimp8JyDuD         Tom Grennan  "
      ]
     },
     "execution_count": 45,
     "metadata": {},
     "output_type": "execute_result"
    }
   ],
   "source": [
    "playlist6_song_info.head()"
   ]
  },
  {
   "cell_type": "markdown",
   "id": "4afe9525",
   "metadata": {},
   "source": [
    "### Getting data from Indie playlist"
   ]
  },
  {
   "cell_type": "markdown",
   "id": "c06d238b",
   "metadata": {},
   "source": [
    "https://open.spotify.com/playlist/37i9dQZF1EQqkOPvHGajmW\n",
    "    \n",
    "username = Spotify\n",
    "\n",
    "playlist id = 37i9dQZF1EQqkOPvHGajmW"
   ]
  },
  {
   "cell_type": "code",
   "execution_count": 46,
   "id": "4c71d80b",
   "metadata": {},
   "outputs": [],
   "source": [
    "playlist7=sp.user_playlist_tracks(\"Spotify\",\"37i9dQZF1EQqkOPvHGajmW\")"
   ]
  },
  {
   "cell_type": "code",
   "execution_count": 47,
   "id": "30f4a549",
   "metadata": {},
   "outputs": [
    {
     "data": {
      "text/plain": [
       "50"
      ]
     },
     "execution_count": 47,
     "metadata": {},
     "output_type": "execute_result"
    }
   ],
   "source": [
    "len(playlist7[\"items\"])"
   ]
  },
  {
   "cell_type": "code",
   "execution_count": 48,
   "id": "f64804b5",
   "metadata": {},
   "outputs": [],
   "source": [
    "song_name=[]\n",
    "song_URI=[]\n",
    "song_ID=[]\n",
    "song_artist=[]\n",
    "playlist7=playlist7[\"items\"]"
   ]
  },
  {
   "cell_type": "code",
   "execution_count": 49,
   "id": "124f1d6a",
   "metadata": {},
   "outputs": [],
   "source": [
    "for r in playlist7:\n",
    "    song_name.append(r[\"track\"][\"name\"])\n",
    "    song_URI.append(r[\"track\"][\"uri\"])\n",
    "    song_ID.append(r[\"track\"][\"id\"])\n",
    "    song_artist.append(r[\"track\"][\"artists\"][0][\"name\"])"
   ]
  },
  {
   "cell_type": "code",
   "execution_count": 50,
   "id": "ea0e0854",
   "metadata": {},
   "outputs": [],
   "source": [
    "playlist7_song_info=pd.DataFrame({\"song_name\":song_name,\"song_URI\":song_URI,\"song_ID\":song_ID,\"song_artist\":song_artist})"
   ]
  },
  {
   "cell_type": "code",
   "execution_count": 51,
   "id": "c80bd8e8",
   "metadata": {},
   "outputs": [
    {
     "data": {
      "text/html": [
       "<div>\n",
       "<style scoped>\n",
       "    .dataframe tbody tr th:only-of-type {\n",
       "        vertical-align: middle;\n",
       "    }\n",
       "\n",
       "    .dataframe tbody tr th {\n",
       "        vertical-align: top;\n",
       "    }\n",
       "\n",
       "    .dataframe thead th {\n",
       "        text-align: right;\n",
       "    }\n",
       "</style>\n",
       "<table border=\"1\" class=\"dataframe\">\n",
       "  <thead>\n",
       "    <tr style=\"text-align: right;\">\n",
       "      <th></th>\n",
       "      <th>song_name</th>\n",
       "      <th>song_URI</th>\n",
       "      <th>song_ID</th>\n",
       "      <th>song_artist</th>\n",
       "    </tr>\n",
       "  </thead>\n",
       "  <tbody>\n",
       "    <tr>\n",
       "      <th>0</th>\n",
       "      <td>Kids</td>\n",
       "      <td>spotify:track:1jJci4qxiYcOHhQR247rEU</td>\n",
       "      <td>1jJci4qxiYcOHhQR247rEU</td>\n",
       "      <td>MGMT</td>\n",
       "    </tr>\n",
       "    <tr>\n",
       "      <th>1</th>\n",
       "      <td>I Love You So</td>\n",
       "      <td>spotify:track:4SqWKzw0CbA05TGszDgMlc</td>\n",
       "      <td>4SqWKzw0CbA05TGszDgMlc</td>\n",
       "      <td>The Walters</td>\n",
       "    </tr>\n",
       "    <tr>\n",
       "      <th>2</th>\n",
       "      <td>Reflections</td>\n",
       "      <td>spotify:track:2xql0pid3EUwW38AsywxhV</td>\n",
       "      <td>2xql0pid3EUwW38AsywxhV</td>\n",
       "      <td>The Neighbourhood</td>\n",
       "    </tr>\n",
       "    <tr>\n",
       "      <th>3</th>\n",
       "      <td>Harness Your Hopes - B-side</td>\n",
       "      <td>spotify:track:4vsoWZcvtvSsE0OiVvDDvX</td>\n",
       "      <td>4vsoWZcvtvSsE0OiVvDDvX</td>\n",
       "      <td>Pavement</td>\n",
       "    </tr>\n",
       "    <tr>\n",
       "      <th>4</th>\n",
       "      <td>One Day</td>\n",
       "      <td>spotify:track:0IUprcNjE2hDtlvY8rq2W9</td>\n",
       "      <td>0IUprcNjE2hDtlvY8rq2W9</td>\n",
       "      <td>Lovejoy</td>\n",
       "    </tr>\n",
       "  </tbody>\n",
       "</table>\n",
       "</div>"
      ],
      "text/plain": [
       "                     song_name                              song_URI  \\\n",
       "0                         Kids  spotify:track:1jJci4qxiYcOHhQR247rEU   \n",
       "1                I Love You So  spotify:track:4SqWKzw0CbA05TGszDgMlc   \n",
       "2                  Reflections  spotify:track:2xql0pid3EUwW38AsywxhV   \n",
       "3  Harness Your Hopes - B-side  spotify:track:4vsoWZcvtvSsE0OiVvDDvX   \n",
       "4                      One Day  spotify:track:0IUprcNjE2hDtlvY8rq2W9   \n",
       "\n",
       "                  song_ID        song_artist  \n",
       "0  1jJci4qxiYcOHhQR247rEU               MGMT  \n",
       "1  4SqWKzw0CbA05TGszDgMlc        The Walters  \n",
       "2  2xql0pid3EUwW38AsywxhV  The Neighbourhood  \n",
       "3  4vsoWZcvtvSsE0OiVvDDvX           Pavement  \n",
       "4  0IUprcNjE2hDtlvY8rq2W9            Lovejoy  "
      ]
     },
     "execution_count": 51,
     "metadata": {},
     "output_type": "execute_result"
    }
   ],
   "source": [
    "playlist7_song_info.head()"
   ]
  },
  {
   "cell_type": "markdown",
   "id": "03cc7d56",
   "metadata": {},
   "source": [
    "### Getting data from large mixed playlist "
   ]
  },
  {
   "cell_type": "markdown",
   "id": "e7582d5f",
   "metadata": {},
   "source": [
    "https://open.spotify.com/playlist/4uoPRLaoEtvHXuoTuIM387\n",
    "\n",
    "username = Jake Sinclair\n",
    "\n",
    "playlist id = 4uoPRLaoEtvHXuoTuIM387"
   ]
  },
  {
   "cell_type": "code",
   "execution_count": 52,
   "id": "42c33ca4",
   "metadata": {},
   "outputs": [],
   "source": [
    "playlist8=sp.user_playlist_tracks(\"Spotify\",\"4uoPRLaoEtvHXuoTuIM387\")"
   ]
  },
  {
   "cell_type": "code",
   "execution_count": 53,
   "id": "87898c1a",
   "metadata": {},
   "outputs": [
    {
     "data": {
      "text/plain": [
       "100"
      ]
     },
     "execution_count": 53,
     "metadata": {},
     "output_type": "execute_result"
    }
   ],
   "source": [
    "len(playlist8[\"items\"])"
   ]
  },
  {
   "cell_type": "code",
   "execution_count": 54,
   "id": "c53a2094",
   "metadata": {},
   "outputs": [],
   "source": [
    "# function which handles more than 100 results\n",
    "def get_playlist_tracks(user_id,playlist_id):\n",
    "    results=sp.user_playlist_tracks(user_id,playlist_id)\n",
    "    tracks=results[\"items\"]\n",
    "    while results[\"next\"]:\n",
    "        results = sp.next(results)\n",
    "        tracks.extend(results[\"items\"])\n",
    "    return tracks"
   ]
  },
  {
   "cell_type": "code",
   "execution_count": 55,
   "id": "6a320b84",
   "metadata": {},
   "outputs": [],
   "source": [
    "playlist8_1=get_playlist_tracks(\"Spotify\",\"4uoPRLaoEtvHXuoTuIM387\")"
   ]
  },
  {
   "cell_type": "code",
   "execution_count": 56,
   "id": "f82d2fcb",
   "metadata": {},
   "outputs": [
    {
     "data": {
      "text/plain": [
       "1608"
      ]
     },
     "execution_count": 56,
     "metadata": {},
     "output_type": "execute_result"
    }
   ],
   "source": [
    "len(playlist8_1)"
   ]
  },
  {
   "cell_type": "code",
   "execution_count": 57,
   "id": "3e79fb2d",
   "metadata": {},
   "outputs": [],
   "source": [
    "song_name=[]\n",
    "song_URI=[]\n",
    "song_ID=[]\n",
    "song_artist=[]\n",
    "playlist=playlist8_1"
   ]
  },
  {
   "cell_type": "code",
   "execution_count": 58,
   "id": "284e6efa",
   "metadata": {},
   "outputs": [],
   "source": [
    "for r in playlist8_1:\n",
    "    song_name.append(r[\"track\"][\"name\"])\n",
    "    song_ID.append(r[\"track\"][\"id\"])\n",
    "    song_URI.append(r[\"track\"][\"uri\"])\n",
    "    song_artist.append(r[\"track\"][\"artists\"][0][\"name\"])"
   ]
  },
  {
   "cell_type": "code",
   "execution_count": 59,
   "id": "94dffe58",
   "metadata": {},
   "outputs": [],
   "source": [
    "playlist8_song_info=pd.DataFrame({\"song_name\":song_name,\"song_URI\":song_URI,\"song_ID\":song_ID,\"song_artist\":song_artist})"
   ]
  },
  {
   "cell_type": "code",
   "execution_count": 60,
   "id": "dba10f22",
   "metadata": {},
   "outputs": [
    {
     "data": {
      "text/html": [
       "<div>\n",
       "<style scoped>\n",
       "    .dataframe tbody tr th:only-of-type {\n",
       "        vertical-align: middle;\n",
       "    }\n",
       "\n",
       "    .dataframe tbody tr th {\n",
       "        vertical-align: top;\n",
       "    }\n",
       "\n",
       "    .dataframe thead th {\n",
       "        text-align: right;\n",
       "    }\n",
       "</style>\n",
       "<table border=\"1\" class=\"dataframe\">\n",
       "  <thead>\n",
       "    <tr style=\"text-align: right;\">\n",
       "      <th></th>\n",
       "      <th>song_name</th>\n",
       "      <th>song_URI</th>\n",
       "      <th>song_ID</th>\n",
       "      <th>song_artist</th>\n",
       "    </tr>\n",
       "  </thead>\n",
       "  <tbody>\n",
       "    <tr>\n",
       "      <th>0</th>\n",
       "      <td>Naive</td>\n",
       "      <td>spotify:track:7BHPGtpuuWWsvE7cCaMuEU</td>\n",
       "      <td>7BHPGtpuuWWsvE7cCaMuEU</td>\n",
       "      <td>The Kooks</td>\n",
       "    </tr>\n",
       "    <tr>\n",
       "      <th>1</th>\n",
       "      <td>Broken Arrows</td>\n",
       "      <td>spotify:track:3ZoQQ6WKyt2Gu58VoHTPd3</td>\n",
       "      <td>3ZoQQ6WKyt2Gu58VoHTPd3</td>\n",
       "      <td>Avicii</td>\n",
       "    </tr>\n",
       "    <tr>\n",
       "      <th>2</th>\n",
       "      <td>Fallout</td>\n",
       "      <td>spotify:track:2PAeLLcnw42x5ZszOfFz50</td>\n",
       "      <td>2PAeLLcnw42x5ZszOfFz50</td>\n",
       "      <td>Catfish and the Bottlemen</td>\n",
       "    </tr>\n",
       "    <tr>\n",
       "      <th>3</th>\n",
       "      <td>She Moves In Her Own Way</td>\n",
       "      <td>spotify:track:5xoUgPXbMNUmoHU0Enwtwq</td>\n",
       "      <td>5xoUgPXbMNUmoHU0Enwtwq</td>\n",
       "      <td>The Kooks</td>\n",
       "    </tr>\n",
       "    <tr>\n",
       "      <th>4</th>\n",
       "      <td>Mr. Brightside</td>\n",
       "      <td>spotify:track:4L3sku3mPh6uWGNA63VCgu</td>\n",
       "      <td>4L3sku3mPh6uWGNA63VCgu</td>\n",
       "      <td>The Killers</td>\n",
       "    </tr>\n",
       "  </tbody>\n",
       "</table>\n",
       "</div>"
      ],
      "text/plain": [
       "                  song_name                              song_URI  \\\n",
       "0                     Naive  spotify:track:7BHPGtpuuWWsvE7cCaMuEU   \n",
       "1             Broken Arrows  spotify:track:3ZoQQ6WKyt2Gu58VoHTPd3   \n",
       "2                   Fallout  spotify:track:2PAeLLcnw42x5ZszOfFz50   \n",
       "3  She Moves In Her Own Way  spotify:track:5xoUgPXbMNUmoHU0Enwtwq   \n",
       "4            Mr. Brightside  spotify:track:4L3sku3mPh6uWGNA63VCgu   \n",
       "\n",
       "                  song_ID                song_artist  \n",
       "0  7BHPGtpuuWWsvE7cCaMuEU                  The Kooks  \n",
       "1  3ZoQQ6WKyt2Gu58VoHTPd3                     Avicii  \n",
       "2  2PAeLLcnw42x5ZszOfFz50  Catfish and the Bottlemen  \n",
       "3  5xoUgPXbMNUmoHU0Enwtwq                  The Kooks  \n",
       "4  4L3sku3mPh6uWGNA63VCgu                The Killers  "
      ]
     },
     "execution_count": 60,
     "metadata": {},
     "output_type": "execute_result"
    }
   ],
   "source": [
    "playlist8_song_info.head()"
   ]
  },
  {
   "cell_type": "code",
   "execution_count": null,
   "id": "8ac46013",
   "metadata": {},
   "outputs": [],
   "source": []
  },
  {
   "cell_type": "markdown",
   "id": "9b037cf3",
   "metadata": {},
   "source": [
    "## Concatenate 8 dataframes/playlists"
   ]
  },
  {
   "cell_type": "code",
   "execution_count": 61,
   "id": "3ae2ace9",
   "metadata": {},
   "outputs": [],
   "source": [
    "full_playlist=pd.concat([playlist1_song_info,playlist2_song_info,playlist3_song_info,playlist4_song_info,playlist5_song_info,playlist6_song_info,playlist7_song_info,playlist8_song_info], join=\"inner\")"
   ]
  },
  {
   "cell_type": "code",
   "execution_count": 62,
   "id": "c4e01eef",
   "metadata": {},
   "outputs": [],
   "source": [
    "full_playlist.reset_index(drop=True, inplace=True)"
   ]
  },
  {
   "cell_type": "code",
   "execution_count": 63,
   "id": "45d8b1c8",
   "metadata": {},
   "outputs": [
    {
     "name": "stdout",
     "output_type": "stream",
     "text": [
      "<class 'pandas.core.frame.DataFrame'>\n",
      "RangeIndex: 1918 entries, 0 to 1917\n",
      "Data columns (total 4 columns):\n",
      " #   Column       Non-Null Count  Dtype \n",
      "---  ------       --------------  ----- \n",
      " 0   song_name    1918 non-null   object\n",
      " 1   song_URI     1918 non-null   object\n",
      " 2   song_ID      1917 non-null   object\n",
      " 3   song_artist  1918 non-null   object\n",
      "dtypes: object(4)\n",
      "memory usage: 60.1+ KB\n"
     ]
    }
   ],
   "source": [
    "full_playlist.info()"
   ]
  },
  {
   "cell_type": "markdown",
   "id": "ad97f64a",
   "metadata": {},
   "source": [
    "## Clean new dataframe"
   ]
  },
  {
   "cell_type": "code",
   "execution_count": 64,
   "id": "41d0ea30",
   "metadata": {},
   "outputs": [
    {
     "data": {
      "text/plain": [
       "song_name      0\n",
       "song_URI       0\n",
       "song_ID        1\n",
       "song_artist    0\n",
       "dtype: int64"
      ]
     },
     "execution_count": 64,
     "metadata": {},
     "output_type": "execute_result"
    }
   ],
   "source": [
    "full_playlist.isnull().sum()"
   ]
  },
  {
   "cell_type": "code",
   "execution_count": 65,
   "id": "3d5c29ba",
   "metadata": {},
   "outputs": [],
   "source": [
    "# drop nulls\n",
    "full_playlist.dropna(subset=['song_ID'], inplace=True)"
   ]
  },
  {
   "cell_type": "code",
   "execution_count": 66,
   "id": "b16f4f63",
   "metadata": {},
   "outputs": [
    {
     "name": "stdout",
     "output_type": "stream",
     "text": [
      "<class 'pandas.core.frame.DataFrame'>\n",
      "Int64Index: 1917 entries, 0 to 1917\n",
      "Data columns (total 4 columns):\n",
      " #   Column       Non-Null Count  Dtype \n",
      "---  ------       --------------  ----- \n",
      " 0   song_name    1917 non-null   object\n",
      " 1   song_URI     1917 non-null   object\n",
      " 2   song_ID      1917 non-null   object\n",
      " 3   song_artist  1917 non-null   object\n",
      "dtypes: object(4)\n",
      "memory usage: 74.9+ KB\n"
     ]
    }
   ],
   "source": [
    "full_playlist.info()"
   ]
  },
  {
   "cell_type": "code",
   "execution_count": 67,
   "id": "2fd6704f",
   "metadata": {},
   "outputs": [
    {
     "data": {
      "text/plain": [
       "True"
      ]
     },
     "execution_count": 67,
     "metadata": {},
     "output_type": "execute_result"
    }
   ],
   "source": [
    "# check for repeated songs\n",
    "full_playlist['song_name'].duplicated().any()"
   ]
  },
  {
   "cell_type": "code",
   "execution_count": 68,
   "id": "d944317d",
   "metadata": {},
   "outputs": [
    {
     "data": {
      "text/plain": [
       "116"
      ]
     },
     "execution_count": 68,
     "metadata": {},
     "output_type": "execute_result"
    }
   ],
   "source": [
    "# count duplicated values\n",
    "full_playlist.duplicated(subset='song_name', keep='first').sum()"
   ]
  },
  {
   "cell_type": "code",
   "execution_count": 69,
   "id": "db8ca571",
   "metadata": {},
   "outputs": [],
   "source": [
    "# drop duplicates songs \n",
    "full_playlist=full_playlist.drop_duplicates(subset = 'song_name', keep = 'first')"
   ]
  },
  {
   "cell_type": "code",
   "execution_count": 70,
   "id": "02832436",
   "metadata": {},
   "outputs": [],
   "source": [
    "full_playlist.reset_index(drop=True, inplace=True)"
   ]
  },
  {
   "cell_type": "code",
   "execution_count": 71,
   "id": "65349a5e",
   "metadata": {},
   "outputs": [
    {
     "name": "stdout",
     "output_type": "stream",
     "text": [
      "<class 'pandas.core.frame.DataFrame'>\n",
      "RangeIndex: 1801 entries, 0 to 1800\n",
      "Data columns (total 4 columns):\n",
      " #   Column       Non-Null Count  Dtype \n",
      "---  ------       --------------  ----- \n",
      " 0   song_name    1801 non-null   object\n",
      " 1   song_URI     1801 non-null   object\n",
      " 2   song_ID      1801 non-null   object\n",
      " 3   song_artist  1801 non-null   object\n",
      "dtypes: object(4)\n",
      "memory usage: 56.4+ KB\n"
     ]
    }
   ],
   "source": [
    "full_playlist.info()"
   ]
  },
  {
   "cell_type": "code",
   "execution_count": 72,
   "id": "78731e97",
   "metadata": {},
   "outputs": [
    {
     "data": {
      "text/html": [
       "<div>\n",
       "<style scoped>\n",
       "    .dataframe tbody tr th:only-of-type {\n",
       "        vertical-align: middle;\n",
       "    }\n",
       "\n",
       "    .dataframe tbody tr th {\n",
       "        vertical-align: top;\n",
       "    }\n",
       "\n",
       "    .dataframe thead th {\n",
       "        text-align: right;\n",
       "    }\n",
       "</style>\n",
       "<table border=\"1\" class=\"dataframe\">\n",
       "  <thead>\n",
       "    <tr style=\"text-align: right;\">\n",
       "      <th></th>\n",
       "      <th>song_name</th>\n",
       "      <th>song_URI</th>\n",
       "      <th>song_ID</th>\n",
       "      <th>song_artist</th>\n",
       "    </tr>\n",
       "  </thead>\n",
       "  <tbody>\n",
       "    <tr>\n",
       "      <th>0</th>\n",
       "      <td>Som vanligt</td>\n",
       "      <td>spotify:track:2x8BetKgW0IRTnlbKxwTiZ</td>\n",
       "      <td>2x8BetKgW0IRTnlbKxwTiZ</td>\n",
       "      <td>Bo Sundström</td>\n",
       "    </tr>\n",
       "    <tr>\n",
       "      <th>1</th>\n",
       "      <td>Feeling Good</td>\n",
       "      <td>spotify:track:6Rqn2GFlmvmV4w9Ala0I1e</td>\n",
       "      <td>6Rqn2GFlmvmV4w9Ala0I1e</td>\n",
       "      <td>Nina Simone</td>\n",
       "    </tr>\n",
       "    <tr>\n",
       "      <th>2</th>\n",
       "      <td>What A Wonderful World</td>\n",
       "      <td>spotify:track:1qCQTy0fTXerET4x8VHyr9</td>\n",
       "      <td>1qCQTy0fTXerET4x8VHyr9</td>\n",
       "      <td>Louis Armstrong</td>\n",
       "    </tr>\n",
       "    <tr>\n",
       "      <th>3</th>\n",
       "      <td>Koop Island Blues</td>\n",
       "      <td>spotify:track:75sAWnVBYaaYs1mWbB05Qg</td>\n",
       "      <td>75sAWnVBYaaYs1mWbB05Qg</td>\n",
       "      <td>Koop</td>\n",
       "    </tr>\n",
       "    <tr>\n",
       "      <th>4</th>\n",
       "      <td>Skating In Central Park</td>\n",
       "      <td>spotify:track:1cpANF6zMBoFoxkoIjZHjv</td>\n",
       "      <td>1cpANF6zMBoFoxkoIjZHjv</td>\n",
       "      <td>Bill Evans</td>\n",
       "    </tr>\n",
       "  </tbody>\n",
       "</table>\n",
       "</div>"
      ],
      "text/plain": [
       "                 song_name                              song_URI  \\\n",
       "0              Som vanligt  spotify:track:2x8BetKgW0IRTnlbKxwTiZ   \n",
       "1             Feeling Good  spotify:track:6Rqn2GFlmvmV4w9Ala0I1e   \n",
       "2   What A Wonderful World  spotify:track:1qCQTy0fTXerET4x8VHyr9   \n",
       "3        Koop Island Blues  spotify:track:75sAWnVBYaaYs1mWbB05Qg   \n",
       "4  Skating In Central Park  spotify:track:1cpANF6zMBoFoxkoIjZHjv   \n",
       "\n",
       "                  song_ID      song_artist  \n",
       "0  2x8BetKgW0IRTnlbKxwTiZ     Bo Sundström  \n",
       "1  6Rqn2GFlmvmV4w9Ala0I1e      Nina Simone  \n",
       "2  1qCQTy0fTXerET4x8VHyr9  Louis Armstrong  \n",
       "3  75sAWnVBYaaYs1mWbB05Qg             Koop  \n",
       "4  1cpANF6zMBoFoxkoIjZHjv       Bill Evans  "
      ]
     },
     "execution_count": 72,
     "metadata": {},
     "output_type": "execute_result"
    }
   ],
   "source": [
    "full_playlist.head()"
   ]
  },
  {
   "cell_type": "markdown",
   "id": "ae6c5596",
   "metadata": {},
   "source": [
    "## Merge final playlist df with audio features df"
   ]
  },
  {
   "cell_type": "code",
   "execution_count": 73,
   "id": "e2ec0d49",
   "metadata": {},
   "outputs": [],
   "source": [
    "from tqdm.notebook import tqdm"
   ]
  },
  {
   "cell_type": "code",
   "execution_count": 74,
   "id": "c52f0bb5",
   "metadata": {},
   "outputs": [
    {
     "data": {
      "application/vnd.jupyter.widget-view+json": {
       "model_id": "ed7083db4f71436fa95eebe2009bb8c4",
       "version_major": 2,
       "version_minor": 0
      },
      "text/plain": [
       "  0%|          | 0/1801 [00:00<?, ?it/s]"
      ]
     },
     "metadata": {},
     "output_type": "display_data"
    }
   ],
   "source": [
    "audio_feats = []\n",
    "for song_ID in tqdm(range(len(full_playlist))):\n",
    "    audio_feats.extend(sp.audio_features(tracks=full_playlist['song_ID'][song_ID]))"
   ]
  },
  {
   "cell_type": "code",
   "execution_count": 75,
   "id": "bd2dd4dd",
   "metadata": {},
   "outputs": [
    {
     "data": {
      "text/plain": [
       "dict_keys(['danceability', 'energy', 'key', 'loudness', 'mode', 'speechiness', 'acousticness', 'instrumentalness', 'liveness', 'valence', 'tempo', 'type', 'id', 'uri', 'track_href', 'analysis_url', 'duration_ms', 'time_signature'])"
      ]
     },
     "execution_count": 75,
     "metadata": {},
     "output_type": "execute_result"
    }
   ],
   "source": [
    "audio_feats[0].keys()"
   ]
  },
  {
   "cell_type": "code",
   "execution_count": 76,
   "id": "a1802446",
   "metadata": {},
   "outputs": [],
   "source": [
    "audio_feat_df = pd.DataFrame(audio_feats)"
   ]
  },
  {
   "cell_type": "code",
   "execution_count": 77,
   "id": "81c1b843",
   "metadata": {},
   "outputs": [
    {
     "data": {
      "text/html": [
       "<div>\n",
       "<style scoped>\n",
       "    .dataframe tbody tr th:only-of-type {\n",
       "        vertical-align: middle;\n",
       "    }\n",
       "\n",
       "    .dataframe tbody tr th {\n",
       "        vertical-align: top;\n",
       "    }\n",
       "\n",
       "    .dataframe thead th {\n",
       "        text-align: right;\n",
       "    }\n",
       "</style>\n",
       "<table border=\"1\" class=\"dataframe\">\n",
       "  <thead>\n",
       "    <tr style=\"text-align: right;\">\n",
       "      <th></th>\n",
       "      <th>danceability</th>\n",
       "      <th>energy</th>\n",
       "      <th>key</th>\n",
       "      <th>loudness</th>\n",
       "      <th>mode</th>\n",
       "      <th>speechiness</th>\n",
       "      <th>acousticness</th>\n",
       "      <th>instrumentalness</th>\n",
       "      <th>liveness</th>\n",
       "      <th>valence</th>\n",
       "      <th>tempo</th>\n",
       "      <th>type</th>\n",
       "      <th>id</th>\n",
       "      <th>uri</th>\n",
       "      <th>track_href</th>\n",
       "      <th>analysis_url</th>\n",
       "      <th>duration_ms</th>\n",
       "      <th>time_signature</th>\n",
       "    </tr>\n",
       "  </thead>\n",
       "  <tbody>\n",
       "    <tr>\n",
       "      <th>0</th>\n",
       "      <td>0.483</td>\n",
       "      <td>0.1460</td>\n",
       "      <td>3</td>\n",
       "      <td>-13.221</td>\n",
       "      <td>1</td>\n",
       "      <td>0.0329</td>\n",
       "      <td>0.853</td>\n",
       "      <td>0.000085</td>\n",
       "      <td>0.151</td>\n",
       "      <td>0.288</td>\n",
       "      <td>82.335</td>\n",
       "      <td>audio_features</td>\n",
       "      <td>2x8BetKgW0IRTnlbKxwTiZ</td>\n",
       "      <td>spotify:track:2x8BetKgW0IRTnlbKxwTiZ</td>\n",
       "      <td>https://api.spotify.com/v1/tracks/2x8BetKgW0IR...</td>\n",
       "      <td>https://api.spotify.com/v1/audio-analysis/2x8B...</td>\n",
       "      <td>174040</td>\n",
       "      <td>3</td>\n",
       "    </tr>\n",
       "    <tr>\n",
       "      <th>1</th>\n",
       "      <td>0.399</td>\n",
       "      <td>0.3260</td>\n",
       "      <td>7</td>\n",
       "      <td>-9.239</td>\n",
       "      <td>0</td>\n",
       "      <td>0.0386</td>\n",
       "      <td>0.864</td>\n",
       "      <td>0.000000</td>\n",
       "      <td>0.191</td>\n",
       "      <td>0.546</td>\n",
       "      <td>79.206</td>\n",
       "      <td>audio_features</td>\n",
       "      <td>6Rqn2GFlmvmV4w9Ala0I1e</td>\n",
       "      <td>spotify:track:6Rqn2GFlmvmV4w9Ala0I1e</td>\n",
       "      <td>https://api.spotify.com/v1/tracks/6Rqn2GFlmvmV...</td>\n",
       "      <td>https://api.spotify.com/v1/audio-analysis/6Rqn...</td>\n",
       "      <td>174000</td>\n",
       "      <td>4</td>\n",
       "    </tr>\n",
       "    <tr>\n",
       "      <th>2</th>\n",
       "      <td>0.399</td>\n",
       "      <td>0.2580</td>\n",
       "      <td>5</td>\n",
       "      <td>-16.028</td>\n",
       "      <td>1</td>\n",
       "      <td>0.0330</td>\n",
       "      <td>0.792</td>\n",
       "      <td>0.000002</td>\n",
       "      <td>0.128</td>\n",
       "      <td>0.192</td>\n",
       "      <td>108.174</td>\n",
       "      <td>audio_features</td>\n",
       "      <td>1qCQTy0fTXerET4x8VHyr9</td>\n",
       "      <td>spotify:track:1qCQTy0fTXerET4x8VHyr9</td>\n",
       "      <td>https://api.spotify.com/v1/tracks/1qCQTy0fTXer...</td>\n",
       "      <td>https://api.spotify.com/v1/audio-analysis/1qCQ...</td>\n",
       "      <td>137520</td>\n",
       "      <td>3</td>\n",
       "    </tr>\n",
       "    <tr>\n",
       "      <th>3</th>\n",
       "      <td>0.571</td>\n",
       "      <td>0.5420</td>\n",
       "      <td>10</td>\n",
       "      <td>-9.033</td>\n",
       "      <td>0</td>\n",
       "      <td>0.0304</td>\n",
       "      <td>0.727</td>\n",
       "      <td>0.033900</td>\n",
       "      <td>0.373</td>\n",
       "      <td>0.539</td>\n",
       "      <td>158.001</td>\n",
       "      <td>audio_features</td>\n",
       "      <td>75sAWnVBYaaYs1mWbB05Qg</td>\n",
       "      <td>spotify:track:75sAWnVBYaaYs1mWbB05Qg</td>\n",
       "      <td>https://api.spotify.com/v1/tracks/75sAWnVBYaaY...</td>\n",
       "      <td>https://api.spotify.com/v1/audio-analysis/75sA...</td>\n",
       "      <td>272760</td>\n",
       "      <td>4</td>\n",
       "    </tr>\n",
       "    <tr>\n",
       "      <th>4</th>\n",
       "      <td>0.478</td>\n",
       "      <td>0.0294</td>\n",
       "      <td>0</td>\n",
       "      <td>-25.319</td>\n",
       "      <td>1</td>\n",
       "      <td>0.0453</td>\n",
       "      <td>0.993</td>\n",
       "      <td>0.948000</td>\n",
       "      <td>0.105</td>\n",
       "      <td>0.148</td>\n",
       "      <td>124.308</td>\n",
       "      <td>audio_features</td>\n",
       "      <td>1cpANF6zMBoFoxkoIjZHjv</td>\n",
       "      <td>spotify:track:1cpANF6zMBoFoxkoIjZHjv</td>\n",
       "      <td>https://api.spotify.com/v1/tracks/1cpANF6zMBoF...</td>\n",
       "      <td>https://api.spotify.com/v1/audio-analysis/1cpA...</td>\n",
       "      <td>324200</td>\n",
       "      <td>3</td>\n",
       "    </tr>\n",
       "  </tbody>\n",
       "</table>\n",
       "</div>"
      ],
      "text/plain": [
       "   danceability  energy  key  loudness  mode  speechiness  acousticness  \\\n",
       "0         0.483  0.1460    3   -13.221     1       0.0329         0.853   \n",
       "1         0.399  0.3260    7    -9.239     0       0.0386         0.864   \n",
       "2         0.399  0.2580    5   -16.028     1       0.0330         0.792   \n",
       "3         0.571  0.5420   10    -9.033     0       0.0304         0.727   \n",
       "4         0.478  0.0294    0   -25.319     1       0.0453         0.993   \n",
       "\n",
       "   instrumentalness  liveness  valence    tempo            type  \\\n",
       "0          0.000085     0.151    0.288   82.335  audio_features   \n",
       "1          0.000000     0.191    0.546   79.206  audio_features   \n",
       "2          0.000002     0.128    0.192  108.174  audio_features   \n",
       "3          0.033900     0.373    0.539  158.001  audio_features   \n",
       "4          0.948000     0.105    0.148  124.308  audio_features   \n",
       "\n",
       "                       id                                   uri  \\\n",
       "0  2x8BetKgW0IRTnlbKxwTiZ  spotify:track:2x8BetKgW0IRTnlbKxwTiZ   \n",
       "1  6Rqn2GFlmvmV4w9Ala0I1e  spotify:track:6Rqn2GFlmvmV4w9Ala0I1e   \n",
       "2  1qCQTy0fTXerET4x8VHyr9  spotify:track:1qCQTy0fTXerET4x8VHyr9   \n",
       "3  75sAWnVBYaaYs1mWbB05Qg  spotify:track:75sAWnVBYaaYs1mWbB05Qg   \n",
       "4  1cpANF6zMBoFoxkoIjZHjv  spotify:track:1cpANF6zMBoFoxkoIjZHjv   \n",
       "\n",
       "                                          track_href  \\\n",
       "0  https://api.spotify.com/v1/tracks/2x8BetKgW0IR...   \n",
       "1  https://api.spotify.com/v1/tracks/6Rqn2GFlmvmV...   \n",
       "2  https://api.spotify.com/v1/tracks/1qCQTy0fTXer...   \n",
       "3  https://api.spotify.com/v1/tracks/75sAWnVBYaaY...   \n",
       "4  https://api.spotify.com/v1/tracks/1cpANF6zMBoF...   \n",
       "\n",
       "                                        analysis_url  duration_ms  \\\n",
       "0  https://api.spotify.com/v1/audio-analysis/2x8B...       174040   \n",
       "1  https://api.spotify.com/v1/audio-analysis/6Rqn...       174000   \n",
       "2  https://api.spotify.com/v1/audio-analysis/1qCQ...       137520   \n",
       "3  https://api.spotify.com/v1/audio-analysis/75sA...       272760   \n",
       "4  https://api.spotify.com/v1/audio-analysis/1cpA...       324200   \n",
       "\n",
       "   time_signature  \n",
       "0               3  \n",
       "1               4  \n",
       "2               3  \n",
       "3               4  \n",
       "4               3  "
      ]
     },
     "execution_count": 77,
     "metadata": {},
     "output_type": "execute_result"
    }
   ],
   "source": [
    "audio_feat_df.head()"
   ]
  },
  {
   "cell_type": "code",
   "execution_count": 78,
   "id": "d25ace72",
   "metadata": {},
   "outputs": [],
   "source": [
    "#merge 2 dfs\n",
    "\n",
    "final_playlist_merged=full_playlist.merge(audio_feat_df, left_on='song_ID', right_on='id')"
   ]
  },
  {
   "cell_type": "code",
   "execution_count": 79,
   "id": "036d0ca6",
   "metadata": {},
   "outputs": [
    {
     "data": {
      "text/html": [
       "<div>\n",
       "<style scoped>\n",
       "    .dataframe tbody tr th:only-of-type {\n",
       "        vertical-align: middle;\n",
       "    }\n",
       "\n",
       "    .dataframe tbody tr th {\n",
       "        vertical-align: top;\n",
       "    }\n",
       "\n",
       "    .dataframe thead th {\n",
       "        text-align: right;\n",
       "    }\n",
       "</style>\n",
       "<table border=\"1\" class=\"dataframe\">\n",
       "  <thead>\n",
       "    <tr style=\"text-align: right;\">\n",
       "      <th></th>\n",
       "      <th>song_name</th>\n",
       "      <th>song_URI</th>\n",
       "      <th>song_ID</th>\n",
       "      <th>song_artist</th>\n",
       "      <th>danceability</th>\n",
       "      <th>energy</th>\n",
       "      <th>key</th>\n",
       "      <th>loudness</th>\n",
       "      <th>mode</th>\n",
       "      <th>speechiness</th>\n",
       "      <th>...</th>\n",
       "      <th>liveness</th>\n",
       "      <th>valence</th>\n",
       "      <th>tempo</th>\n",
       "      <th>type</th>\n",
       "      <th>id</th>\n",
       "      <th>uri</th>\n",
       "      <th>track_href</th>\n",
       "      <th>analysis_url</th>\n",
       "      <th>duration_ms</th>\n",
       "      <th>time_signature</th>\n",
       "    </tr>\n",
       "  </thead>\n",
       "  <tbody>\n",
       "    <tr>\n",
       "      <th>0</th>\n",
       "      <td>Som vanligt</td>\n",
       "      <td>spotify:track:2x8BetKgW0IRTnlbKxwTiZ</td>\n",
       "      <td>2x8BetKgW0IRTnlbKxwTiZ</td>\n",
       "      <td>Bo Sundström</td>\n",
       "      <td>0.483</td>\n",
       "      <td>0.1460</td>\n",
       "      <td>3</td>\n",
       "      <td>-13.221</td>\n",
       "      <td>1</td>\n",
       "      <td>0.0329</td>\n",
       "      <td>...</td>\n",
       "      <td>0.151</td>\n",
       "      <td>0.288</td>\n",
       "      <td>82.335</td>\n",
       "      <td>audio_features</td>\n",
       "      <td>2x8BetKgW0IRTnlbKxwTiZ</td>\n",
       "      <td>spotify:track:2x8BetKgW0IRTnlbKxwTiZ</td>\n",
       "      <td>https://api.spotify.com/v1/tracks/2x8BetKgW0IR...</td>\n",
       "      <td>https://api.spotify.com/v1/audio-analysis/2x8B...</td>\n",
       "      <td>174040</td>\n",
       "      <td>3</td>\n",
       "    </tr>\n",
       "    <tr>\n",
       "      <th>1</th>\n",
       "      <td>Feeling Good</td>\n",
       "      <td>spotify:track:6Rqn2GFlmvmV4w9Ala0I1e</td>\n",
       "      <td>6Rqn2GFlmvmV4w9Ala0I1e</td>\n",
       "      <td>Nina Simone</td>\n",
       "      <td>0.399</td>\n",
       "      <td>0.3260</td>\n",
       "      <td>7</td>\n",
       "      <td>-9.239</td>\n",
       "      <td>0</td>\n",
       "      <td>0.0386</td>\n",
       "      <td>...</td>\n",
       "      <td>0.191</td>\n",
       "      <td>0.546</td>\n",
       "      <td>79.206</td>\n",
       "      <td>audio_features</td>\n",
       "      <td>6Rqn2GFlmvmV4w9Ala0I1e</td>\n",
       "      <td>spotify:track:6Rqn2GFlmvmV4w9Ala0I1e</td>\n",
       "      <td>https://api.spotify.com/v1/tracks/6Rqn2GFlmvmV...</td>\n",
       "      <td>https://api.spotify.com/v1/audio-analysis/6Rqn...</td>\n",
       "      <td>174000</td>\n",
       "      <td>4</td>\n",
       "    </tr>\n",
       "    <tr>\n",
       "      <th>2</th>\n",
       "      <td>What A Wonderful World</td>\n",
       "      <td>spotify:track:1qCQTy0fTXerET4x8VHyr9</td>\n",
       "      <td>1qCQTy0fTXerET4x8VHyr9</td>\n",
       "      <td>Louis Armstrong</td>\n",
       "      <td>0.399</td>\n",
       "      <td>0.2580</td>\n",
       "      <td>5</td>\n",
       "      <td>-16.028</td>\n",
       "      <td>1</td>\n",
       "      <td>0.0330</td>\n",
       "      <td>...</td>\n",
       "      <td>0.128</td>\n",
       "      <td>0.192</td>\n",
       "      <td>108.174</td>\n",
       "      <td>audio_features</td>\n",
       "      <td>1qCQTy0fTXerET4x8VHyr9</td>\n",
       "      <td>spotify:track:1qCQTy0fTXerET4x8VHyr9</td>\n",
       "      <td>https://api.spotify.com/v1/tracks/1qCQTy0fTXer...</td>\n",
       "      <td>https://api.spotify.com/v1/audio-analysis/1qCQ...</td>\n",
       "      <td>137520</td>\n",
       "      <td>3</td>\n",
       "    </tr>\n",
       "    <tr>\n",
       "      <th>3</th>\n",
       "      <td>Koop Island Blues</td>\n",
       "      <td>spotify:track:75sAWnVBYaaYs1mWbB05Qg</td>\n",
       "      <td>75sAWnVBYaaYs1mWbB05Qg</td>\n",
       "      <td>Koop</td>\n",
       "      <td>0.571</td>\n",
       "      <td>0.5420</td>\n",
       "      <td>10</td>\n",
       "      <td>-9.033</td>\n",
       "      <td>0</td>\n",
       "      <td>0.0304</td>\n",
       "      <td>...</td>\n",
       "      <td>0.373</td>\n",
       "      <td>0.539</td>\n",
       "      <td>158.001</td>\n",
       "      <td>audio_features</td>\n",
       "      <td>75sAWnVBYaaYs1mWbB05Qg</td>\n",
       "      <td>spotify:track:75sAWnVBYaaYs1mWbB05Qg</td>\n",
       "      <td>https://api.spotify.com/v1/tracks/75sAWnVBYaaY...</td>\n",
       "      <td>https://api.spotify.com/v1/audio-analysis/75sA...</td>\n",
       "      <td>272760</td>\n",
       "      <td>4</td>\n",
       "    </tr>\n",
       "    <tr>\n",
       "      <th>4</th>\n",
       "      <td>Skating In Central Park</td>\n",
       "      <td>spotify:track:1cpANF6zMBoFoxkoIjZHjv</td>\n",
       "      <td>1cpANF6zMBoFoxkoIjZHjv</td>\n",
       "      <td>Bill Evans</td>\n",
       "      <td>0.478</td>\n",
       "      <td>0.0294</td>\n",
       "      <td>0</td>\n",
       "      <td>-25.319</td>\n",
       "      <td>1</td>\n",
       "      <td>0.0453</td>\n",
       "      <td>...</td>\n",
       "      <td>0.105</td>\n",
       "      <td>0.148</td>\n",
       "      <td>124.308</td>\n",
       "      <td>audio_features</td>\n",
       "      <td>1cpANF6zMBoFoxkoIjZHjv</td>\n",
       "      <td>spotify:track:1cpANF6zMBoFoxkoIjZHjv</td>\n",
       "      <td>https://api.spotify.com/v1/tracks/1cpANF6zMBoF...</td>\n",
       "      <td>https://api.spotify.com/v1/audio-analysis/1cpA...</td>\n",
       "      <td>324200</td>\n",
       "      <td>3</td>\n",
       "    </tr>\n",
       "  </tbody>\n",
       "</table>\n",
       "<p>5 rows × 22 columns</p>\n",
       "</div>"
      ],
      "text/plain": [
       "                 song_name                              song_URI  \\\n",
       "0              Som vanligt  spotify:track:2x8BetKgW0IRTnlbKxwTiZ   \n",
       "1             Feeling Good  spotify:track:6Rqn2GFlmvmV4w9Ala0I1e   \n",
       "2   What A Wonderful World  spotify:track:1qCQTy0fTXerET4x8VHyr9   \n",
       "3        Koop Island Blues  spotify:track:75sAWnVBYaaYs1mWbB05Qg   \n",
       "4  Skating In Central Park  spotify:track:1cpANF6zMBoFoxkoIjZHjv   \n",
       "\n",
       "                  song_ID      song_artist  danceability  energy  key  \\\n",
       "0  2x8BetKgW0IRTnlbKxwTiZ     Bo Sundström         0.483  0.1460    3   \n",
       "1  6Rqn2GFlmvmV4w9Ala0I1e      Nina Simone         0.399  0.3260    7   \n",
       "2  1qCQTy0fTXerET4x8VHyr9  Louis Armstrong         0.399  0.2580    5   \n",
       "3  75sAWnVBYaaYs1mWbB05Qg             Koop         0.571  0.5420   10   \n",
       "4  1cpANF6zMBoFoxkoIjZHjv       Bill Evans         0.478  0.0294    0   \n",
       "\n",
       "   loudness  mode  speechiness  ...  liveness  valence    tempo  \\\n",
       "0   -13.221     1       0.0329  ...     0.151    0.288   82.335   \n",
       "1    -9.239     0       0.0386  ...     0.191    0.546   79.206   \n",
       "2   -16.028     1       0.0330  ...     0.128    0.192  108.174   \n",
       "3    -9.033     0       0.0304  ...     0.373    0.539  158.001   \n",
       "4   -25.319     1       0.0453  ...     0.105    0.148  124.308   \n",
       "\n",
       "             type                      id  \\\n",
       "0  audio_features  2x8BetKgW0IRTnlbKxwTiZ   \n",
       "1  audio_features  6Rqn2GFlmvmV4w9Ala0I1e   \n",
       "2  audio_features  1qCQTy0fTXerET4x8VHyr9   \n",
       "3  audio_features  75sAWnVBYaaYs1mWbB05Qg   \n",
       "4  audio_features  1cpANF6zMBoFoxkoIjZHjv   \n",
       "\n",
       "                                    uri  \\\n",
       "0  spotify:track:2x8BetKgW0IRTnlbKxwTiZ   \n",
       "1  spotify:track:6Rqn2GFlmvmV4w9Ala0I1e   \n",
       "2  spotify:track:1qCQTy0fTXerET4x8VHyr9   \n",
       "3  spotify:track:75sAWnVBYaaYs1mWbB05Qg   \n",
       "4  spotify:track:1cpANF6zMBoFoxkoIjZHjv   \n",
       "\n",
       "                                          track_href  \\\n",
       "0  https://api.spotify.com/v1/tracks/2x8BetKgW0IR...   \n",
       "1  https://api.spotify.com/v1/tracks/6Rqn2GFlmvmV...   \n",
       "2  https://api.spotify.com/v1/tracks/1qCQTy0fTXer...   \n",
       "3  https://api.spotify.com/v1/tracks/75sAWnVBYaaY...   \n",
       "4  https://api.spotify.com/v1/tracks/1cpANF6zMBoF...   \n",
       "\n",
       "                                        analysis_url duration_ms  \\\n",
       "0  https://api.spotify.com/v1/audio-analysis/2x8B...      174040   \n",
       "1  https://api.spotify.com/v1/audio-analysis/6Rqn...      174000   \n",
       "2  https://api.spotify.com/v1/audio-analysis/1qCQ...      137520   \n",
       "3  https://api.spotify.com/v1/audio-analysis/75sA...      272760   \n",
       "4  https://api.spotify.com/v1/audio-analysis/1cpA...      324200   \n",
       "\n",
       "  time_signature  \n",
       "0              3  \n",
       "1              4  \n",
       "2              3  \n",
       "3              4  \n",
       "4              3  \n",
       "\n",
       "[5 rows x 22 columns]"
      ]
     },
     "execution_count": 79,
     "metadata": {},
     "output_type": "execute_result"
    }
   ],
   "source": [
    "final_playlist_merged.head()"
   ]
  },
  {
   "cell_type": "code",
   "execution_count": 80,
   "id": "28d07657",
   "metadata": {},
   "outputs": [],
   "source": [
    "#droped repeated columns\n",
    "final_playlist_merged.drop(['song_URI', 'song_ID'], axis = 1, inplace = True)"
   ]
  },
  {
   "cell_type": "code",
   "execution_count": 81,
   "id": "4384b39c",
   "metadata": {},
   "outputs": [
    {
     "data": {
      "text/html": [
       "<div>\n",
       "<style scoped>\n",
       "    .dataframe tbody tr th:only-of-type {\n",
       "        vertical-align: middle;\n",
       "    }\n",
       "\n",
       "    .dataframe tbody tr th {\n",
       "        vertical-align: top;\n",
       "    }\n",
       "\n",
       "    .dataframe thead th {\n",
       "        text-align: right;\n",
       "    }\n",
       "</style>\n",
       "<table border=\"1\" class=\"dataframe\">\n",
       "  <thead>\n",
       "    <tr style=\"text-align: right;\">\n",
       "      <th></th>\n",
       "      <th>song_name</th>\n",
       "      <th>song_artist</th>\n",
       "      <th>danceability</th>\n",
       "      <th>energy</th>\n",
       "      <th>key</th>\n",
       "      <th>loudness</th>\n",
       "      <th>mode</th>\n",
       "      <th>speechiness</th>\n",
       "      <th>acousticness</th>\n",
       "      <th>instrumentalness</th>\n",
       "      <th>liveness</th>\n",
       "      <th>valence</th>\n",
       "      <th>tempo</th>\n",
       "      <th>type</th>\n",
       "      <th>id</th>\n",
       "      <th>uri</th>\n",
       "      <th>track_href</th>\n",
       "      <th>analysis_url</th>\n",
       "      <th>duration_ms</th>\n",
       "      <th>time_signature</th>\n",
       "    </tr>\n",
       "  </thead>\n",
       "  <tbody>\n",
       "    <tr>\n",
       "      <th>0</th>\n",
       "      <td>Som vanligt</td>\n",
       "      <td>Bo Sundström</td>\n",
       "      <td>0.483</td>\n",
       "      <td>0.1460</td>\n",
       "      <td>3</td>\n",
       "      <td>-13.221</td>\n",
       "      <td>1</td>\n",
       "      <td>0.0329</td>\n",
       "      <td>0.853</td>\n",
       "      <td>0.000085</td>\n",
       "      <td>0.151</td>\n",
       "      <td>0.288</td>\n",
       "      <td>82.335</td>\n",
       "      <td>audio_features</td>\n",
       "      <td>2x8BetKgW0IRTnlbKxwTiZ</td>\n",
       "      <td>spotify:track:2x8BetKgW0IRTnlbKxwTiZ</td>\n",
       "      <td>https://api.spotify.com/v1/tracks/2x8BetKgW0IR...</td>\n",
       "      <td>https://api.spotify.com/v1/audio-analysis/2x8B...</td>\n",
       "      <td>174040</td>\n",
       "      <td>3</td>\n",
       "    </tr>\n",
       "    <tr>\n",
       "      <th>1</th>\n",
       "      <td>Feeling Good</td>\n",
       "      <td>Nina Simone</td>\n",
       "      <td>0.399</td>\n",
       "      <td>0.3260</td>\n",
       "      <td>7</td>\n",
       "      <td>-9.239</td>\n",
       "      <td>0</td>\n",
       "      <td>0.0386</td>\n",
       "      <td>0.864</td>\n",
       "      <td>0.000000</td>\n",
       "      <td>0.191</td>\n",
       "      <td>0.546</td>\n",
       "      <td>79.206</td>\n",
       "      <td>audio_features</td>\n",
       "      <td>6Rqn2GFlmvmV4w9Ala0I1e</td>\n",
       "      <td>spotify:track:6Rqn2GFlmvmV4w9Ala0I1e</td>\n",
       "      <td>https://api.spotify.com/v1/tracks/6Rqn2GFlmvmV...</td>\n",
       "      <td>https://api.spotify.com/v1/audio-analysis/6Rqn...</td>\n",
       "      <td>174000</td>\n",
       "      <td>4</td>\n",
       "    </tr>\n",
       "    <tr>\n",
       "      <th>2</th>\n",
       "      <td>What A Wonderful World</td>\n",
       "      <td>Louis Armstrong</td>\n",
       "      <td>0.399</td>\n",
       "      <td>0.2580</td>\n",
       "      <td>5</td>\n",
       "      <td>-16.028</td>\n",
       "      <td>1</td>\n",
       "      <td>0.0330</td>\n",
       "      <td>0.792</td>\n",
       "      <td>0.000002</td>\n",
       "      <td>0.128</td>\n",
       "      <td>0.192</td>\n",
       "      <td>108.174</td>\n",
       "      <td>audio_features</td>\n",
       "      <td>1qCQTy0fTXerET4x8VHyr9</td>\n",
       "      <td>spotify:track:1qCQTy0fTXerET4x8VHyr9</td>\n",
       "      <td>https://api.spotify.com/v1/tracks/1qCQTy0fTXer...</td>\n",
       "      <td>https://api.spotify.com/v1/audio-analysis/1qCQ...</td>\n",
       "      <td>137520</td>\n",
       "      <td>3</td>\n",
       "    </tr>\n",
       "    <tr>\n",
       "      <th>3</th>\n",
       "      <td>Koop Island Blues</td>\n",
       "      <td>Koop</td>\n",
       "      <td>0.571</td>\n",
       "      <td>0.5420</td>\n",
       "      <td>10</td>\n",
       "      <td>-9.033</td>\n",
       "      <td>0</td>\n",
       "      <td>0.0304</td>\n",
       "      <td>0.727</td>\n",
       "      <td>0.033900</td>\n",
       "      <td>0.373</td>\n",
       "      <td>0.539</td>\n",
       "      <td>158.001</td>\n",
       "      <td>audio_features</td>\n",
       "      <td>75sAWnVBYaaYs1mWbB05Qg</td>\n",
       "      <td>spotify:track:75sAWnVBYaaYs1mWbB05Qg</td>\n",
       "      <td>https://api.spotify.com/v1/tracks/75sAWnVBYaaY...</td>\n",
       "      <td>https://api.spotify.com/v1/audio-analysis/75sA...</td>\n",
       "      <td>272760</td>\n",
       "      <td>4</td>\n",
       "    </tr>\n",
       "    <tr>\n",
       "      <th>4</th>\n",
       "      <td>Skating In Central Park</td>\n",
       "      <td>Bill Evans</td>\n",
       "      <td>0.478</td>\n",
       "      <td>0.0294</td>\n",
       "      <td>0</td>\n",
       "      <td>-25.319</td>\n",
       "      <td>1</td>\n",
       "      <td>0.0453</td>\n",
       "      <td>0.993</td>\n",
       "      <td>0.948000</td>\n",
       "      <td>0.105</td>\n",
       "      <td>0.148</td>\n",
       "      <td>124.308</td>\n",
       "      <td>audio_features</td>\n",
       "      <td>1cpANF6zMBoFoxkoIjZHjv</td>\n",
       "      <td>spotify:track:1cpANF6zMBoFoxkoIjZHjv</td>\n",
       "      <td>https://api.spotify.com/v1/tracks/1cpANF6zMBoF...</td>\n",
       "      <td>https://api.spotify.com/v1/audio-analysis/1cpA...</td>\n",
       "      <td>324200</td>\n",
       "      <td>3</td>\n",
       "    </tr>\n",
       "  </tbody>\n",
       "</table>\n",
       "</div>"
      ],
      "text/plain": [
       "                 song_name      song_artist  danceability  energy  key  \\\n",
       "0              Som vanligt     Bo Sundström         0.483  0.1460    3   \n",
       "1             Feeling Good      Nina Simone         0.399  0.3260    7   \n",
       "2   What A Wonderful World  Louis Armstrong         0.399  0.2580    5   \n",
       "3        Koop Island Blues             Koop         0.571  0.5420   10   \n",
       "4  Skating In Central Park       Bill Evans         0.478  0.0294    0   \n",
       "\n",
       "   loudness  mode  speechiness  acousticness  instrumentalness  liveness  \\\n",
       "0   -13.221     1       0.0329         0.853          0.000085     0.151   \n",
       "1    -9.239     0       0.0386         0.864          0.000000     0.191   \n",
       "2   -16.028     1       0.0330         0.792          0.000002     0.128   \n",
       "3    -9.033     0       0.0304         0.727          0.033900     0.373   \n",
       "4   -25.319     1       0.0453         0.993          0.948000     0.105   \n",
       "\n",
       "   valence    tempo            type                      id  \\\n",
       "0    0.288   82.335  audio_features  2x8BetKgW0IRTnlbKxwTiZ   \n",
       "1    0.546   79.206  audio_features  6Rqn2GFlmvmV4w9Ala0I1e   \n",
       "2    0.192  108.174  audio_features  1qCQTy0fTXerET4x8VHyr9   \n",
       "3    0.539  158.001  audio_features  75sAWnVBYaaYs1mWbB05Qg   \n",
       "4    0.148  124.308  audio_features  1cpANF6zMBoFoxkoIjZHjv   \n",
       "\n",
       "                                    uri  \\\n",
       "0  spotify:track:2x8BetKgW0IRTnlbKxwTiZ   \n",
       "1  spotify:track:6Rqn2GFlmvmV4w9Ala0I1e   \n",
       "2  spotify:track:1qCQTy0fTXerET4x8VHyr9   \n",
       "3  spotify:track:75sAWnVBYaaYs1mWbB05Qg   \n",
       "4  spotify:track:1cpANF6zMBoFoxkoIjZHjv   \n",
       "\n",
       "                                          track_href  \\\n",
       "0  https://api.spotify.com/v1/tracks/2x8BetKgW0IR...   \n",
       "1  https://api.spotify.com/v1/tracks/6Rqn2GFlmvmV...   \n",
       "2  https://api.spotify.com/v1/tracks/1qCQTy0fTXer...   \n",
       "3  https://api.spotify.com/v1/tracks/75sAWnVBYaaY...   \n",
       "4  https://api.spotify.com/v1/tracks/1cpANF6zMBoF...   \n",
       "\n",
       "                                        analysis_url  duration_ms  \\\n",
       "0  https://api.spotify.com/v1/audio-analysis/2x8B...       174040   \n",
       "1  https://api.spotify.com/v1/audio-analysis/6Rqn...       174000   \n",
       "2  https://api.spotify.com/v1/audio-analysis/1qCQ...       137520   \n",
       "3  https://api.spotify.com/v1/audio-analysis/75sA...       272760   \n",
       "4  https://api.spotify.com/v1/audio-analysis/1cpA...       324200   \n",
       "\n",
       "   time_signature  \n",
       "0               3  \n",
       "1               4  \n",
       "2               3  \n",
       "3               4  \n",
       "4               3  "
      ]
     },
     "execution_count": 81,
     "metadata": {},
     "output_type": "execute_result"
    }
   ],
   "source": [
    "final_playlist_merged.head()"
   ]
  },
  {
   "cell_type": "markdown",
   "id": "6fe47302",
   "metadata": {},
   "source": [
    "## Transforming data and creating clusters of the playlist dataframe"
   ]
  },
  {
   "cell_type": "markdown",
   "id": "a0dd553f",
   "metadata": {},
   "source": [
    "### Importing dictionaries"
   ]
  },
  {
   "cell_type": "code",
   "execution_count": 82,
   "id": "8b296ef8",
   "metadata": {},
   "outputs": [],
   "source": [
    "import numpy as np\n",
    "import matplotlib.pyplot as plt\n",
    "import plotly\n",
    "import plotly.graph_objs as go\n",
    "from sklearn.cluster import KMeans\n",
    "from sklearn import datasets"
   ]
  },
  {
   "cell_type": "markdown",
   "id": "70dc2c48",
   "metadata": {},
   "source": [
    "### reshape - song to index and drop numericals"
   ]
  },
  {
   "cell_type": "code",
   "execution_count": 83,
   "id": "e0fd7526",
   "metadata": {},
   "outputs": [],
   "source": [
    "final_playlist_merged.index=final_playlist_merged.iloc[:,0]\n",
    "# index location function [:,_] pick the first column and make it index"
   ]
  },
  {
   "cell_type": "code",
   "execution_count": 84,
   "id": "ade8b006",
   "metadata": {},
   "outputs": [
    {
     "data": {
      "text/html": [
       "<div>\n",
       "<style scoped>\n",
       "    .dataframe tbody tr th:only-of-type {\n",
       "        vertical-align: middle;\n",
       "    }\n",
       "\n",
       "    .dataframe tbody tr th {\n",
       "        vertical-align: top;\n",
       "    }\n",
       "\n",
       "    .dataframe thead th {\n",
       "        text-align: right;\n",
       "    }\n",
       "</style>\n",
       "<table border=\"1\" class=\"dataframe\">\n",
       "  <thead>\n",
       "    <tr style=\"text-align: right;\">\n",
       "      <th></th>\n",
       "      <th>song_name</th>\n",
       "      <th>song_artist</th>\n",
       "      <th>danceability</th>\n",
       "      <th>energy</th>\n",
       "      <th>key</th>\n",
       "      <th>loudness</th>\n",
       "      <th>mode</th>\n",
       "      <th>speechiness</th>\n",
       "      <th>acousticness</th>\n",
       "      <th>instrumentalness</th>\n",
       "      <th>liveness</th>\n",
       "      <th>valence</th>\n",
       "      <th>tempo</th>\n",
       "      <th>type</th>\n",
       "      <th>id</th>\n",
       "      <th>uri</th>\n",
       "      <th>track_href</th>\n",
       "      <th>analysis_url</th>\n",
       "      <th>duration_ms</th>\n",
       "      <th>time_signature</th>\n",
       "    </tr>\n",
       "    <tr>\n",
       "      <th>song_name</th>\n",
       "      <th></th>\n",
       "      <th></th>\n",
       "      <th></th>\n",
       "      <th></th>\n",
       "      <th></th>\n",
       "      <th></th>\n",
       "      <th></th>\n",
       "      <th></th>\n",
       "      <th></th>\n",
       "      <th></th>\n",
       "      <th></th>\n",
       "      <th></th>\n",
       "      <th></th>\n",
       "      <th></th>\n",
       "      <th></th>\n",
       "      <th></th>\n",
       "      <th></th>\n",
       "      <th></th>\n",
       "      <th></th>\n",
       "      <th></th>\n",
       "    </tr>\n",
       "  </thead>\n",
       "  <tbody>\n",
       "    <tr>\n",
       "      <th>Som vanligt</th>\n",
       "      <td>Som vanligt</td>\n",
       "      <td>Bo Sundström</td>\n",
       "      <td>0.483</td>\n",
       "      <td>0.1460</td>\n",
       "      <td>3</td>\n",
       "      <td>-13.221</td>\n",
       "      <td>1</td>\n",
       "      <td>0.0329</td>\n",
       "      <td>0.853</td>\n",
       "      <td>0.000085</td>\n",
       "      <td>0.151</td>\n",
       "      <td>0.288</td>\n",
       "      <td>82.335</td>\n",
       "      <td>audio_features</td>\n",
       "      <td>2x8BetKgW0IRTnlbKxwTiZ</td>\n",
       "      <td>spotify:track:2x8BetKgW0IRTnlbKxwTiZ</td>\n",
       "      <td>https://api.spotify.com/v1/tracks/2x8BetKgW0IR...</td>\n",
       "      <td>https://api.spotify.com/v1/audio-analysis/2x8B...</td>\n",
       "      <td>174040</td>\n",
       "      <td>3</td>\n",
       "    </tr>\n",
       "    <tr>\n",
       "      <th>Feeling Good</th>\n",
       "      <td>Feeling Good</td>\n",
       "      <td>Nina Simone</td>\n",
       "      <td>0.399</td>\n",
       "      <td>0.3260</td>\n",
       "      <td>7</td>\n",
       "      <td>-9.239</td>\n",
       "      <td>0</td>\n",
       "      <td>0.0386</td>\n",
       "      <td>0.864</td>\n",
       "      <td>0.000000</td>\n",
       "      <td>0.191</td>\n",
       "      <td>0.546</td>\n",
       "      <td>79.206</td>\n",
       "      <td>audio_features</td>\n",
       "      <td>6Rqn2GFlmvmV4w9Ala0I1e</td>\n",
       "      <td>spotify:track:6Rqn2GFlmvmV4w9Ala0I1e</td>\n",
       "      <td>https://api.spotify.com/v1/tracks/6Rqn2GFlmvmV...</td>\n",
       "      <td>https://api.spotify.com/v1/audio-analysis/6Rqn...</td>\n",
       "      <td>174000</td>\n",
       "      <td>4</td>\n",
       "    </tr>\n",
       "    <tr>\n",
       "      <th>What A Wonderful World</th>\n",
       "      <td>What A Wonderful World</td>\n",
       "      <td>Louis Armstrong</td>\n",
       "      <td>0.399</td>\n",
       "      <td>0.2580</td>\n",
       "      <td>5</td>\n",
       "      <td>-16.028</td>\n",
       "      <td>1</td>\n",
       "      <td>0.0330</td>\n",
       "      <td>0.792</td>\n",
       "      <td>0.000002</td>\n",
       "      <td>0.128</td>\n",
       "      <td>0.192</td>\n",
       "      <td>108.174</td>\n",
       "      <td>audio_features</td>\n",
       "      <td>1qCQTy0fTXerET4x8VHyr9</td>\n",
       "      <td>spotify:track:1qCQTy0fTXerET4x8VHyr9</td>\n",
       "      <td>https://api.spotify.com/v1/tracks/1qCQTy0fTXer...</td>\n",
       "      <td>https://api.spotify.com/v1/audio-analysis/1qCQ...</td>\n",
       "      <td>137520</td>\n",
       "      <td>3</td>\n",
       "    </tr>\n",
       "    <tr>\n",
       "      <th>Koop Island Blues</th>\n",
       "      <td>Koop Island Blues</td>\n",
       "      <td>Koop</td>\n",
       "      <td>0.571</td>\n",
       "      <td>0.5420</td>\n",
       "      <td>10</td>\n",
       "      <td>-9.033</td>\n",
       "      <td>0</td>\n",
       "      <td>0.0304</td>\n",
       "      <td>0.727</td>\n",
       "      <td>0.033900</td>\n",
       "      <td>0.373</td>\n",
       "      <td>0.539</td>\n",
       "      <td>158.001</td>\n",
       "      <td>audio_features</td>\n",
       "      <td>75sAWnVBYaaYs1mWbB05Qg</td>\n",
       "      <td>spotify:track:75sAWnVBYaaYs1mWbB05Qg</td>\n",
       "      <td>https://api.spotify.com/v1/tracks/75sAWnVBYaaY...</td>\n",
       "      <td>https://api.spotify.com/v1/audio-analysis/75sA...</td>\n",
       "      <td>272760</td>\n",
       "      <td>4</td>\n",
       "    </tr>\n",
       "    <tr>\n",
       "      <th>Skating In Central Park</th>\n",
       "      <td>Skating In Central Park</td>\n",
       "      <td>Bill Evans</td>\n",
       "      <td>0.478</td>\n",
       "      <td>0.0294</td>\n",
       "      <td>0</td>\n",
       "      <td>-25.319</td>\n",
       "      <td>1</td>\n",
       "      <td>0.0453</td>\n",
       "      <td>0.993</td>\n",
       "      <td>0.948000</td>\n",
       "      <td>0.105</td>\n",
       "      <td>0.148</td>\n",
       "      <td>124.308</td>\n",
       "      <td>audio_features</td>\n",
       "      <td>1cpANF6zMBoFoxkoIjZHjv</td>\n",
       "      <td>spotify:track:1cpANF6zMBoFoxkoIjZHjv</td>\n",
       "      <td>https://api.spotify.com/v1/tracks/1cpANF6zMBoF...</td>\n",
       "      <td>https://api.spotify.com/v1/audio-analysis/1cpA...</td>\n",
       "      <td>324200</td>\n",
       "      <td>3</td>\n",
       "    </tr>\n",
       "  </tbody>\n",
       "</table>\n",
       "</div>"
      ],
      "text/plain": [
       "                                       song_name      song_artist  \\\n",
       "song_name                                                           \n",
       "Som vanligt                          Som vanligt     Bo Sundström   \n",
       "Feeling Good                        Feeling Good      Nina Simone   \n",
       "What A Wonderful World    What A Wonderful World  Louis Armstrong   \n",
       "Koop Island Blues              Koop Island Blues             Koop   \n",
       "Skating In Central Park  Skating In Central Park       Bill Evans   \n",
       "\n",
       "                         danceability  energy  key  loudness  mode  \\\n",
       "song_name                                                            \n",
       "Som vanligt                     0.483  0.1460    3   -13.221     1   \n",
       "Feeling Good                    0.399  0.3260    7    -9.239     0   \n",
       "What A Wonderful World          0.399  0.2580    5   -16.028     1   \n",
       "Koop Island Blues               0.571  0.5420   10    -9.033     0   \n",
       "Skating In Central Park         0.478  0.0294    0   -25.319     1   \n",
       "\n",
       "                         speechiness  acousticness  instrumentalness  \\\n",
       "song_name                                                              \n",
       "Som vanligt                   0.0329         0.853          0.000085   \n",
       "Feeling Good                  0.0386         0.864          0.000000   \n",
       "What A Wonderful World        0.0330         0.792          0.000002   \n",
       "Koop Island Blues             0.0304         0.727          0.033900   \n",
       "Skating In Central Park       0.0453         0.993          0.948000   \n",
       "\n",
       "                         liveness  valence    tempo            type  \\\n",
       "song_name                                                             \n",
       "Som vanligt                 0.151    0.288   82.335  audio_features   \n",
       "Feeling Good                0.191    0.546   79.206  audio_features   \n",
       "What A Wonderful World      0.128    0.192  108.174  audio_features   \n",
       "Koop Island Blues           0.373    0.539  158.001  audio_features   \n",
       "Skating In Central Park     0.105    0.148  124.308  audio_features   \n",
       "\n",
       "                                             id  \\\n",
       "song_name                                         \n",
       "Som vanligt              2x8BetKgW0IRTnlbKxwTiZ   \n",
       "Feeling Good             6Rqn2GFlmvmV4w9Ala0I1e   \n",
       "What A Wonderful World   1qCQTy0fTXerET4x8VHyr9   \n",
       "Koop Island Blues        75sAWnVBYaaYs1mWbB05Qg   \n",
       "Skating In Central Park  1cpANF6zMBoFoxkoIjZHjv   \n",
       "\n",
       "                                                          uri  \\\n",
       "song_name                                                       \n",
       "Som vanligt              spotify:track:2x8BetKgW0IRTnlbKxwTiZ   \n",
       "Feeling Good             spotify:track:6Rqn2GFlmvmV4w9Ala0I1e   \n",
       "What A Wonderful World   spotify:track:1qCQTy0fTXerET4x8VHyr9   \n",
       "Koop Island Blues        spotify:track:75sAWnVBYaaYs1mWbB05Qg   \n",
       "Skating In Central Park  spotify:track:1cpANF6zMBoFoxkoIjZHjv   \n",
       "\n",
       "                                                                track_href  \\\n",
       "song_name                                                                    \n",
       "Som vanligt              https://api.spotify.com/v1/tracks/2x8BetKgW0IR...   \n",
       "Feeling Good             https://api.spotify.com/v1/tracks/6Rqn2GFlmvmV...   \n",
       "What A Wonderful World   https://api.spotify.com/v1/tracks/1qCQTy0fTXer...   \n",
       "Koop Island Blues        https://api.spotify.com/v1/tracks/75sAWnVBYaaY...   \n",
       "Skating In Central Park  https://api.spotify.com/v1/tracks/1cpANF6zMBoF...   \n",
       "\n",
       "                                                              analysis_url  \\\n",
       "song_name                                                                    \n",
       "Som vanligt              https://api.spotify.com/v1/audio-analysis/2x8B...   \n",
       "Feeling Good             https://api.spotify.com/v1/audio-analysis/6Rqn...   \n",
       "What A Wonderful World   https://api.spotify.com/v1/audio-analysis/1qCQ...   \n",
       "Koop Island Blues        https://api.spotify.com/v1/audio-analysis/75sA...   \n",
       "Skating In Central Park  https://api.spotify.com/v1/audio-analysis/1cpA...   \n",
       "\n",
       "                         duration_ms  time_signature  \n",
       "song_name                                             \n",
       "Som vanligt                   174040               3  \n",
       "Feeling Good                  174000               4  \n",
       "What A Wonderful World        137520               3  \n",
       "Koop Island Blues             272760               4  \n",
       "Skating In Central Park       324200               3  "
      ]
     },
     "execution_count": 84,
     "metadata": {},
     "output_type": "execute_result"
    }
   ],
   "source": [
    "final_playlist_merged.head()"
   ]
  },
  {
   "cell_type": "code",
   "execution_count": 85,
   "id": "8c2e754f",
   "metadata": {
    "scrolled": true
   },
   "outputs": [
    {
     "name": "stdout",
     "output_type": "stream",
     "text": [
      "<class 'pandas.core.frame.DataFrame'>\n",
      "Index: 1801 entries, Som vanligt to How To Fly\n",
      "Data columns (total 20 columns):\n",
      " #   Column            Non-Null Count  Dtype  \n",
      "---  ------            --------------  -----  \n",
      " 0   song_name         1801 non-null   object \n",
      " 1   song_artist       1801 non-null   object \n",
      " 2   danceability      1801 non-null   float64\n",
      " 3   energy            1801 non-null   float64\n",
      " 4   key               1801 non-null   int64  \n",
      " 5   loudness          1801 non-null   float64\n",
      " 6   mode              1801 non-null   int64  \n",
      " 7   speechiness       1801 non-null   float64\n",
      " 8   acousticness      1801 non-null   float64\n",
      " 9   instrumentalness  1801 non-null   float64\n",
      " 10  liveness          1801 non-null   float64\n",
      " 11  valence           1801 non-null   float64\n",
      " 12  tempo             1801 non-null   float64\n",
      " 13  type              1801 non-null   object \n",
      " 14  id                1801 non-null   object \n",
      " 15  uri               1801 non-null   object \n",
      " 16  track_href        1801 non-null   object \n",
      " 17  analysis_url      1801 non-null   object \n",
      " 18  duration_ms       1801 non-null   int64  \n",
      " 19  time_signature    1801 non-null   int64  \n",
      "dtypes: float64(9), int64(4), object(7)\n",
      "memory usage: 295.5+ KB\n"
     ]
    }
   ],
   "source": [
    "final_playlist_merged.info()"
   ]
  },
  {
   "cell_type": "code",
   "execution_count": 86,
   "id": "f04eeecb",
   "metadata": {},
   "outputs": [],
   "source": [
    "#drop cat columns\n",
    "final_playlist_merged.drop(['song_name', 'song_artist','type','id','uri','track_href','analysis_url'], axis = 1, inplace = True) "
   ]
  },
  {
   "cell_type": "code",
   "execution_count": 87,
   "id": "c44e6766",
   "metadata": {},
   "outputs": [],
   "source": [
    "#delete header name for index\n",
    "final_playlist_merged.rename_axis(None,inplace=True)"
   ]
  },
  {
   "cell_type": "code",
   "execution_count": 88,
   "id": "a44f0eb3",
   "metadata": {
    "scrolled": true
   },
   "outputs": [
    {
     "data": {
      "text/html": [
       "<div>\n",
       "<style scoped>\n",
       "    .dataframe tbody tr th:only-of-type {\n",
       "        vertical-align: middle;\n",
       "    }\n",
       "\n",
       "    .dataframe tbody tr th {\n",
       "        vertical-align: top;\n",
       "    }\n",
       "\n",
       "    .dataframe thead th {\n",
       "        text-align: right;\n",
       "    }\n",
       "</style>\n",
       "<table border=\"1\" class=\"dataframe\">\n",
       "  <thead>\n",
       "    <tr style=\"text-align: right;\">\n",
       "      <th></th>\n",
       "      <th>danceability</th>\n",
       "      <th>energy</th>\n",
       "      <th>key</th>\n",
       "      <th>loudness</th>\n",
       "      <th>mode</th>\n",
       "      <th>speechiness</th>\n",
       "      <th>acousticness</th>\n",
       "      <th>instrumentalness</th>\n",
       "      <th>liveness</th>\n",
       "      <th>valence</th>\n",
       "      <th>tempo</th>\n",
       "      <th>duration_ms</th>\n",
       "      <th>time_signature</th>\n",
       "    </tr>\n",
       "  </thead>\n",
       "  <tbody>\n",
       "    <tr>\n",
       "      <th>Som vanligt</th>\n",
       "      <td>0.483</td>\n",
       "      <td>0.1460</td>\n",
       "      <td>3</td>\n",
       "      <td>-13.221</td>\n",
       "      <td>1</td>\n",
       "      <td>0.0329</td>\n",
       "      <td>0.853</td>\n",
       "      <td>0.000085</td>\n",
       "      <td>0.151</td>\n",
       "      <td>0.288</td>\n",
       "      <td>82.335</td>\n",
       "      <td>174040</td>\n",
       "      <td>3</td>\n",
       "    </tr>\n",
       "    <tr>\n",
       "      <th>Feeling Good</th>\n",
       "      <td>0.399</td>\n",
       "      <td>0.3260</td>\n",
       "      <td>7</td>\n",
       "      <td>-9.239</td>\n",
       "      <td>0</td>\n",
       "      <td>0.0386</td>\n",
       "      <td>0.864</td>\n",
       "      <td>0.000000</td>\n",
       "      <td>0.191</td>\n",
       "      <td>0.546</td>\n",
       "      <td>79.206</td>\n",
       "      <td>174000</td>\n",
       "      <td>4</td>\n",
       "    </tr>\n",
       "    <tr>\n",
       "      <th>What A Wonderful World</th>\n",
       "      <td>0.399</td>\n",
       "      <td>0.2580</td>\n",
       "      <td>5</td>\n",
       "      <td>-16.028</td>\n",
       "      <td>1</td>\n",
       "      <td>0.0330</td>\n",
       "      <td>0.792</td>\n",
       "      <td>0.000002</td>\n",
       "      <td>0.128</td>\n",
       "      <td>0.192</td>\n",
       "      <td>108.174</td>\n",
       "      <td>137520</td>\n",
       "      <td>3</td>\n",
       "    </tr>\n",
       "    <tr>\n",
       "      <th>Koop Island Blues</th>\n",
       "      <td>0.571</td>\n",
       "      <td>0.5420</td>\n",
       "      <td>10</td>\n",
       "      <td>-9.033</td>\n",
       "      <td>0</td>\n",
       "      <td>0.0304</td>\n",
       "      <td>0.727</td>\n",
       "      <td>0.033900</td>\n",
       "      <td>0.373</td>\n",
       "      <td>0.539</td>\n",
       "      <td>158.001</td>\n",
       "      <td>272760</td>\n",
       "      <td>4</td>\n",
       "    </tr>\n",
       "    <tr>\n",
       "      <th>Skating In Central Park</th>\n",
       "      <td>0.478</td>\n",
       "      <td>0.0294</td>\n",
       "      <td>0</td>\n",
       "      <td>-25.319</td>\n",
       "      <td>1</td>\n",
       "      <td>0.0453</td>\n",
       "      <td>0.993</td>\n",
       "      <td>0.948000</td>\n",
       "      <td>0.105</td>\n",
       "      <td>0.148</td>\n",
       "      <td>124.308</td>\n",
       "      <td>324200</td>\n",
       "      <td>3</td>\n",
       "    </tr>\n",
       "  </tbody>\n",
       "</table>\n",
       "</div>"
      ],
      "text/plain": [
       "                         danceability  energy  key  loudness  mode  \\\n",
       "Som vanligt                     0.483  0.1460    3   -13.221     1   \n",
       "Feeling Good                    0.399  0.3260    7    -9.239     0   \n",
       "What A Wonderful World          0.399  0.2580    5   -16.028     1   \n",
       "Koop Island Blues               0.571  0.5420   10    -9.033     0   \n",
       "Skating In Central Park         0.478  0.0294    0   -25.319     1   \n",
       "\n",
       "                         speechiness  acousticness  instrumentalness  \\\n",
       "Som vanligt                   0.0329         0.853          0.000085   \n",
       "Feeling Good                  0.0386         0.864          0.000000   \n",
       "What A Wonderful World        0.0330         0.792          0.000002   \n",
       "Koop Island Blues             0.0304         0.727          0.033900   \n",
       "Skating In Central Park       0.0453         0.993          0.948000   \n",
       "\n",
       "                         liveness  valence    tempo  duration_ms  \\\n",
       "Som vanligt                 0.151    0.288   82.335       174040   \n",
       "Feeling Good                0.191    0.546   79.206       174000   \n",
       "What A Wonderful World      0.128    0.192  108.174       137520   \n",
       "Koop Island Blues           0.373    0.539  158.001       272760   \n",
       "Skating In Central Park     0.105    0.148  124.308       324200   \n",
       "\n",
       "                         time_signature  \n",
       "Som vanligt                           3  \n",
       "Feeling Good                          4  \n",
       "What A Wonderful World                3  \n",
       "Koop Island Blues                     4  \n",
       "Skating In Central Park               3  "
      ]
     },
     "execution_count": 88,
     "metadata": {},
     "output_type": "execute_result"
    }
   ],
   "source": [
    "final_playlist_merged.head()"
   ]
  },
  {
   "cell_type": "code",
   "execution_count": 89,
   "id": "a3e77b4c",
   "metadata": {
    "scrolled": true
   },
   "outputs": [
    {
     "data": {
      "image/png": "[encoded data removed]",
      "text/plain": [
       "<Figure size 1080x1080 with 16 Axes>"
      ]
     },
     "metadata": {
      "needs_background": "light"
     },
     "output_type": "display_data"
    }
   ],
   "source": [
    "final_playlist_merged.hist(bins=15,figsize=(15,15));"
   ]
  },
  {
   "cell_type": "markdown",
   "id": "bc14bc47",
   "metadata": {},
   "source": [
    "### fist clustering with original playlist df"
   ]
  },
  {
   "cell_type": "code",
   "execution_count": 90,
   "id": "a7dda962",
   "metadata": {},
   "outputs": [],
   "source": [
    "kmeans=KMeans(n_clusters=20)\n",
    "#have to set a starting cluster number"
   ]
  },
  {
   "cell_type": "code",
   "execution_count": 91,
   "id": "8757f777",
   "metadata": {},
   "outputs": [],
   "source": [
    "cluster=kmeans.fit(final_playlist_merged)"
   ]
  },
  {
   "cell_type": "code",
   "execution_count": 92,
   "id": "682bd66e",
   "metadata": {},
   "outputs": [
    {
     "data": {
      "text/plain": [
       "array([[ 5.86407407e-01,  7.24157407e-01,  5.13888889e+00,\n",
       "        -6.00196296e+00,  7.03703704e-01,  8.63287037e-02,\n",
       "         1.80382156e-01,  7.07448963e-03,  2.25031481e-01,\n",
       "         5.40085185e-01,  1.20544296e+02,  1.75640907e+05,\n",
       "         3.97222222e+00],\n",
       "       [ 5.52725000e-01,  7.16150000e-01,  5.75000000e+00,\n",
       "        -6.20372500e+00,  7.00000000e-01,  9.43475000e-02,\n",
       "         1.35556439e-01,  4.89892864e-02,  1.81178750e-01,\n",
       "         4.17641250e-01,  1.18059200e+02,  2.81871250e+05,\n",
       "         3.96250000e+00],\n",
       "       [ 5.98389262e-01,  6.89904698e-01,  5.30872483e+00,\n",
       "        -6.49250336e+00,  5.77181208e-01,  8.27449664e-02,\n",
       "         1.81769996e-01,  2.46393798e-02,  1.89746309e-01,\n",
       "         4.74179866e-01,  1.21320893e+02,  2.40829993e+05,\n",
       "         3.97986577e+00],\n",
       "       [ 5.17454545e-01,  7.85363636e-01,  6.72727273e+00,\n",
       "        -6.40536364e+00,  6.36363636e-01,  1.18127273e-01,\n",
       "         1.17451909e-01,  8.82570273e-02,  2.87490909e-01,\n",
       "         3.48545455e-01,  1.28726909e+02,  3.99458364e+05,\n",
       "         4.00000000e+00],\n",
       "       [ 5.97392045e-01,  7.11553409e-01,  5.25000000e+00,\n",
       "        -5.93926705e+00,  6.42045455e-01,  9.04357955e-02,\n",
       "         1.90612331e-01,  2.92068159e-02,  2.01079545e-01,\n",
       "         5.04812500e-01,  1.22190034e+02,  2.08606801e+05,\n",
       "         3.98295455e+00],\n",
       "       [ 6.34515625e-01,  6.03795312e-01,  5.25000000e+00,\n",
       "        -7.42392187e+00,  6.09375000e-01,  9.63031250e-02,\n",
       "         2.92207645e-01,  3.26114698e-02,  1.59075000e-01,\n",
       "         5.38182812e-01,  1.22788703e+02,  1.45648953e+05,\n",
       "         3.92187500e+00],\n",
       "       [ 5.15139535e-01,  6.69590698e-01,  4.60465116e+00,\n",
       "        -7.16958140e+00,  6.04651163e-01,  8.80744186e-02,\n",
       "         1.89555374e-01,  8.17824740e-02,  2.12093023e-01,\n",
       "         3.64883721e-01,  1.32187419e+02,  3.30118163e+05,\n",
       "         3.95348837e+00],\n",
       "       [ 4.47000000e-01,  7.65000000e-01,  4.14285714e+00,\n",
       "        -5.69842857e+00,  5.71428571e-01,  6.64000000e-02,\n",
       "         4.97582857e-02,  1.40698351e-01,  3.49557143e-01,\n",
       "         2.86285714e-01,  1.08292714e+02,  5.63136714e+05,\n",
       "         4.14285714e+00],\n",
       "       [ 6.34428571e-01,  5.02842857e-01,  3.92857143e+00,\n",
       "        -9.68971429e+00,  5.71428571e-01,  1.72228571e-01,\n",
       "         4.03117714e-01,  7.61090643e-02,  1.74628571e-01,\n",
       "         5.63500000e-01,  1.33703929e+02,  9.86895714e+04,\n",
       "         3.92857143e+00],\n",
       "       [ 5.57881818e-01,  7.02100000e-01,  5.69090909e+00,\n",
       "        -6.35130000e+00,  6.36363636e-01,  8.30590909e-02,\n",
       "         1.73977777e-01,  3.06652306e-02,  1.97860000e-01,\n",
       "         4.19406364e-01,  1.20738018e+02,  2.66555209e+05,\n",
       "         3.98181818e+00],\n",
       "       [ 6.18793388e-01,  7.00362810e-01,  4.51239669e+00,\n",
       "        -6.06032231e+00,  6.19834711e-01,  9.71983471e-02,\n",
       "         2.21407994e-01,  2.86367537e-02,  2.04298347e-01,\n",
       "         5.66360331e-01,  1.21741207e+02,  1.62507959e+05,\n",
       "         3.97520661e+00],\n",
       "       [ 5.29077922e-01,  7.01558442e-01,  4.61038961e+00,\n",
       "        -6.28248052e+00,  8.05194805e-01,  7.48779221e-02,\n",
       "         1.78546964e-01,  2.71256026e-02,  1.82181818e-01,\n",
       "         3.77054545e-01,  1.24851221e+02,  3.02200922e+05,\n",
       "         3.97402597e+00],\n",
       "       [ 5.66831169e-01,  7.29272727e-01,  5.18831169e+00,\n",
       "        -5.97948701e+00,  6.10389610e-01,  8.87123377e-02,\n",
       "         1.48922464e-01,  2.29719622e-02,  1.79942208e-01,\n",
       "         4.55043506e-01,  1.20747461e+02,  2.29649468e+05,\n",
       "         3.98051948e+00],\n",
       "       [ 5.24222222e-01,  7.46500000e-01,  5.44444444e+00,\n",
       "        -5.66000000e+00,  5.00000000e-01,  9.71722222e-02,\n",
       "         1.52369613e-01,  5.74007556e-02,  1.64750000e-01,\n",
       "         4.13522222e-01,  1.19886222e+02,  3.61377111e+05,\n",
       "         3.94444444e+00],\n",
       "       [ 5.89910180e-01,  7.39323353e-01,  4.73652695e+00,\n",
       "        -5.73422156e+00,  6.28742515e-01,  9.00988024e-02,\n",
       "         1.38810935e-01,  2.18289346e-02,  1.73123952e-01,\n",
       "         5.04594611e-01,  1.24311006e+02,  2.19189796e+05,\n",
       "         3.98802395e+00],\n",
       "       [ 6.02290076e-01,  6.96053435e-01,  5.23664122e+00,\n",
       "        -6.18206107e+00,  6.48854962e-01,  9.20396947e-02,\n",
       "         1.73933146e-01,  1.59167229e-02,  1.88266412e-01,\n",
       "         5.28809160e-01,  1.22277763e+02,  1.86749366e+05,\n",
       "         3.99236641e+00],\n",
       "       [ 4.60375000e-01,  7.32125000e-01,  4.25000000e+00,\n",
       "        -5.46687500e+00,  3.75000000e-01,  1.35125000e-01,\n",
       "         2.04679000e-01,  3.84319375e-03,  1.68312500e-01,\n",
       "         3.70250000e-01,  1.11525750e+02,  4.69123125e+05,\n",
       "         3.87500000e+00],\n",
       "       [ 6.90975610e-01,  5.72939024e-01,  5.60975610e+00,\n",
       "        -7.60153659e+00,  7.56097561e-01,  1.27597561e-01,\n",
       "         3.36512195e-01,  1.24720666e-02,  2.08575610e-01,\n",
       "         4.90524390e-01,  1.17879683e+02,  1.28069122e+05,\n",
       "         4.02439024e+00],\n",
       "       [ 5.74764286e-01,  7.07388571e-01,  5.40714286e+00,\n",
       "        -6.42070714e+00,  6.21428571e-01,  8.05550000e-02,\n",
       "         1.84511049e-01,  4.80412264e-02,  1.81270000e-01,\n",
       "         4.61187143e-01,  1.20639207e+02,  2.52786436e+05,\n",
       "         3.98571429e+00],\n",
       "       [ 6.00318681e-01,  6.85571429e-01,  5.06043956e+00,\n",
       "        -6.44416484e+00,  6.15384615e-01,  8.48109890e-02,\n",
       "         1.93768356e-01,  1.88446947e-02,  1.77023077e-01,\n",
       "         5.12783516e-01,  1.19823297e+02,  1.98139824e+05,\n",
       "         4.00549451e+00]])"
      ]
     },
     "execution_count": 92,
     "metadata": {},
     "output_type": "execute_result"
    }
   ],
   "source": [
    "cluster.cluster_centers_"
   ]
  },
  {
   "cell_type": "code",
   "execution_count": 93,
   "id": "94cb6233",
   "metadata": {},
   "outputs": [
    {
     "data": {
      "text/plain": [
       "array([ 0,  0,  5, ...,  1,  1, 19], dtype=int32)"
      ]
     },
     "execution_count": 93,
     "metadata": {},
     "output_type": "execute_result"
    }
   ],
   "source": [
    "cluster.labels_"
   ]
  },
  {
   "cell_type": "code",
   "execution_count": 94,
   "id": "61053b69",
   "metadata": {},
   "outputs": [],
   "source": [
    "#bring cluster into data frame\n",
    "final_playlist_merged_c=final_playlist_merged.copy()\n",
    "final_playlist_merged_c['cluster']=cluster.labels_"
   ]
  },
  {
   "cell_type": "code",
   "execution_count": 95,
   "id": "12926870",
   "metadata": {},
   "outputs": [
    {
     "data": {
      "text/plain": [
       "19    182\n",
       "4     176\n",
       "14    167\n",
       "12    154\n",
       "2     150\n",
       "18    139\n",
       "15    131\n",
       "10    121\n",
       "9     110\n",
       "0     108\n",
       "1      80\n",
       "11     77\n",
       "5      64\n",
       "6      43\n",
       "17     41\n",
       "13     18\n",
       "8      14\n",
       "3      11\n",
       "16      8\n",
       "7       7\n",
       "Name: cluster, dtype: int64"
      ]
     },
     "execution_count": 95,
     "metadata": {},
     "output_type": "execute_result"
    }
   ],
   "source": [
    "final_playlist_merged_c['cluster'].value_counts()"
   ]
  },
  {
   "cell_type": "code",
   "execution_count": 96,
   "id": "e86609c1",
   "metadata": {},
   "outputs": [],
   "source": [
    "final_playlist_merged_c['cluster']=cluster.labels_"
   ]
  },
  {
   "cell_type": "code",
   "execution_count": 97,
   "id": "0be68162",
   "metadata": {},
   "outputs": [
    {
     "data": {
      "text/html": [
       "<div>\n",
       "<style scoped>\n",
       "    .dataframe tbody tr th:only-of-type {\n",
       "        vertical-align: middle;\n",
       "    }\n",
       "\n",
       "    .dataframe tbody tr th {\n",
       "        vertical-align: top;\n",
       "    }\n",
       "\n",
       "    .dataframe thead th {\n",
       "        text-align: right;\n",
       "    }\n",
       "</style>\n",
       "<table border=\"1\" class=\"dataframe\">\n",
       "  <thead>\n",
       "    <tr style=\"text-align: right;\">\n",
       "      <th></th>\n",
       "      <th>danceability</th>\n",
       "      <th>energy</th>\n",
       "      <th>key</th>\n",
       "      <th>loudness</th>\n",
       "      <th>mode</th>\n",
       "      <th>speechiness</th>\n",
       "      <th>acousticness</th>\n",
       "      <th>instrumentalness</th>\n",
       "      <th>liveness</th>\n",
       "      <th>valence</th>\n",
       "      <th>tempo</th>\n",
       "      <th>duration_ms</th>\n",
       "      <th>time_signature</th>\n",
       "      <th>cluster</th>\n",
       "    </tr>\n",
       "  </thead>\n",
       "  <tbody>\n",
       "    <tr>\n",
       "      <th>Som vanligt</th>\n",
       "      <td>0.483</td>\n",
       "      <td>0.1460</td>\n",
       "      <td>3</td>\n",
       "      <td>-13.221</td>\n",
       "      <td>1</td>\n",
       "      <td>0.0329</td>\n",
       "      <td>0.853</td>\n",
       "      <td>0.000085</td>\n",
       "      <td>0.151</td>\n",
       "      <td>0.288</td>\n",
       "      <td>82.335</td>\n",
       "      <td>174040</td>\n",
       "      <td>3</td>\n",
       "      <td>0</td>\n",
       "    </tr>\n",
       "    <tr>\n",
       "      <th>Feeling Good</th>\n",
       "      <td>0.399</td>\n",
       "      <td>0.3260</td>\n",
       "      <td>7</td>\n",
       "      <td>-9.239</td>\n",
       "      <td>0</td>\n",
       "      <td>0.0386</td>\n",
       "      <td>0.864</td>\n",
       "      <td>0.000000</td>\n",
       "      <td>0.191</td>\n",
       "      <td>0.546</td>\n",
       "      <td>79.206</td>\n",
       "      <td>174000</td>\n",
       "      <td>4</td>\n",
       "      <td>0</td>\n",
       "    </tr>\n",
       "    <tr>\n",
       "      <th>What A Wonderful World</th>\n",
       "      <td>0.399</td>\n",
       "      <td>0.2580</td>\n",
       "      <td>5</td>\n",
       "      <td>-16.028</td>\n",
       "      <td>1</td>\n",
       "      <td>0.0330</td>\n",
       "      <td>0.792</td>\n",
       "      <td>0.000002</td>\n",
       "      <td>0.128</td>\n",
       "      <td>0.192</td>\n",
       "      <td>108.174</td>\n",
       "      <td>137520</td>\n",
       "      <td>3</td>\n",
       "      <td>5</td>\n",
       "    </tr>\n",
       "    <tr>\n",
       "      <th>Koop Island Blues</th>\n",
       "      <td>0.571</td>\n",
       "      <td>0.5420</td>\n",
       "      <td>10</td>\n",
       "      <td>-9.033</td>\n",
       "      <td>0</td>\n",
       "      <td>0.0304</td>\n",
       "      <td>0.727</td>\n",
       "      <td>0.033900</td>\n",
       "      <td>0.373</td>\n",
       "      <td>0.539</td>\n",
       "      <td>158.001</td>\n",
       "      <td>272760</td>\n",
       "      <td>4</td>\n",
       "      <td>9</td>\n",
       "    </tr>\n",
       "    <tr>\n",
       "      <th>Skating In Central Park</th>\n",
       "      <td>0.478</td>\n",
       "      <td>0.0294</td>\n",
       "      <td>0</td>\n",
       "      <td>-25.319</td>\n",
       "      <td>1</td>\n",
       "      <td>0.0453</td>\n",
       "      <td>0.993</td>\n",
       "      <td>0.948000</td>\n",
       "      <td>0.105</td>\n",
       "      <td>0.148</td>\n",
       "      <td>124.308</td>\n",
       "      <td>324200</td>\n",
       "      <td>3</td>\n",
       "      <td>6</td>\n",
       "    </tr>\n",
       "  </tbody>\n",
       "</table>\n",
       "</div>"
      ],
      "text/plain": [
       "                         danceability  energy  key  loudness  mode  \\\n",
       "Som vanligt                     0.483  0.1460    3   -13.221     1   \n",
       "Feeling Good                    0.399  0.3260    7    -9.239     0   \n",
       "What A Wonderful World          0.399  0.2580    5   -16.028     1   \n",
       "Koop Island Blues               0.571  0.5420   10    -9.033     0   \n",
       "Skating In Central Park         0.478  0.0294    0   -25.319     1   \n",
       "\n",
       "                         speechiness  acousticness  instrumentalness  \\\n",
       "Som vanligt                   0.0329         0.853          0.000085   \n",
       "Feeling Good                  0.0386         0.864          0.000000   \n",
       "What A Wonderful World        0.0330         0.792          0.000002   \n",
       "Koop Island Blues             0.0304         0.727          0.033900   \n",
       "Skating In Central Park       0.0453         0.993          0.948000   \n",
       "\n",
       "                         liveness  valence    tempo  duration_ms  \\\n",
       "Som vanligt                 0.151    0.288   82.335       174040   \n",
       "Feeling Good                0.191    0.546   79.206       174000   \n",
       "What A Wonderful World      0.128    0.192  108.174       137520   \n",
       "Koop Island Blues           0.373    0.539  158.001       272760   \n",
       "Skating In Central Park     0.105    0.148  124.308       324200   \n",
       "\n",
       "                         time_signature  cluster  \n",
       "Som vanligt                           3        0  \n",
       "Feeling Good                          4        0  \n",
       "What A Wonderful World                3        5  \n",
       "Koop Island Blues                     4        9  \n",
       "Skating In Central Park               3        6  "
      ]
     },
     "execution_count": 97,
     "metadata": {},
     "output_type": "execute_result"
    }
   ],
   "source": [
    "final_playlist_merged_c.head()"
   ]
  },
  {
   "cell_type": "code",
   "execution_count": 98,
   "id": "456cbf37",
   "metadata": {},
   "outputs": [
    {
     "data": {
      "image/png": "[encoded data removed]",
      "text/plain": [
       "<Figure size 432x288 with 1 Axes>"
      ]
     },
     "metadata": {
      "needs_background": "light"
     },
     "output_type": "display_data"
    }
   ],
   "source": [
    "plt.scatter(final_playlist_merged_c.iloc[:,0],final_playlist_merged_c.iloc[:,1],c=final_playlist_merged_c.iloc[:,5]);\n",
    "#plot 2 numeric values with the cluster to examine it"
   ]
  },
  {
   "cell_type": "code",
   "execution_count": 99,
   "id": "c1d985d9",
   "metadata": {},
   "outputs": [],
   "source": [
    "markersize = final_playlist_merged_c['danceability']\n",
    "markercolor = final_playlist_merged_c['cluster']\n",
    "fig1 = go.Scatter3d(x=final_playlist_merged_c['energy'],\n",
    "                    y=final_playlist_merged_c['acousticness'],\n",
    "                    z=final_playlist_merged_c['instrumentalness'],\n",
    "                    marker=dict(size=markersize,\n",
    "                                color=markercolor,\n",
    "                                opacity=0.9,\n",
    "                                reversescale=True,\n",
    "                                colorscale='Blues'),\n",
    "                    line=dict (width=0.02),\n",
    "                    mode='markers')\n",
    "#Make Plot.ly Layout\n",
    "mylayout = go.Layout(scene=dict(xaxis=dict( title=\"energy\"),\n",
    "                                yaxis=dict( title=\"acousticness\"),\n",
    "                                zaxis=dict(title=\"instrumentalness\")),)"
   ]
  },
  {
   "cell_type": "code",
   "execution_count": 100,
   "id": "157a1abb",
   "metadata": {},
   "outputs": [
    {
     "data": {
      "text/plain": [
       "'5Dplot.html'"
      ]
     },
     "execution_count": 100,
     "metadata": {},
     "output_type": "execute_result"
    }
   ],
   "source": [
    "plotly.offline.plot({\"data\":[fig1],\n",
    "                    \"layout\":mylayout},\n",
    "                    auto_open=True,\n",
    "                    filename=(\"5Dplot.html\"))"
   ]
  },
  {
   "cell_type": "markdown",
   "id": "d578a3ac",
   "metadata": {},
   "source": [
    "### Scaling the data"
   ]
  },
  {
   "cell_type": "code",
   "execution_count": 101,
   "id": "641b0e66",
   "metadata": {},
   "outputs": [
    {
     "data": {
      "text/html": [
       "<div>\n",
       "<style scoped>\n",
       "    .dataframe tbody tr th:only-of-type {\n",
       "        vertical-align: middle;\n",
       "    }\n",
       "\n",
       "    .dataframe tbody tr th {\n",
       "        vertical-align: top;\n",
       "    }\n",
       "\n",
       "    .dataframe thead th {\n",
       "        text-align: right;\n",
       "    }\n",
       "</style>\n",
       "<table border=\"1\" class=\"dataframe\">\n",
       "  <thead>\n",
       "    <tr style=\"text-align: right;\">\n",
       "      <th></th>\n",
       "      <th>danceability</th>\n",
       "      <th>energy</th>\n",
       "      <th>key</th>\n",
       "      <th>loudness</th>\n",
       "      <th>mode</th>\n",
       "      <th>speechiness</th>\n",
       "      <th>acousticness</th>\n",
       "      <th>instrumentalness</th>\n",
       "      <th>liveness</th>\n",
       "      <th>valence</th>\n",
       "      <th>tempo</th>\n",
       "      <th>duration_ms</th>\n",
       "      <th>time_signature</th>\n",
       "    </tr>\n",
       "  </thead>\n",
       "  <tbody>\n",
       "    <tr>\n",
       "      <th>Som vanligt</th>\n",
       "      <td>0.483</td>\n",
       "      <td>0.1460</td>\n",
       "      <td>3</td>\n",
       "      <td>-13.221</td>\n",
       "      <td>1</td>\n",
       "      <td>0.0329</td>\n",
       "      <td>0.853</td>\n",
       "      <td>0.000085</td>\n",
       "      <td>0.151</td>\n",
       "      <td>0.288</td>\n",
       "      <td>82.335</td>\n",
       "      <td>174040</td>\n",
       "      <td>3</td>\n",
       "    </tr>\n",
       "    <tr>\n",
       "      <th>Feeling Good</th>\n",
       "      <td>0.399</td>\n",
       "      <td>0.3260</td>\n",
       "      <td>7</td>\n",
       "      <td>-9.239</td>\n",
       "      <td>0</td>\n",
       "      <td>0.0386</td>\n",
       "      <td>0.864</td>\n",
       "      <td>0.000000</td>\n",
       "      <td>0.191</td>\n",
       "      <td>0.546</td>\n",
       "      <td>79.206</td>\n",
       "      <td>174000</td>\n",
       "      <td>4</td>\n",
       "    </tr>\n",
       "    <tr>\n",
       "      <th>What A Wonderful World</th>\n",
       "      <td>0.399</td>\n",
       "      <td>0.2580</td>\n",
       "      <td>5</td>\n",
       "      <td>-16.028</td>\n",
       "      <td>1</td>\n",
       "      <td>0.0330</td>\n",
       "      <td>0.792</td>\n",
       "      <td>0.000002</td>\n",
       "      <td>0.128</td>\n",
       "      <td>0.192</td>\n",
       "      <td>108.174</td>\n",
       "      <td>137520</td>\n",
       "      <td>3</td>\n",
       "    </tr>\n",
       "    <tr>\n",
       "      <th>Koop Island Blues</th>\n",
       "      <td>0.571</td>\n",
       "      <td>0.5420</td>\n",
       "      <td>10</td>\n",
       "      <td>-9.033</td>\n",
       "      <td>0</td>\n",
       "      <td>0.0304</td>\n",
       "      <td>0.727</td>\n",
       "      <td>0.033900</td>\n",
       "      <td>0.373</td>\n",
       "      <td>0.539</td>\n",
       "      <td>158.001</td>\n",
       "      <td>272760</td>\n",
       "      <td>4</td>\n",
       "    </tr>\n",
       "    <tr>\n",
       "      <th>Skating In Central Park</th>\n",
       "      <td>0.478</td>\n",
       "      <td>0.0294</td>\n",
       "      <td>0</td>\n",
       "      <td>-25.319</td>\n",
       "      <td>1</td>\n",
       "      <td>0.0453</td>\n",
       "      <td>0.993</td>\n",
       "      <td>0.948000</td>\n",
       "      <td>0.105</td>\n",
       "      <td>0.148</td>\n",
       "      <td>124.308</td>\n",
       "      <td>324200</td>\n",
       "      <td>3</td>\n",
       "    </tr>\n",
       "  </tbody>\n",
       "</table>\n",
       "</div>"
      ],
      "text/plain": [
       "                         danceability  energy  key  loudness  mode  \\\n",
       "Som vanligt                     0.483  0.1460    3   -13.221     1   \n",
       "Feeling Good                    0.399  0.3260    7    -9.239     0   \n",
       "What A Wonderful World          0.399  0.2580    5   -16.028     1   \n",
       "Koop Island Blues               0.571  0.5420   10    -9.033     0   \n",
       "Skating In Central Park         0.478  0.0294    0   -25.319     1   \n",
       "\n",
       "                         speechiness  acousticness  instrumentalness  \\\n",
       "Som vanligt                   0.0329         0.853          0.000085   \n",
       "Feeling Good                  0.0386         0.864          0.000000   \n",
       "What A Wonderful World        0.0330         0.792          0.000002   \n",
       "Koop Island Blues             0.0304         0.727          0.033900   \n",
       "Skating In Central Park       0.0453         0.993          0.948000   \n",
       "\n",
       "                         liveness  valence    tempo  duration_ms  \\\n",
       "Som vanligt                 0.151    0.288   82.335       174040   \n",
       "Feeling Good                0.191    0.546   79.206       174000   \n",
       "What A Wonderful World      0.128    0.192  108.174       137520   \n",
       "Koop Island Blues           0.373    0.539  158.001       272760   \n",
       "Skating In Central Park     0.105    0.148  124.308       324200   \n",
       "\n",
       "                         time_signature  \n",
       "Som vanligt                           3  \n",
       "Feeling Good                          4  \n",
       "What A Wonderful World                3  \n",
       "Koop Island Blues                     4  \n",
       "Skating In Central Park               3  "
      ]
     },
     "execution_count": 101,
     "metadata": {},
     "output_type": "execute_result"
    }
   ],
   "source": [
    "final_playlist_merged.head()"
   ]
  },
  {
   "cell_type": "code",
   "execution_count": 102,
   "id": "8bbb3d2b",
   "metadata": {},
   "outputs": [],
   "source": [
    "from sklearn.preprocessing import StandardScaler "
   ]
  },
  {
   "cell_type": "code",
   "execution_count": 103,
   "id": "858eb130",
   "metadata": {},
   "outputs": [],
   "source": [
    "final_playlist_merged_scaled=StandardScaler().fit_transform(final_playlist_merged)"
   ]
  },
  {
   "cell_type": "code",
   "execution_count": 104,
   "id": "334b264f",
   "metadata": {},
   "outputs": [],
   "source": [
    "final_playlist_merged_scaled_df=pd.DataFrame(final_playlist_merged_scaled,columns=\n",
    "                                      ['danceability','energy','key','loudness','mode','speechiness','acousticness','instrumentalness','liveness','valence','tempo','duration_ms','time_signature'])\n",
    "\n",
    "\n",
    "\n",
    "\n"
   ]
  },
  {
   "cell_type": "code",
   "execution_count": 105,
   "id": "7aaf9fa7",
   "metadata": {},
   "outputs": [
    {
     "data": {
      "text/html": [
       "<div>\n",
       "<style scoped>\n",
       "    .dataframe tbody tr th:only-of-type {\n",
       "        vertical-align: middle;\n",
       "    }\n",
       "\n",
       "    .dataframe tbody tr th {\n",
       "        vertical-align: top;\n",
       "    }\n",
       "\n",
       "    .dataframe thead th {\n",
       "        text-align: right;\n",
       "    }\n",
       "</style>\n",
       "<table border=\"1\" class=\"dataframe\">\n",
       "  <thead>\n",
       "    <tr style=\"text-align: right;\">\n",
       "      <th></th>\n",
       "      <th>danceability</th>\n",
       "      <th>energy</th>\n",
       "      <th>key</th>\n",
       "      <th>loudness</th>\n",
       "      <th>mode</th>\n",
       "      <th>speechiness</th>\n",
       "      <th>acousticness</th>\n",
       "      <th>instrumentalness</th>\n",
       "      <th>liveness</th>\n",
       "      <th>valence</th>\n",
       "      <th>tempo</th>\n",
       "      <th>duration_ms</th>\n",
       "      <th>time_signature</th>\n",
       "    </tr>\n",
       "  </thead>\n",
       "  <tbody>\n",
       "    <tr>\n",
       "      <th>0</th>\n",
       "      <td>-0.666610</td>\n",
       "      <td>-2.903018</td>\n",
       "      <td>-0.584911</td>\n",
       "      <td>-2.409941</td>\n",
       "      <td>0.754198</td>\n",
       "      <td>-0.601356</td>\n",
       "      <td>2.678262</td>\n",
       "      <td>-0.243104</td>\n",
       "      <td>-0.272790</td>\n",
       "      <td>-0.863136</td>\n",
       "      <td>-1.363160</td>\n",
       "      <td>-0.888908</td>\n",
       "      <td>-4.356183</td>\n",
       "    </tr>\n",
       "    <tr>\n",
       "      <th>1</th>\n",
       "      <td>-1.210873</td>\n",
       "      <td>-1.960597</td>\n",
       "      <td>0.506155</td>\n",
       "      <td>-1.026339</td>\n",
       "      <td>-1.325911</td>\n",
       "      <td>-0.540948</td>\n",
       "      <td>2.722357</td>\n",
       "      <td>-0.243822</td>\n",
       "      <td>0.007462</td>\n",
       "      <td>0.275800</td>\n",
       "      <td>-1.471465</td>\n",
       "      <td>-0.889623</td>\n",
       "      <td>0.083820</td>\n",
       "    </tr>\n",
       "    <tr>\n",
       "      <th>2</th>\n",
       "      <td>-1.210873</td>\n",
       "      <td>-2.316623</td>\n",
       "      <td>-0.039378</td>\n",
       "      <td>-3.385273</td>\n",
       "      <td>0.754198</td>\n",
       "      <td>-0.600296</td>\n",
       "      <td>2.433739</td>\n",
       "      <td>-0.243807</td>\n",
       "      <td>-0.433934</td>\n",
       "      <td>-1.286926</td>\n",
       "      <td>-0.468791</td>\n",
       "      <td>-1.541757</td>\n",
       "      <td>-4.356183</td>\n",
       "    </tr>\n",
       "    <tr>\n",
       "      <th>3</th>\n",
       "      <td>-0.096431</td>\n",
       "      <td>-0.829693</td>\n",
       "      <td>1.324455</td>\n",
       "      <td>-0.954762</td>\n",
       "      <td>-1.325911</td>\n",
       "      <td>-0.627851</td>\n",
       "      <td>2.173182</td>\n",
       "      <td>0.042201</td>\n",
       "      <td>1.282608</td>\n",
       "      <td>0.244899</td>\n",
       "      <td>1.255879</td>\n",
       "      <td>0.875859</td>\n",
       "      <td>0.083820</td>\n",
       "    </tr>\n",
       "    <tr>\n",
       "      <th>4</th>\n",
       "      <td>-0.699007</td>\n",
       "      <td>-3.513497</td>\n",
       "      <td>-1.403211</td>\n",
       "      <td>-6.613561</td>\n",
       "      <td>0.754198</td>\n",
       "      <td>-0.469941</td>\n",
       "      <td>3.239463</td>\n",
       "      <td>7.754700</td>\n",
       "      <td>-0.595079</td>\n",
       "      <td>-1.481163</td>\n",
       "      <td>0.089658</td>\n",
       "      <td>1.795425</td>\n",
       "      <td>-4.356183</td>\n",
       "    </tr>\n",
       "  </tbody>\n",
       "</table>\n",
       "</div>"
      ],
      "text/plain": [
       "   danceability    energy       key  loudness      mode  speechiness  \\\n",
       "0     -0.666610 -2.903018 -0.584911 -2.409941  0.754198    -0.601356   \n",
       "1     -1.210873 -1.960597  0.506155 -1.026339 -1.325911    -0.540948   \n",
       "2     -1.210873 -2.316623 -0.039378 -3.385273  0.754198    -0.600296   \n",
       "3     -0.096431 -0.829693  1.324455 -0.954762 -1.325911    -0.627851   \n",
       "4     -0.699007 -3.513497 -1.403211 -6.613561  0.754198    -0.469941   \n",
       "\n",
       "   acousticness  instrumentalness  liveness   valence     tempo  duration_ms  \\\n",
       "0      2.678262         -0.243104 -0.272790 -0.863136 -1.363160    -0.888908   \n",
       "1      2.722357         -0.243822  0.007462  0.275800 -1.471465    -0.889623   \n",
       "2      2.433739         -0.243807 -0.433934 -1.286926 -0.468791    -1.541757   \n",
       "3      2.173182          0.042201  1.282608  0.244899  1.255879     0.875859   \n",
       "4      3.239463          7.754700 -0.595079 -1.481163  0.089658     1.795425   \n",
       "\n",
       "   time_signature  \n",
       "0       -4.356183  \n",
       "1        0.083820  \n",
       "2       -4.356183  \n",
       "3        0.083820  \n",
       "4       -4.356183  "
      ]
     },
     "execution_count": 105,
     "metadata": {},
     "output_type": "execute_result"
    }
   ],
   "source": [
    "final_playlist_merged_scaled_df.head()"
   ]
  },
  {
   "cell_type": "code",
   "execution_count": 106,
   "id": "2c8eec59",
   "metadata": {},
   "outputs": [
    {
     "data": {
      "text/html": [
       "<div>\n",
       "<style scoped>\n",
       "    .dataframe tbody tr th:only-of-type {\n",
       "        vertical-align: middle;\n",
       "    }\n",
       "\n",
       "    .dataframe tbody tr th {\n",
       "        vertical-align: top;\n",
       "    }\n",
       "\n",
       "    .dataframe thead th {\n",
       "        text-align: right;\n",
       "    }\n",
       "</style>\n",
       "<table border=\"1\" class=\"dataframe\">\n",
       "  <thead>\n",
       "    <tr style=\"text-align: right;\">\n",
       "      <th></th>\n",
       "      <th>danceability</th>\n",
       "      <th>energy</th>\n",
       "      <th>key</th>\n",
       "      <th>loudness</th>\n",
       "      <th>mode</th>\n",
       "      <th>speechiness</th>\n",
       "      <th>acousticness</th>\n",
       "      <th>instrumentalness</th>\n",
       "      <th>liveness</th>\n",
       "      <th>valence</th>\n",
       "      <th>tempo</th>\n",
       "      <th>duration_ms</th>\n",
       "      <th>time_signature</th>\n",
       "    </tr>\n",
       "  </thead>\n",
       "  <tbody>\n",
       "    <tr>\n",
       "      <th>count</th>\n",
       "      <td>1.801000e+03</td>\n",
       "      <td>1.801000e+03</td>\n",
       "      <td>1.801000e+03</td>\n",
       "      <td>1.801000e+03</td>\n",
       "      <td>1.801000e+03</td>\n",
       "      <td>1.801000e+03</td>\n",
       "      <td>1.801000e+03</td>\n",
       "      <td>1.801000e+03</td>\n",
       "      <td>1.801000e+03</td>\n",
       "      <td>1.801000e+03</td>\n",
       "      <td>1.801000e+03</td>\n",
       "      <td>1.801000e+03</td>\n",
       "      <td>1.801000e+03</td>\n",
       "    </tr>\n",
       "    <tr>\n",
       "      <th>mean</th>\n",
       "      <td>-1.149676e-16</td>\n",
       "      <td>3.916295e-16</td>\n",
       "      <td>1.577491e-16</td>\n",
       "      <td>-8.038483e-17</td>\n",
       "      <td>1.361117e-16</td>\n",
       "      <td>-1.268419e-16</td>\n",
       "      <td>1.397642e-16</td>\n",
       "      <td>1.362967e-16</td>\n",
       "      <td>-9.943308e-17</td>\n",
       "      <td>-2.367161e-17</td>\n",
       "      <td>-3.341149e-16</td>\n",
       "      <td>1.743932e-16</td>\n",
       "      <td>8.702706e-17</td>\n",
       "    </tr>\n",
       "    <tr>\n",
       "      <th>std</th>\n",
       "      <td>1.000278e+00</td>\n",
       "      <td>1.000278e+00</td>\n",
       "      <td>1.000278e+00</td>\n",
       "      <td>1.000278e+00</td>\n",
       "      <td>1.000278e+00</td>\n",
       "      <td>1.000278e+00</td>\n",
       "      <td>1.000278e+00</td>\n",
       "      <td>1.000278e+00</td>\n",
       "      <td>1.000278e+00</td>\n",
       "      <td>1.000278e+00</td>\n",
       "      <td>1.000278e+00</td>\n",
       "      <td>1.000278e+00</td>\n",
       "      <td>1.000278e+00</td>\n",
       "    </tr>\n",
       "    <tr>\n",
       "      <th>min</th>\n",
       "      <td>-3.102833e+00</td>\n",
       "      <td>-3.558000e+00</td>\n",
       "      <td>-1.403211e+00</td>\n",
       "      <td>-9.296331e+00</td>\n",
       "      <td>-1.325911e+00</td>\n",
       "      <td>-7.062758e-01</td>\n",
       "      <td>-7.410430e-01</td>\n",
       "      <td>-2.438223e-01</td>\n",
       "      <td>-1.185009e+00</td>\n",
       "      <td>-1.979999e+00</td>\n",
       "      <td>-2.572786e+00</td>\n",
       "      <td>-2.903409e+00</td>\n",
       "      <td>-1.323619e+01</td>\n",
       "    </tr>\n",
       "    <tr>\n",
       "      <th>25%</th>\n",
       "      <td>-6.795691e-01</td>\n",
       "      <td>-5.940875e-01</td>\n",
       "      <td>-8.576775e-01</td>\n",
       "      <td>-3.998617e-01</td>\n",
       "      <td>-1.325911e+00</td>\n",
       "      <td>-5.674426e-01</td>\n",
       "      <td>-7.076998e-01</td>\n",
       "      <td>-2.438223e-01</td>\n",
       "      <td>-6.490275e-01</td>\n",
       "      <td>-7.880895e-01</td>\n",
       "      <td>-7.834938e-01</td>\n",
       "      <td>-6.088366e-01</td>\n",
       "      <td>8.382015e-02</td>\n",
       "    </tr>\n",
       "    <tr>\n",
       "      <th>50%</th>\n",
       "      <td>7.590981e-04</td>\n",
       "      <td>1.703203e-01</td>\n",
       "      <td>-3.937774e-02</td>\n",
       "      <td>1.922171e-01</td>\n",
       "      <td>7.541985e-01</td>\n",
       "      <td>-4.211908e-01</td>\n",
       "      <td>-4.917178e-01</td>\n",
       "      <td>-2.437629e-01</td>\n",
       "      <td>-4.129154e-01</td>\n",
       "      <td>-4.204223e-02</td>\n",
       "      <td>-5.751740e-02</td>\n",
       "      <td>-1.042550e-01</td>\n",
       "      <td>8.382015e-02</td>\n",
       "    </tr>\n",
       "    <tr>\n",
       "      <th>75%</th>\n",
       "      <td>6.940459e-01</td>\n",
       "      <td>7.671867e-01</td>\n",
       "      <td>7.789220e-01</td>\n",
       "      <td>6.460051e-01</td>\n",
       "      <td>7.541985e-01</td>\n",
       "      <td>1.332541e-02</td>\n",
       "      <td>3.172123e-01</td>\n",
       "      <td>-2.342038e-01</td>\n",
       "      <td>4.628714e-01</td>\n",
       "      <td>7.834657e-01</td>\n",
       "      <td>6.335689e-01</td>\n",
       "      <td>4.770526e-01</td>\n",
       "      <td>8.382015e-02</td>\n",
       "    </tr>\n",
       "    <tr>\n",
       "      <th>max</th>\n",
       "      <td>2.521213e+00</td>\n",
       "      <td>1.542066e+00</td>\n",
       "      <td>1.597222e+00</td>\n",
       "      <td>2.128982e+00</td>\n",
       "      <td>7.541985e-01</td>\n",
       "      <td>7.030232e+00</td>\n",
       "      <td>3.239463e+00</td>\n",
       "      <td>7.754700e+00</td>\n",
       "      <td>5.633516e+00</td>\n",
       "      <td>2.151955e+00</td>\n",
       "      <td>3.061405e+00</td>\n",
       "      <td>6.599195e+00</td>\n",
       "      <td>4.523823e+00</td>\n",
       "    </tr>\n",
       "  </tbody>\n",
       "</table>\n",
       "</div>"
      ],
      "text/plain": [
       "       danceability        energy           key      loudness          mode  \\\n",
       "count  1.801000e+03  1.801000e+03  1.801000e+03  1.801000e+03  1.801000e+03   \n",
       "mean  -1.149676e-16  3.916295e-16  1.577491e-16 -8.038483e-17  1.361117e-16   \n",
       "std    1.000278e+00  1.000278e+00  1.000278e+00  1.000278e+00  1.000278e+00   \n",
       "min   -3.102833e+00 -3.558000e+00 -1.403211e+00 -9.296331e+00 -1.325911e+00   \n",
       "25%   -6.795691e-01 -5.940875e-01 -8.576775e-01 -3.998617e-01 -1.325911e+00   \n",
       "50%    7.590981e-04  1.703203e-01 -3.937774e-02  1.922171e-01  7.541985e-01   \n",
       "75%    6.940459e-01  7.671867e-01  7.789220e-01  6.460051e-01  7.541985e-01   \n",
       "max    2.521213e+00  1.542066e+00  1.597222e+00  2.128982e+00  7.541985e-01   \n",
       "\n",
       "        speechiness  acousticness  instrumentalness      liveness  \\\n",
       "count  1.801000e+03  1.801000e+03      1.801000e+03  1.801000e+03   \n",
       "mean  -1.268419e-16  1.397642e-16      1.362967e-16 -9.943308e-17   \n",
       "std    1.000278e+00  1.000278e+00      1.000278e+00  1.000278e+00   \n",
       "min   -7.062758e-01 -7.410430e-01     -2.438223e-01 -1.185009e+00   \n",
       "25%   -5.674426e-01 -7.076998e-01     -2.438223e-01 -6.490275e-01   \n",
       "50%   -4.211908e-01 -4.917178e-01     -2.437629e-01 -4.129154e-01   \n",
       "75%    1.332541e-02  3.172123e-01     -2.342038e-01  4.628714e-01   \n",
       "max    7.030232e+00  3.239463e+00      7.754700e+00  5.633516e+00   \n",
       "\n",
       "            valence         tempo   duration_ms  time_signature  \n",
       "count  1.801000e+03  1.801000e+03  1.801000e+03    1.801000e+03  \n",
       "mean  -2.367161e-17 -3.341149e-16  1.743932e-16    8.702706e-17  \n",
       "std    1.000278e+00  1.000278e+00  1.000278e+00    1.000278e+00  \n",
       "min   -1.979999e+00 -2.572786e+00 -2.903409e+00   -1.323619e+01  \n",
       "25%   -7.880895e-01 -7.834938e-01 -6.088366e-01    8.382015e-02  \n",
       "50%   -4.204223e-02 -5.751740e-02 -1.042550e-01    8.382015e-02  \n",
       "75%    7.834657e-01  6.335689e-01  4.770526e-01    8.382015e-02  \n",
       "max    2.151955e+00  3.061405e+00  6.599195e+00    4.523823e+00  "
      ]
     },
     "execution_count": 106,
     "metadata": {},
     "output_type": "execute_result"
    }
   ],
   "source": [
    "final_playlist_merged_scaled_df.describe()"
   ]
  },
  {
   "cell_type": "code",
   "execution_count": 107,
   "id": "fbe345f9",
   "metadata": {},
   "outputs": [
    {
     "data": {
      "image/png": "[encoded data removed]",
      "text/plain": [
       "<Figure size 1080x1080 with 16 Axes>"
      ]
     },
     "metadata": {
      "needs_background": "light"
     },
     "output_type": "display_data"
    }
   ],
   "source": [
    "final_playlist_merged_scaled_df.hist(bins=15, figsize=(15,15));"
   ]
  },
  {
   "cell_type": "markdown",
   "id": "8e734130",
   "metadata": {},
   "source": [
    "### Cluster after scaling"
   ]
  },
  {
   "cell_type": "code",
   "execution_count": 108,
   "id": "13ccff16",
   "metadata": {},
   "outputs": [],
   "source": [
    "kmeans=KMeans(n_clusters=20)"
   ]
  },
  {
   "cell_type": "code",
   "execution_count": 109,
   "id": "65527dc2",
   "metadata": {},
   "outputs": [],
   "source": [
    "cluster_scaled=kmeans.fit(final_playlist_merged_scaled_df)"
   ]
  },
  {
   "cell_type": "code",
   "execution_count": 110,
   "id": "0c2b1798",
   "metadata": {},
   "outputs": [],
   "source": [
    "final_playlist_merged_scaled_df_c = final_playlist_merged_scaled_df.copy()\n",
    "final_playlist_merged_scaled_df_c['cluster']=cluster_scaled.labels_"
   ]
  },
  {
   "cell_type": "code",
   "execution_count": 111,
   "id": "f5f88854",
   "metadata": {},
   "outputs": [
    {
     "data": {
      "text/html": [
       "<div>\n",
       "<style scoped>\n",
       "    .dataframe tbody tr th:only-of-type {\n",
       "        vertical-align: middle;\n",
       "    }\n",
       "\n",
       "    .dataframe tbody tr th {\n",
       "        vertical-align: top;\n",
       "    }\n",
       "\n",
       "    .dataframe thead th {\n",
       "        text-align: right;\n",
       "    }\n",
       "</style>\n",
       "<table border=\"1\" class=\"dataframe\">\n",
       "  <thead>\n",
       "    <tr style=\"text-align: right;\">\n",
       "      <th></th>\n",
       "      <th>danceability</th>\n",
       "      <th>energy</th>\n",
       "      <th>key</th>\n",
       "      <th>loudness</th>\n",
       "      <th>mode</th>\n",
       "      <th>speechiness</th>\n",
       "      <th>acousticness</th>\n",
       "      <th>instrumentalness</th>\n",
       "      <th>liveness</th>\n",
       "      <th>valence</th>\n",
       "      <th>tempo</th>\n",
       "      <th>duration_ms</th>\n",
       "      <th>time_signature</th>\n",
       "      <th>cluster</th>\n",
       "    </tr>\n",
       "  </thead>\n",
       "  <tbody>\n",
       "    <tr>\n",
       "      <th>0</th>\n",
       "      <td>-0.666610</td>\n",
       "      <td>-2.903018</td>\n",
       "      <td>-0.584911</td>\n",
       "      <td>-2.409941</td>\n",
       "      <td>0.754198</td>\n",
       "      <td>-0.601356</td>\n",
       "      <td>2.678262</td>\n",
       "      <td>-0.243104</td>\n",
       "      <td>-0.272790</td>\n",
       "      <td>-0.863136</td>\n",
       "      <td>-1.363160</td>\n",
       "      <td>-0.888908</td>\n",
       "      <td>-4.356183</td>\n",
       "      <td>12</td>\n",
       "    </tr>\n",
       "    <tr>\n",
       "      <th>1</th>\n",
       "      <td>-1.210873</td>\n",
       "      <td>-1.960597</td>\n",
       "      <td>0.506155</td>\n",
       "      <td>-1.026339</td>\n",
       "      <td>-1.325911</td>\n",
       "      <td>-0.540948</td>\n",
       "      <td>2.722357</td>\n",
       "      <td>-0.243822</td>\n",
       "      <td>0.007462</td>\n",
       "      <td>0.275800</td>\n",
       "      <td>-1.471465</td>\n",
       "      <td>-0.889623</td>\n",
       "      <td>0.083820</td>\n",
       "      <td>4</td>\n",
       "    </tr>\n",
       "    <tr>\n",
       "      <th>2</th>\n",
       "      <td>-1.210873</td>\n",
       "      <td>-2.316623</td>\n",
       "      <td>-0.039378</td>\n",
       "      <td>-3.385273</td>\n",
       "      <td>0.754198</td>\n",
       "      <td>-0.600296</td>\n",
       "      <td>2.433739</td>\n",
       "      <td>-0.243807</td>\n",
       "      <td>-0.433934</td>\n",
       "      <td>-1.286926</td>\n",
       "      <td>-0.468791</td>\n",
       "      <td>-1.541757</td>\n",
       "      <td>-4.356183</td>\n",
       "      <td>12</td>\n",
       "    </tr>\n",
       "    <tr>\n",
       "      <th>3</th>\n",
       "      <td>-0.096431</td>\n",
       "      <td>-0.829693</td>\n",
       "      <td>1.324455</td>\n",
       "      <td>-0.954762</td>\n",
       "      <td>-1.325911</td>\n",
       "      <td>-0.627851</td>\n",
       "      <td>2.173182</td>\n",
       "      <td>0.042201</td>\n",
       "      <td>1.282608</td>\n",
       "      <td>0.244899</td>\n",
       "      <td>1.255879</td>\n",
       "      <td>0.875859</td>\n",
       "      <td>0.083820</td>\n",
       "      <td>16</td>\n",
       "    </tr>\n",
       "    <tr>\n",
       "      <th>4</th>\n",
       "      <td>-0.699007</td>\n",
       "      <td>-3.513497</td>\n",
       "      <td>-1.403211</td>\n",
       "      <td>-6.613561</td>\n",
       "      <td>0.754198</td>\n",
       "      <td>-0.469941</td>\n",
       "      <td>3.239463</td>\n",
       "      <td>7.754700</td>\n",
       "      <td>-0.595079</td>\n",
       "      <td>-1.481163</td>\n",
       "      <td>0.089658</td>\n",
       "      <td>1.795425</td>\n",
       "      <td>-4.356183</td>\n",
       "      <td>18</td>\n",
       "    </tr>\n",
       "  </tbody>\n",
       "</table>\n",
       "</div>"
      ],
      "text/plain": [
       "   danceability    energy       key  loudness      mode  speechiness  \\\n",
       "0     -0.666610 -2.903018 -0.584911 -2.409941  0.754198    -0.601356   \n",
       "1     -1.210873 -1.960597  0.506155 -1.026339 -1.325911    -0.540948   \n",
       "2     -1.210873 -2.316623 -0.039378 -3.385273  0.754198    -0.600296   \n",
       "3     -0.096431 -0.829693  1.324455 -0.954762 -1.325911    -0.627851   \n",
       "4     -0.699007 -3.513497 -1.403211 -6.613561  0.754198    -0.469941   \n",
       "\n",
       "   acousticness  instrumentalness  liveness   valence     tempo  duration_ms  \\\n",
       "0      2.678262         -0.243104 -0.272790 -0.863136 -1.363160    -0.888908   \n",
       "1      2.722357         -0.243822  0.007462  0.275800 -1.471465    -0.889623   \n",
       "2      2.433739         -0.243807 -0.433934 -1.286926 -0.468791    -1.541757   \n",
       "3      2.173182          0.042201  1.282608  0.244899  1.255879     0.875859   \n",
       "4      3.239463          7.754700 -0.595079 -1.481163  0.089658     1.795425   \n",
       "\n",
       "   time_signature  cluster  \n",
       "0       -4.356183       12  \n",
       "1        0.083820        4  \n",
       "2       -4.356183       12  \n",
       "3        0.083820       16  \n",
       "4       -4.356183       18  "
      ]
     },
     "execution_count": 111,
     "metadata": {},
     "output_type": "execute_result"
    }
   ],
   "source": [
    "final_playlist_merged_scaled_df_c.head()"
   ]
  },
  {
   "cell_type": "code",
   "execution_count": 112,
   "id": "815b60ac",
   "metadata": {},
   "outputs": [
    {
     "data": {
      "text/plain": [
       "11    171\n",
       "10    169\n",
       "9     167\n",
       "13    154\n",
       "5     146\n",
       "1     134\n",
       "15    114\n",
       "2     105\n",
       "14    104\n",
       "8      88\n",
       "4      87\n",
       "16     75\n",
       "0      71\n",
       "3      57\n",
       "6      52\n",
       "12     40\n",
       "7      39\n",
       "19     19\n",
       "18      6\n",
       "17      3\n",
       "Name: cluster, dtype: int64"
      ]
     },
     "execution_count": 112,
     "metadata": {},
     "output_type": "execute_result"
    }
   ],
   "source": [
    "final_playlist_merged_scaled_df_c['cluster'].value_counts()"
   ]
  },
  {
   "cell_type": "code",
   "execution_count": 113,
   "id": "27772679",
   "metadata": {},
   "outputs": [
    {
     "data": {
      "text/plain": [
       "19    182\n",
       "4     176\n",
       "14    167\n",
       "12    154\n",
       "2     150\n",
       "18    139\n",
       "15    131\n",
       "10    121\n",
       "9     110\n",
       "0     108\n",
       "1      80\n",
       "11     77\n",
       "5      64\n",
       "6      43\n",
       "17     41\n",
       "13     18\n",
       "8      14\n",
       "3      11\n",
       "16      8\n",
       "7       7\n",
       "Name: cluster, dtype: int64"
      ]
     },
     "execution_count": 113,
     "metadata": {},
     "output_type": "execute_result"
    }
   ],
   "source": [
    "final_playlist_merged_c['cluster'].value_counts()"
   ]
  },
  {
   "cell_type": "markdown",
   "id": "3c4b1c66",
   "metadata": {},
   "source": [
    "The scaled df seems to be slightly more balanced"
   ]
  },
  {
   "cell_type": "markdown",
   "id": "73689175",
   "metadata": {},
   "source": [
    "### Finding Optimal K"
   ]
  },
  {
   "cell_type": "code",
   "execution_count": 114,
   "id": "114716cd",
   "metadata": {},
   "outputs": [
    {
     "data": {
      "text/plain": [
       "10633.147325708924"
      ]
     },
     "execution_count": 114,
     "metadata": {},
     "output_type": "execute_result"
    }
   ],
   "source": [
    "kmeans.inertia_"
   ]
  },
  {
   "cell_type": "code",
   "execution_count": 115,
   "id": "6bba45a5",
   "metadata": {},
   "outputs": [
    {
     "name": "stdout",
     "output_type": "stream",
     "text": [
      "37476657775.18417\n"
     ]
    }
   ],
   "source": [
    "kmeans=KMeans(n_clusters=20)\n",
    "kmeans.fit(final_playlist_merged)\n",
    "print(kmeans.inertia_)"
   ]
  },
  {
   "cell_type": "code",
   "execution_count": 116,
   "id": "0e84acad",
   "metadata": {},
   "outputs": [],
   "source": [
    "K= range(7,30)"
   ]
  },
  {
   "cell_type": "code",
   "execution_count": 117,
   "id": "49f74589",
   "metadata": {},
   "outputs": [
    {
     "name": "stdout",
     "output_type": "stream",
     "text": [
      "[313022702931.5111, 243430548936.7319, 197658845186.03015, 162607177689.85034, 133206079149.14597, 108687246527.24452, 92160836120.50299, 77400328579.01495, 67047709183.41785, 59119754351.65944, 51614151667.47104, 46174998837.3483, 41911002578.40024, 38501552092.04088, 34915013232.9173, 32170921510.784298, 29764253726.814636, 27158645266.321484, 25094737189.74131, 23270374157.824432, 21450662033.51717, 19757625062.012096, 17933384306.508972]\n"
     ]
    }
   ],
   "source": [
    "#gathering the k inertia values \n",
    "inertia = []\n",
    "for k in K:\n",
    "    kmeans=KMeans(n_clusters=k,random_state=40)\n",
    "    kmeans.fit(final_playlist_merged)\n",
    "    inertia.append(kmeans.inertia_)\n",
    "\n",
    "print(inertia) "
   ]
  },
  {
   "cell_type": "code",
   "execution_count": 118,
   "id": "a1fb4939",
   "metadata": {
    "scrolled": true
   },
   "outputs": [
    {
     "data": {
      "image/png": "[encoded data removed]",
      "text/plain": [
       "<Figure size 1152x576 with 1 Axes>"
      ]
     },
     "metadata": {
      "needs_background": "light"
     },
     "output_type": "display_data"
    }
   ],
   "source": [
    "# plot the results \n",
    "plt.figure(figsize=(16,8))\n",
    "plt.plot(K, inertia, 'bx-')\n",
    "plt.xlabel('k')\n",
    "plt.ylabel('inertia')\n",
    "plt.xticks(np.arange(min(K),max(K)+1,1.0))\n",
    "plt.title('elbow method, optimal k by inertia');"
   ]
  },
  {
   "cell_type": "markdown",
   "id": "96be92b0",
   "metadata": {},
   "source": [
    "K=16 seems to be a good option according to the above plot"
   ]
  },
  {
   "cell_type": "markdown",
   "id": "efc5f0a2",
   "metadata": {},
   "source": [
    "### Clustering with the new K value"
   ]
  },
  {
   "cell_type": "markdown",
   "id": "c56b162e",
   "metadata": {},
   "source": [
    "#### Cluster with original df"
   ]
  },
  {
   "cell_type": "code",
   "execution_count": 119,
   "id": "30f2647b",
   "metadata": {},
   "outputs": [],
   "source": [
    "kmeans=KMeans(n_clusters=16)"
   ]
  },
  {
   "cell_type": "code",
   "execution_count": 120,
   "id": "fd5a5183",
   "metadata": {},
   "outputs": [],
   "source": [
    "cluster=kmeans.fit(final_playlist_merged)"
   ]
  },
  {
   "cell_type": "code",
   "execution_count": 121,
   "id": "c776831c",
   "metadata": {},
   "outputs": [],
   "source": [
    "final_playlist_merged_c=final_playlist_merged.copy()\n",
    "final_playlist_merged_c['cluster']=cluster.labels_"
   ]
  },
  {
   "cell_type": "code",
   "execution_count": 122,
   "id": "d7092230",
   "metadata": {},
   "outputs": [],
   "source": [
    "final_playlist_merged_c['cluster']=cluster.labels_"
   ]
  },
  {
   "cell_type": "code",
   "execution_count": 123,
   "id": "53c66e04",
   "metadata": {},
   "outputs": [
    {
     "data": {
      "text/html": [
       "<div>\n",
       "<style scoped>\n",
       "    .dataframe tbody tr th:only-of-type {\n",
       "        vertical-align: middle;\n",
       "    }\n",
       "\n",
       "    .dataframe tbody tr th {\n",
       "        vertical-align: top;\n",
       "    }\n",
       "\n",
       "    .dataframe thead th {\n",
       "        text-align: right;\n",
       "    }\n",
       "</style>\n",
       "<table border=\"1\" class=\"dataframe\">\n",
       "  <thead>\n",
       "    <tr style=\"text-align: right;\">\n",
       "      <th></th>\n",
       "      <th>danceability</th>\n",
       "      <th>energy</th>\n",
       "      <th>key</th>\n",
       "      <th>loudness</th>\n",
       "      <th>mode</th>\n",
       "      <th>speechiness</th>\n",
       "      <th>acousticness</th>\n",
       "      <th>instrumentalness</th>\n",
       "      <th>liveness</th>\n",
       "      <th>valence</th>\n",
       "      <th>tempo</th>\n",
       "      <th>duration_ms</th>\n",
       "      <th>time_signature</th>\n",
       "      <th>cluster</th>\n",
       "    </tr>\n",
       "  </thead>\n",
       "  <tbody>\n",
       "    <tr>\n",
       "      <th>Som vanligt</th>\n",
       "      <td>0.483</td>\n",
       "      <td>0.1460</td>\n",
       "      <td>3</td>\n",
       "      <td>-13.221</td>\n",
       "      <td>1</td>\n",
       "      <td>0.0329</td>\n",
       "      <td>0.853</td>\n",
       "      <td>0.000085</td>\n",
       "      <td>0.151</td>\n",
       "      <td>0.288</td>\n",
       "      <td>82.335</td>\n",
       "      <td>174040</td>\n",
       "      <td>3</td>\n",
       "      <td>14</td>\n",
       "    </tr>\n",
       "    <tr>\n",
       "      <th>Feeling Good</th>\n",
       "      <td>0.399</td>\n",
       "      <td>0.3260</td>\n",
       "      <td>7</td>\n",
       "      <td>-9.239</td>\n",
       "      <td>0</td>\n",
       "      <td>0.0386</td>\n",
       "      <td>0.864</td>\n",
       "      <td>0.000000</td>\n",
       "      <td>0.191</td>\n",
       "      <td>0.546</td>\n",
       "      <td>79.206</td>\n",
       "      <td>174000</td>\n",
       "      <td>4</td>\n",
       "      <td>14</td>\n",
       "    </tr>\n",
       "    <tr>\n",
       "      <th>What A Wonderful World</th>\n",
       "      <td>0.399</td>\n",
       "      <td>0.2580</td>\n",
       "      <td>5</td>\n",
       "      <td>-16.028</td>\n",
       "      <td>1</td>\n",
       "      <td>0.0330</td>\n",
       "      <td>0.792</td>\n",
       "      <td>0.000002</td>\n",
       "      <td>0.128</td>\n",
       "      <td>0.192</td>\n",
       "      <td>108.174</td>\n",
       "      <td>137520</td>\n",
       "      <td>3</td>\n",
       "      <td>13</td>\n",
       "    </tr>\n",
       "    <tr>\n",
       "      <th>Koop Island Blues</th>\n",
       "      <td>0.571</td>\n",
       "      <td>0.5420</td>\n",
       "      <td>10</td>\n",
       "      <td>-9.033</td>\n",
       "      <td>0</td>\n",
       "      <td>0.0304</td>\n",
       "      <td>0.727</td>\n",
       "      <td>0.033900</td>\n",
       "      <td>0.373</td>\n",
       "      <td>0.539</td>\n",
       "      <td>158.001</td>\n",
       "      <td>272760</td>\n",
       "      <td>4</td>\n",
       "      <td>7</td>\n",
       "    </tr>\n",
       "    <tr>\n",
       "      <th>Skating In Central Park</th>\n",
       "      <td>0.478</td>\n",
       "      <td>0.0294</td>\n",
       "      <td>0</td>\n",
       "      <td>-25.319</td>\n",
       "      <td>1</td>\n",
       "      <td>0.0453</td>\n",
       "      <td>0.993</td>\n",
       "      <td>0.948000</td>\n",
       "      <td>0.105</td>\n",
       "      <td>0.148</td>\n",
       "      <td>124.308</td>\n",
       "      <td>324200</td>\n",
       "      <td>3</td>\n",
       "      <td>12</td>\n",
       "    </tr>\n",
       "  </tbody>\n",
       "</table>\n",
       "</div>"
      ],
      "text/plain": [
       "                         danceability  energy  key  loudness  mode  \\\n",
       "Som vanligt                     0.483  0.1460    3   -13.221     1   \n",
       "Feeling Good                    0.399  0.3260    7    -9.239     0   \n",
       "What A Wonderful World          0.399  0.2580    5   -16.028     1   \n",
       "Koop Island Blues               0.571  0.5420   10    -9.033     0   \n",
       "Skating In Central Park         0.478  0.0294    0   -25.319     1   \n",
       "\n",
       "                         speechiness  acousticness  instrumentalness  \\\n",
       "Som vanligt                   0.0329         0.853          0.000085   \n",
       "Feeling Good                  0.0386         0.864          0.000000   \n",
       "What A Wonderful World        0.0330         0.792          0.000002   \n",
       "Koop Island Blues             0.0304         0.727          0.033900   \n",
       "Skating In Central Park       0.0453         0.993          0.948000   \n",
       "\n",
       "                         liveness  valence    tempo  duration_ms  \\\n",
       "Som vanligt                 0.151    0.288   82.335       174040   \n",
       "Feeling Good                0.191    0.546   79.206       174000   \n",
       "What A Wonderful World      0.128    0.192  108.174       137520   \n",
       "Koop Island Blues           0.373    0.539  158.001       272760   \n",
       "Skating In Central Park     0.105    0.148  124.308       324200   \n",
       "\n",
       "                         time_signature  cluster  \n",
       "Som vanligt                           3       14  \n",
       "Feeling Good                          4       14  \n",
       "What A Wonderful World                3       13  \n",
       "Koop Island Blues                     4        7  \n",
       "Skating In Central Park               3       12  "
      ]
     },
     "execution_count": 123,
     "metadata": {},
     "output_type": "execute_result"
    }
   ],
   "source": [
    "final_playlist_merged_c.head()"
   ]
  },
  {
   "cell_type": "code",
   "execution_count": 124,
   "id": "037ae6ab",
   "metadata": {},
   "outputs": [
    {
     "data": {
      "image/png": "[encoded data removed]",
      "text/plain": [
       "<Figure size 432x288 with 1 Axes>"
      ]
     },
     "metadata": {
      "needs_background": "light"
     },
     "output_type": "display_data"
    }
   ],
   "source": [
    "plt.scatter(final_playlist_merged_c.iloc[:,6],final_playlist_merged_c.iloc[:,10],c=final_playlist_merged_c.iloc[:,13]);\n",
    "#plot 2 numeric values with the cluster to examine it"
   ]
  },
  {
   "cell_type": "code",
   "execution_count": 125,
   "id": "9b98a69e",
   "metadata": {},
   "outputs": [],
   "source": [
    "markersize = final_playlist_merged_c['tempo']\n",
    "markercolor = final_playlist_merged_c['cluster']\n",
    "fig1 = go.Scatter3d(x=final_playlist_merged_c['energy'],\n",
    "                    y=final_playlist_merged_c['acousticness'],\n",
    "                    z=final_playlist_merged_c['instrumentalness'],\n",
    "                    marker=dict(size=markersize,\n",
    "                                color=markercolor,\n",
    "                                opacity=0.9,\n",
    "                                reversescale=True,\n",
    "                                colorscale='Blues'),\n",
    "                    line=dict (width=0.02),\n",
    "                    mode='markers')\n",
    "#Make Plot.ly Layout\n",
    "mylayout = go.Layout(scene=dict(xaxis=dict( title=\"energy\"),\n",
    "                                yaxis=dict( title=\"acousticness\"),\n",
    "                                zaxis=dict(title=\"instrumentalness\")),)"
   ]
  },
  {
   "cell_type": "code",
   "execution_count": 126,
   "id": "0deaeb21",
   "metadata": {},
   "outputs": [
    {
     "data": {
      "text/plain": [
       "'5Dplot.html'"
      ]
     },
     "execution_count": 126,
     "metadata": {},
     "output_type": "execute_result"
    }
   ],
   "source": [
    "plotly.offline.plot({\"data\":[fig1],\n",
    "                    \"layout\":mylayout},\n",
    "                    auto_open=True,\n",
    "                    filename=(\"5Dplot.html\"))"
   ]
  },
  {
   "cell_type": "markdown",
   "id": "20355661",
   "metadata": {},
   "source": [
    "#### Cluster with scaled df"
   ]
  },
  {
   "cell_type": "code",
   "execution_count": 127,
   "id": "e0371ea0",
   "metadata": {},
   "outputs": [],
   "source": [
    "kmeans=KMeans(n_clusters=16)"
   ]
  },
  {
   "cell_type": "code",
   "execution_count": 128,
   "id": "f55bcd9f",
   "metadata": {},
   "outputs": [],
   "source": [
    "cluster_scaled=kmeans.fit(final_playlist_merged_scaled_df)"
   ]
  },
  {
   "cell_type": "code",
   "execution_count": 129,
   "id": "9ba269d6",
   "metadata": {},
   "outputs": [],
   "source": [
    "final_playlist_merged_scaled_df_c = final_playlist_merged_scaled_df.copy()\n",
    "final_playlist_merged_scaled_df_c['cluster']=cluster_scaled.labels_"
   ]
  },
  {
   "cell_type": "code",
   "execution_count": 130,
   "id": "5dd82fdb",
   "metadata": {},
   "outputs": [],
   "source": [
    "final_playlist_merged_scaled_df_c['cluster']=cluster.labels_"
   ]
  },
  {
   "cell_type": "code",
   "execution_count": 131,
   "id": "e4f79c35",
   "metadata": {},
   "outputs": [
    {
     "data": {
      "text/html": [
       "<div>\n",
       "<style scoped>\n",
       "    .dataframe tbody tr th:only-of-type {\n",
       "        vertical-align: middle;\n",
       "    }\n",
       "\n",
       "    .dataframe tbody tr th {\n",
       "        vertical-align: top;\n",
       "    }\n",
       "\n",
       "    .dataframe thead th {\n",
       "        text-align: right;\n",
       "    }\n",
       "</style>\n",
       "<table border=\"1\" class=\"dataframe\">\n",
       "  <thead>\n",
       "    <tr style=\"text-align: right;\">\n",
       "      <th></th>\n",
       "      <th>danceability</th>\n",
       "      <th>energy</th>\n",
       "      <th>key</th>\n",
       "      <th>loudness</th>\n",
       "      <th>mode</th>\n",
       "      <th>speechiness</th>\n",
       "      <th>acousticness</th>\n",
       "      <th>instrumentalness</th>\n",
       "      <th>liveness</th>\n",
       "      <th>valence</th>\n",
       "      <th>tempo</th>\n",
       "      <th>duration_ms</th>\n",
       "      <th>time_signature</th>\n",
       "      <th>cluster</th>\n",
       "    </tr>\n",
       "  </thead>\n",
       "  <tbody>\n",
       "    <tr>\n",
       "      <th>0</th>\n",
       "      <td>-0.666610</td>\n",
       "      <td>-2.903018</td>\n",
       "      <td>-0.584911</td>\n",
       "      <td>-2.409941</td>\n",
       "      <td>0.754198</td>\n",
       "      <td>-0.601356</td>\n",
       "      <td>2.678262</td>\n",
       "      <td>-0.243104</td>\n",
       "      <td>-0.272790</td>\n",
       "      <td>-0.863136</td>\n",
       "      <td>-1.363160</td>\n",
       "      <td>-0.888908</td>\n",
       "      <td>-4.356183</td>\n",
       "      <td>14</td>\n",
       "    </tr>\n",
       "    <tr>\n",
       "      <th>1</th>\n",
       "      <td>-1.210873</td>\n",
       "      <td>-1.960597</td>\n",
       "      <td>0.506155</td>\n",
       "      <td>-1.026339</td>\n",
       "      <td>-1.325911</td>\n",
       "      <td>-0.540948</td>\n",
       "      <td>2.722357</td>\n",
       "      <td>-0.243822</td>\n",
       "      <td>0.007462</td>\n",
       "      <td>0.275800</td>\n",
       "      <td>-1.471465</td>\n",
       "      <td>-0.889623</td>\n",
       "      <td>0.083820</td>\n",
       "      <td>14</td>\n",
       "    </tr>\n",
       "    <tr>\n",
       "      <th>2</th>\n",
       "      <td>-1.210873</td>\n",
       "      <td>-2.316623</td>\n",
       "      <td>-0.039378</td>\n",
       "      <td>-3.385273</td>\n",
       "      <td>0.754198</td>\n",
       "      <td>-0.600296</td>\n",
       "      <td>2.433739</td>\n",
       "      <td>-0.243807</td>\n",
       "      <td>-0.433934</td>\n",
       "      <td>-1.286926</td>\n",
       "      <td>-0.468791</td>\n",
       "      <td>-1.541757</td>\n",
       "      <td>-4.356183</td>\n",
       "      <td>13</td>\n",
       "    </tr>\n",
       "    <tr>\n",
       "      <th>3</th>\n",
       "      <td>-0.096431</td>\n",
       "      <td>-0.829693</td>\n",
       "      <td>1.324455</td>\n",
       "      <td>-0.954762</td>\n",
       "      <td>-1.325911</td>\n",
       "      <td>-0.627851</td>\n",
       "      <td>2.173182</td>\n",
       "      <td>0.042201</td>\n",
       "      <td>1.282608</td>\n",
       "      <td>0.244899</td>\n",
       "      <td>1.255879</td>\n",
       "      <td>0.875859</td>\n",
       "      <td>0.083820</td>\n",
       "      <td>7</td>\n",
       "    </tr>\n",
       "    <tr>\n",
       "      <th>4</th>\n",
       "      <td>-0.699007</td>\n",
       "      <td>-3.513497</td>\n",
       "      <td>-1.403211</td>\n",
       "      <td>-6.613561</td>\n",
       "      <td>0.754198</td>\n",
       "      <td>-0.469941</td>\n",
       "      <td>3.239463</td>\n",
       "      <td>7.754700</td>\n",
       "      <td>-0.595079</td>\n",
       "      <td>-1.481163</td>\n",
       "      <td>0.089658</td>\n",
       "      <td>1.795425</td>\n",
       "      <td>-4.356183</td>\n",
       "      <td>12</td>\n",
       "    </tr>\n",
       "  </tbody>\n",
       "</table>\n",
       "</div>"
      ],
      "text/plain": [
       "   danceability    energy       key  loudness      mode  speechiness  \\\n",
       "0     -0.666610 -2.903018 -0.584911 -2.409941  0.754198    -0.601356   \n",
       "1     -1.210873 -1.960597  0.506155 -1.026339 -1.325911    -0.540948   \n",
       "2     -1.210873 -2.316623 -0.039378 -3.385273  0.754198    -0.600296   \n",
       "3     -0.096431 -0.829693  1.324455 -0.954762 -1.325911    -0.627851   \n",
       "4     -0.699007 -3.513497 -1.403211 -6.613561  0.754198    -0.469941   \n",
       "\n",
       "   acousticness  instrumentalness  liveness   valence     tempo  duration_ms  \\\n",
       "0      2.678262         -0.243104 -0.272790 -0.863136 -1.363160    -0.888908   \n",
       "1      2.722357         -0.243822  0.007462  0.275800 -1.471465    -0.889623   \n",
       "2      2.433739         -0.243807 -0.433934 -1.286926 -0.468791    -1.541757   \n",
       "3      2.173182          0.042201  1.282608  0.244899  1.255879     0.875859   \n",
       "4      3.239463          7.754700 -0.595079 -1.481163  0.089658     1.795425   \n",
       "\n",
       "   time_signature  cluster  \n",
       "0       -4.356183       14  \n",
       "1        0.083820       14  \n",
       "2       -4.356183       13  \n",
       "3        0.083820        7  \n",
       "4       -4.356183       12  "
      ]
     },
     "execution_count": 131,
     "metadata": {},
     "output_type": "execute_result"
    }
   ],
   "source": [
    "final_playlist_merged_scaled_df_c.head()"
   ]
  },
  {
   "cell_type": "code",
   "execution_count": 132,
   "id": "f5ce7496",
   "metadata": {
    "scrolled": true
   },
   "outputs": [
    {
     "data": {
      "image/png": "[encoded data removed]",
      "text/plain": [
       "<Figure size 432x288 with 1 Axes>"
      ]
     },
     "metadata": {
      "needs_background": "light"
     },
     "output_type": "display_data"
    }
   ],
   "source": [
    "plt.scatter(final_playlist_merged_scaled_df_c.iloc[:,6],final_playlist_merged_scaled_df_c.iloc[:,10],c=final_playlist_merged_scaled_df_c.iloc[:,13]);\n",
    "#plot 2 numeric values with the cluster to examine it"
   ]
  },
  {
   "cell_type": "markdown",
   "id": "e55322bb",
   "metadata": {},
   "source": [
    "### Create final df with Song, Artist and Cluster"
   ]
  },
  {
   "cell_type": "code",
   "execution_count": 133,
   "id": "ca9c4db5",
   "metadata": {},
   "outputs": [],
   "source": [
    "songname_column = full_playlist[\"song_name\"].to_list()"
   ]
  },
  {
   "cell_type": "code",
   "execution_count": 134,
   "id": "216959d3",
   "metadata": {},
   "outputs": [],
   "source": [
    "songid_column = full_playlist[\"song_ID\"].to_list()"
   ]
  },
  {
   "cell_type": "code",
   "execution_count": 135,
   "id": "96dd70c5",
   "metadata": {},
   "outputs": [],
   "source": [
    "artist_column = full_playlist[\"song_artist\"].to_list()"
   ]
  },
  {
   "cell_type": "code",
   "execution_count": 136,
   "id": "3425656a",
   "metadata": {},
   "outputs": [],
   "source": [
    "cluster_column = final_playlist_merged_scaled_df_c[\"cluster\"].to_list()"
   ]
  },
  {
   "cell_type": "code",
   "execution_count": 137,
   "id": "ab708dbe",
   "metadata": {},
   "outputs": [],
   "source": [
    "f_df=pd.DataFrame({\"song\":songname_column, \"song_ID\":songid_column, \"artist\":artist_column, \"cluster\":cluster_column})"
   ]
  },
  {
   "cell_type": "code",
   "execution_count": 138,
   "id": "15f3ff2a",
   "metadata": {
    "scrolled": true
   },
   "outputs": [
    {
     "data": {
      "text/html": [
       "<div>\n",
       "<style scoped>\n",
       "    .dataframe tbody tr th:only-of-type {\n",
       "        vertical-align: middle;\n",
       "    }\n",
       "\n",
       "    .dataframe tbody tr th {\n",
       "        vertical-align: top;\n",
       "    }\n",
       "\n",
       "    .dataframe thead th {\n",
       "        text-align: right;\n",
       "    }\n",
       "</style>\n",
       "<table border=\"1\" class=\"dataframe\">\n",
       "  <thead>\n",
       "    <tr style=\"text-align: right;\">\n",
       "      <th></th>\n",
       "      <th>song</th>\n",
       "      <th>song_ID</th>\n",
       "      <th>artist</th>\n",
       "      <th>cluster</th>\n",
       "    </tr>\n",
       "  </thead>\n",
       "  <tbody>\n",
       "    <tr>\n",
       "      <th>0</th>\n",
       "      <td>Som vanligt</td>\n",
       "      <td>2x8BetKgW0IRTnlbKxwTiZ</td>\n",
       "      <td>Bo Sundström</td>\n",
       "      <td>14</td>\n",
       "    </tr>\n",
       "    <tr>\n",
       "      <th>1</th>\n",
       "      <td>Feeling Good</td>\n",
       "      <td>6Rqn2GFlmvmV4w9Ala0I1e</td>\n",
       "      <td>Nina Simone</td>\n",
       "      <td>14</td>\n",
       "    </tr>\n",
       "    <tr>\n",
       "      <th>2</th>\n",
       "      <td>What A Wonderful World</td>\n",
       "      <td>1qCQTy0fTXerET4x8VHyr9</td>\n",
       "      <td>Louis Armstrong</td>\n",
       "      <td>13</td>\n",
       "    </tr>\n",
       "    <tr>\n",
       "      <th>3</th>\n",
       "      <td>Koop Island Blues</td>\n",
       "      <td>75sAWnVBYaaYs1mWbB05Qg</td>\n",
       "      <td>Koop</td>\n",
       "      <td>7</td>\n",
       "    </tr>\n",
       "    <tr>\n",
       "      <th>4</th>\n",
       "      <td>Skating In Central Park</td>\n",
       "      <td>1cpANF6zMBoFoxkoIjZHjv</td>\n",
       "      <td>Bill Evans</td>\n",
       "      <td>12</td>\n",
       "    </tr>\n",
       "  </tbody>\n",
       "</table>\n",
       "</div>"
      ],
      "text/plain": [
       "                      song                 song_ID           artist  cluster\n",
       "0              Som vanligt  2x8BetKgW0IRTnlbKxwTiZ     Bo Sundström       14\n",
       "1             Feeling Good  6Rqn2GFlmvmV4w9Ala0I1e      Nina Simone       14\n",
       "2   What A Wonderful World  1qCQTy0fTXerET4x8VHyr9  Louis Armstrong       13\n",
       "3        Koop Island Blues  75sAWnVBYaaYs1mWbB05Qg             Koop        7\n",
       "4  Skating In Central Park  1cpANF6zMBoFoxkoIjZHjv       Bill Evans       12"
      ]
     },
     "execution_count": 138,
     "metadata": {},
     "output_type": "execute_result"
    }
   ],
   "source": [
    "f_df.head()"
   ]
  },
  {
   "cell_type": "markdown",
   "id": "0ccbd7df",
   "metadata": {},
   "source": [
    "## Final Recomender"
   ]
  },
  {
   "cell_type": "markdown",
   "id": "51bdb7c2",
   "metadata": {},
   "source": [
    "### opening csv file from bilboard hot top 100 songs"
   ]
  },
  {
   "cell_type": "code",
   "execution_count": 183,
   "id": "3ea515aa",
   "metadata": {},
   "outputs": [],
   "source": [
    "import pandas as pd\n",
    "import random\n",
    "from random import sample"
   ]
  },
  {
   "cell_type": "code",
   "execution_count": 140,
   "id": "9e81b7ad",
   "metadata": {},
   "outputs": [],
   "source": [
    "#import csv file from 100hot songs First prototype\n",
    "hot100songs=pd.read_csv('hot100songs.csv')"
   ]
  },
  {
   "cell_type": "markdown",
   "id": "a31b9e9f",
   "metadata": {},
   "source": [
    "### Looping through hot100 songs and spotify playlist "
   ]
  },
  {
   "cell_type": "code",
   "execution_count": 196,
   "id": "04a40714",
   "metadata": {},
   "outputs": [],
   "source": [
    "#hot100songs is the first df\n",
    "#f_df is the spotify playlist with diff clusters"
   ]
  },
  {
   "cell_type": "code",
   "execution_count": 461,
   "id": "56433130",
   "metadata": {},
   "outputs": [
    {
     "data": {
      "text/html": [
       "<div>\n",
       "<style scoped>\n",
       "    .dataframe tbody tr th:only-of-type {\n",
       "        vertical-align: middle;\n",
       "    }\n",
       "\n",
       "    .dataframe tbody tr th {\n",
       "        vertical-align: top;\n",
       "    }\n",
       "\n",
       "    .dataframe thead th {\n",
       "        text-align: right;\n",
       "    }\n",
       "</style>\n",
       "<table border=\"1\" class=\"dataframe\">\n",
       "  <thead>\n",
       "    <tr style=\"text-align: right;\">\n",
       "      <th></th>\n",
       "      <th>song</th>\n",
       "      <th>song_ID</th>\n",
       "      <th>artist</th>\n",
       "      <th>cluster</th>\n",
       "    </tr>\n",
       "  </thead>\n",
       "  <tbody>\n",
       "    <tr>\n",
       "      <th>0</th>\n",
       "      <td>Som vanligt</td>\n",
       "      <td>2x8BetKgW0IRTnlbKxwTiZ</td>\n",
       "      <td>Bo Sundström</td>\n",
       "      <td>14</td>\n",
       "    </tr>\n",
       "    <tr>\n",
       "      <th>1</th>\n",
       "      <td>Feeling Good</td>\n",
       "      <td>6Rqn2GFlmvmV4w9Ala0I1e</td>\n",
       "      <td>Nina Simone</td>\n",
       "      <td>14</td>\n",
       "    </tr>\n",
       "    <tr>\n",
       "      <th>2</th>\n",
       "      <td>What A Wonderful World</td>\n",
       "      <td>1qCQTy0fTXerET4x8VHyr9</td>\n",
       "      <td>Louis Armstrong</td>\n",
       "      <td>13</td>\n",
       "    </tr>\n",
       "    <tr>\n",
       "      <th>3</th>\n",
       "      <td>Koop Island Blues</td>\n",
       "      <td>75sAWnVBYaaYs1mWbB05Qg</td>\n",
       "      <td>Koop</td>\n",
       "      <td>7</td>\n",
       "    </tr>\n",
       "    <tr>\n",
       "      <th>4</th>\n",
       "      <td>Skating In Central Park</td>\n",
       "      <td>1cpANF6zMBoFoxkoIjZHjv</td>\n",
       "      <td>Bill Evans</td>\n",
       "      <td>12</td>\n",
       "    </tr>\n",
       "    <tr>\n",
       "      <th>...</th>\n",
       "      <td>...</td>\n",
       "      <td>...</td>\n",
       "      <td>...</td>\n",
       "      <td>...</td>\n",
       "    </tr>\n",
       "    <tr>\n",
       "      <th>1796</th>\n",
       "      <td>You &amp; Me</td>\n",
       "      <td>1t1TlScCLPDiWihHFGHrrB</td>\n",
       "      <td>Disclosure</td>\n",
       "      <td>0</td>\n",
       "    </tr>\n",
       "    <tr>\n",
       "      <th>1797</th>\n",
       "      <td>Thinking 'Bout You (Interlude)</td>\n",
       "      <td>4IMErqy1nsHawYyMc1pFjQ</td>\n",
       "      <td>Disclosure</td>\n",
       "      <td>8</td>\n",
       "    </tr>\n",
       "    <tr>\n",
       "      <th>1798</th>\n",
       "      <td>Charlie Brown</td>\n",
       "      <td>1yqMgZNrevsWMLWfO2PRp5</td>\n",
       "      <td>Coldplay</td>\n",
       "      <td>7</td>\n",
       "    </tr>\n",
       "    <tr>\n",
       "      <th>1799</th>\n",
       "      <td>Tyrants</td>\n",
       "      <td>1q6qol2S6DVzblAZuXT02K</td>\n",
       "      <td>Catfish and the Bottlemen</td>\n",
       "      <td>7</td>\n",
       "    </tr>\n",
       "    <tr>\n",
       "      <th>1800</th>\n",
       "      <td>How To Fly</td>\n",
       "      <td>3jAoLij05OiNndX2XlSRdS</td>\n",
       "      <td>Sticky Fingers</td>\n",
       "      <td>15</td>\n",
       "    </tr>\n",
       "  </tbody>\n",
       "</table>\n",
       "<p>1801 rows × 4 columns</p>\n",
       "</div>"
      ],
      "text/plain": [
       "                                song                 song_ID  \\\n",
       "0                        Som vanligt  2x8BetKgW0IRTnlbKxwTiZ   \n",
       "1                       Feeling Good  6Rqn2GFlmvmV4w9Ala0I1e   \n",
       "2             What A Wonderful World  1qCQTy0fTXerET4x8VHyr9   \n",
       "3                  Koop Island Blues  75sAWnVBYaaYs1mWbB05Qg   \n",
       "4            Skating In Central Park  1cpANF6zMBoFoxkoIjZHjv   \n",
       "...                              ...                     ...   \n",
       "1796                        You & Me  1t1TlScCLPDiWihHFGHrrB   \n",
       "1797  Thinking 'Bout You (Interlude)  4IMErqy1nsHawYyMc1pFjQ   \n",
       "1798                   Charlie Brown  1yqMgZNrevsWMLWfO2PRp5   \n",
       "1799                         Tyrants  1q6qol2S6DVzblAZuXT02K   \n",
       "1800                      How To Fly  3jAoLij05OiNndX2XlSRdS   \n",
       "\n",
       "                         artist  cluster  \n",
       "0                  Bo Sundström       14  \n",
       "1                   Nina Simone       14  \n",
       "2               Louis Armstrong       13  \n",
       "3                          Koop        7  \n",
       "4                    Bill Evans       12  \n",
       "...                         ...      ...  \n",
       "1796                 Disclosure        0  \n",
       "1797                 Disclosure        8  \n",
       "1798                   Coldplay        7  \n",
       "1799  Catfish and the Bottlemen        7  \n",
       "1800             Sticky Fingers       15  \n",
       "\n",
       "[1801 rows x 4 columns]"
      ]
     },
     "execution_count": 461,
     "metadata": {},
     "output_type": "execute_result"
    }
   ],
   "source": [
    "f_df"
   ]
  },
  {
   "cell_type": "code",
   "execution_count": 492,
   "id": "8118f416",
   "metadata": {},
   "outputs": [
    {
     "name": "stdout",
     "output_type": "stream",
     "text": [
      "Write down a song to get a recommendation: You & Me\n",
      "This song is not hot, but wait to get a recommendation based on the audio features of the song...\n",
      "We recommend you the song \u001b[1m White Iverson \u001b[0;0m from the artist \u001b[1m Post Malone \u001b[0;0m\n",
      "You can listen to the song here: http://open.spotify.com\n",
      "Thanks for using the music recommender.\n"
     ]
    }
   ],
   "source": [
    "hot100songs[\"song\"] = hot100songs[\"song\"].apply(lambda x: x.lower())\n",
    "hot100songs[\"artist\"] = hot100songs[\"artist\"].apply(lambda x: x.lower())\n",
    "\n",
    "for song in hot100songs[[\"song\",\"artist\"]].iterrows():\n",
    "    user_input = input(\"Write down a song to get a recommendation: \")\n",
    "    if user_input.lower() in list(hot100songs[\"song\"]):\n",
    "        print(\"This song is HOT! Wait to get another hot song recommended...\")\n",
    "        random_song = random.choice(hot100songs[\"song\"]).title()\n",
    "        song_artist = hot100songs.loc[hot100songs[\"song\"] == random.choice(hot100songs[\"song\"]), \"artist\"].values[0].title()\n",
    "        print(\"You may also like the song: \", random_song,\"from the artist\", song_artist)\n",
    "        print(\"Thanks for using the music recommender.\")\n",
    "        break\n",
    "    else:\n",
    "        print(\"This song is not hot, but wait to get a recommendation based on the audio features of the song...\")\n",
    "        df_filtered = (f_df.loc[f_df['song'] == user_input])                    \n",
    "        clustered_df = f_df.loc[f_df[\"cluster\"] == (df_filtered[\"cluster\"].iloc[0])]                      \n",
    "        random_song2 = clustered_df.sample()[\"song\"].values[0]\n",
    "        song_artist = clustered_df.loc[clustered_df[\"song\"] == random_song2, \"artist\"].values[0].title()\n",
    "        \n",
    "\n",
    "        print(\"We recommend you the song\", \"\\033[1m\",random_song2,\"\\033[0;0m\",\"from the artist\",\"\\033[1m\",song_artist,\"\\033[0;0m\")\n",
    "        print(\"You can listen to the song here:\", \"http://open.spotify.com\")\n",
    "        print(\"Thanks for using the music recommender.\")\n",
    "        break"
   ]
  },
  {
   "cell_type": "code",
   "execution_count": 493,
   "id": "df3f3e2c",
   "metadata": {
    "scrolled": true
   },
   "outputs": [
    {
     "data": {
      "text/html": [
       "<div>\n",
       "<style scoped>\n",
       "    .dataframe tbody tr th:only-of-type {\n",
       "        vertical-align: middle;\n",
       "    }\n",
       "\n",
       "    .dataframe tbody tr th {\n",
       "        vertical-align: top;\n",
       "    }\n",
       "\n",
       "    .dataframe thead th {\n",
       "        text-align: right;\n",
       "    }\n",
       "</style>\n",
       "<table border=\"1\" class=\"dataframe\">\n",
       "  <thead>\n",
       "    <tr style=\"text-align: right;\">\n",
       "      <th></th>\n",
       "      <th>song</th>\n",
       "      <th>song_ID</th>\n",
       "      <th>artist</th>\n",
       "      <th>cluster</th>\n",
       "    </tr>\n",
       "  </thead>\n",
       "  <tbody>\n",
       "    <tr>\n",
       "      <th>802</th>\n",
       "      <td>White Iverson</td>\n",
       "      <td>1Bi5t0q9j3nYXIZuZgSGvr</td>\n",
       "      <td>Post Malone</td>\n",
       "      <td>0</td>\n",
       "    </tr>\n",
       "  </tbody>\n",
       "</table>\n",
       "</div>"
      ],
      "text/plain": [
       "              song                 song_ID       artist  cluster\n",
       "802  White Iverson  1Bi5t0q9j3nYXIZuZgSGvr  Post Malone        0"
      ]
     },
     "execution_count": 493,
     "metadata": {},
     "output_type": "execute_result"
    }
   ],
   "source": [
    "#verify if value is in the df, cluster and artist\n",
    "f_df.loc[f_df['song'] == \"White Iverson\"]"
   ]
  }
 ],
 "metadata": {
  "kernelspec": {
   "display_name": "Python 3 (ipykernel)",
   "language": "python",
   "name": "python3"
  },
  "language_info": {
   "codemirror_mode": {
    "name": "ipython",
    "version": 3
   },
   "file_extension": ".py",
   "mimetype": "text/x-python",
   "name": "python",
   "nbconvert_exporter": "python",
   "pygments_lexer": "ipython3",
   "version": "3.8.12"
  },
  "toc": {
   "base_numbering": 1,
   "nav_menu": {},
   "number_sections": true,
   "sideBar": true,
   "skip_h1_title": false,
   "title_cell": "Table of Contents",
   "title_sidebar": "Contents",
   "toc_cell": false,
   "toc_position": {
    "height": "calc(100% - 180px)",
    "left": "10px",
    "top": "150px",
    "width": "256px"
   },
   "toc_section_display": true,
   "toc_window_display": true
  }
 },
 "nbformat": 4,
 "nbformat_minor": 5
}
